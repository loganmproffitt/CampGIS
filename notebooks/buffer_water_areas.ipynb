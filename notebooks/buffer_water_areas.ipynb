{
 "cells": [
  {
   "cell_type": "markdown",
   "id": "1831f2b6",
   "metadata": {},
   "source": [
    "**Buffer Water Areas**"
   ]
  },
  {
   "cell_type": "code",
   "execution_count": 1,
   "id": "121e4bb6",
   "metadata": {},
   "outputs": [],
   "source": [
    "import geopandas as gpd\n",
    "import sys\n",
    "from pathlib import Path\n",
    "\n",
    "import sys\n",
    "from pathlib import Path\n",
    "\n",
    "notebook_path = Path.cwd()\n",
    "project_root = notebook_path.parent\n",
    "sys.path.append(str(project_root))\n",
    "\n",
    "\n",
    "from scripts import config\n",
    "from scripts.tasks.buffer_mvum_roads import buffer_mvum_roads\n",
    "from scripts.tasks.buffer_water_features import buffer_water_flowlines, buffer_water_areas"
   ]
  },
  {
   "cell_type": "markdown",
   "id": "ff87e2ff",
   "metadata": {},
   "source": [
    "Let's inspect the data."
   ]
  },
  {
   "cell_type": "code",
   "execution_count": 3,
   "id": "f25e82ed",
   "metadata": {},
   "outputs": [
    {
     "name": "stderr",
     "output_type": "stream",
     "text": [
      "/Users/loganproffitt/Desktop/CampGIS.nosync/Repo/CampGIS/venv/lib/python3.11/site-packages/pyogrio/raw.py:198: RuntimeWarning: organizePolygons() received a polygon with more than 100 parts. The processing may be really slow.  You can skip the processing by setting METHOD=SKIP, or only make it analyze counter-clock wise parts by setting METHOD=ONLY_CCW if you can assume that the outline of holes is counter-clock wise defined\n",
      "  return ogr_read(\n"
     ]
    },
    {
     "name": "stdout",
     "output_type": "stream",
     "text": [
      "Original CRS: EPSG:4269, Features: 118464\n"
     ]
    },
    {
     "data": {
      "text/html": [
       "<div>\n",
       "<style scoped>\n",
       "    .dataframe tbody tr th:only-of-type {\n",
       "        vertical-align: middle;\n",
       "    }\n",
       "\n",
       "    .dataframe tbody tr th {\n",
       "        vertical-align: top;\n",
       "    }\n",
       "\n",
       "    .dataframe thead th {\n",
       "        text-align: right;\n",
       "    }\n",
       "</style>\n",
       "<table border=\"1\" class=\"dataframe\">\n",
       "  <thead>\n",
       "    <tr style=\"text-align: right;\">\n",
       "      <th></th>\n",
       "      <th>FID_CO_State_Boundary_Buffer</th>\n",
       "      <th>FID_NHDArea</th>\n",
       "      <th>permanent_identifier</th>\n",
       "      <th>fdate</th>\n",
       "      <th>resolution</th>\n",
       "      <th>gnis_id</th>\n",
       "      <th>gnis_name</th>\n",
       "      <th>areasqkm</th>\n",
       "      <th>elevation</th>\n",
       "      <th>ftype</th>\n",
       "      <th>...</th>\n",
       "      <th>vpuid</th>\n",
       "      <th>onoffnet</th>\n",
       "      <th>purpcode</th>\n",
       "      <th>burn</th>\n",
       "      <th>FID_NHDWaterbody</th>\n",
       "      <th>reachcode</th>\n",
       "      <th>MERGE_SRC</th>\n",
       "      <th>Shape_Length</th>\n",
       "      <th>Shape_Area</th>\n",
       "      <th>geometry</th>\n",
       "    </tr>\n",
       "  </thead>\n",
       "  <tbody>\n",
       "    <tr>\n",
       "      <th>0</th>\n",
       "      <td>1</td>\n",
       "      <td>93903.0</td>\n",
       "      <td>127819176</td>\n",
       "      <td>2004-10-20 10:45:11+00:00</td>\n",
       "      <td>2</td>\n",
       "      <td>None</td>\n",
       "      <td>None</td>\n",
       "      <td>0.022000</td>\n",
       "      <td>NaN</td>\n",
       "      <td>460</td>\n",
       "      <td>...</td>\n",
       "      <td>1019</td>\n",
       "      <td>1.0</td>\n",
       "      <td>WB</td>\n",
       "      <td>1.0</td>\n",
       "      <td>NaN</td>\n",
       "      <td>None</td>\n",
       "      <td>NHDArea_CO</td>\n",
       "      <td>0.032873</td>\n",
       "      <td>2.331754e-06</td>\n",
       "      <td>MULTIPOLYGON Z (((-105.94407 38.9969 0, -105.9...</td>\n",
       "    </tr>\n",
       "    <tr>\n",
       "      <th>1</th>\n",
       "      <td>1</td>\n",
       "      <td>93982.0</td>\n",
       "      <td>127819425</td>\n",
       "      <td>2004-10-20 10:45:27+00:00</td>\n",
       "      <td>2</td>\n",
       "      <td>None</td>\n",
       "      <td>None</td>\n",
       "      <td>0.207000</td>\n",
       "      <td>NaN</td>\n",
       "      <td>460</td>\n",
       "      <td>...</td>\n",
       "      <td>1019</td>\n",
       "      <td>1.0</td>\n",
       "      <td>WB</td>\n",
       "      <td>1.0</td>\n",
       "      <td>NaN</td>\n",
       "      <td>None</td>\n",
       "      <td>NHDArea_CO</td>\n",
       "      <td>0.218455</td>\n",
       "      <td>2.151835e-05</td>\n",
       "      <td>MULTIPOLYGON Z (((-105.61728 38.97288 0, -105....</td>\n",
       "    </tr>\n",
       "    <tr>\n",
       "      <th>2</th>\n",
       "      <td>1</td>\n",
       "      <td>94601.0</td>\n",
       "      <td>127819171</td>\n",
       "      <td>2015-09-16 00:00:00+00:00</td>\n",
       "      <td>2</td>\n",
       "      <td>None</td>\n",
       "      <td>None</td>\n",
       "      <td>1.254206</td>\n",
       "      <td>NaN</td>\n",
       "      <td>460</td>\n",
       "      <td>...</td>\n",
       "      <td>1019</td>\n",
       "      <td>1.0</td>\n",
       "      <td>WB</td>\n",
       "      <td>1.0</td>\n",
       "      <td>NaN</td>\n",
       "      <td>None</td>\n",
       "      <td>NHDArea_CO</td>\n",
       "      <td>1.867060</td>\n",
       "      <td>1.305322e-04</td>\n",
       "      <td>MULTIPOLYGON Z (((-106.00045 39.22189 0, -106....</td>\n",
       "    </tr>\n",
       "    <tr>\n",
       "      <th>3</th>\n",
       "      <td>1</td>\n",
       "      <td>100977.0</td>\n",
       "      <td>133053032</td>\n",
       "      <td>2005-03-14 20:58:06+00:00</td>\n",
       "      <td>2</td>\n",
       "      <td>None</td>\n",
       "      <td>None</td>\n",
       "      <td>0.008000</td>\n",
       "      <td>NaN</td>\n",
       "      <td>484</td>\n",
       "      <td>...</td>\n",
       "      <td>1102</td>\n",
       "      <td>NaN</td>\n",
       "      <td>None</td>\n",
       "      <td>NaN</td>\n",
       "      <td>NaN</td>\n",
       "      <td>None</td>\n",
       "      <td>NHDArea_CO</td>\n",
       "      <td>0.004659</td>\n",
       "      <td>7.805267e-07</td>\n",
       "      <td>MULTIPOLYGON Z (((-105.97029 38.81162 0, -105....</td>\n",
       "    </tr>\n",
       "    <tr>\n",
       "      <th>4</th>\n",
       "      <td>1</td>\n",
       "      <td>101018.0</td>\n",
       "      <td>133053031</td>\n",
       "      <td>2005-03-14 20:58:05+00:00</td>\n",
       "      <td>2</td>\n",
       "      <td>None</td>\n",
       "      <td>None</td>\n",
       "      <td>0.010000</td>\n",
       "      <td>NaN</td>\n",
       "      <td>484</td>\n",
       "      <td>...</td>\n",
       "      <td>1102</td>\n",
       "      <td>NaN</td>\n",
       "      <td>None</td>\n",
       "      <td>NaN</td>\n",
       "      <td>NaN</td>\n",
       "      <td>None</td>\n",
       "      <td>NHDArea_CO</td>\n",
       "      <td>0.004893</td>\n",
       "      <td>1.055364e-06</td>\n",
       "      <td>MULTIPOLYGON Z (((-105.96977 38.81598 0, -105....</td>\n",
       "    </tr>\n",
       "  </tbody>\n",
       "</table>\n",
       "<p>5 rows × 23 columns</p>\n",
       "</div>"
      ],
      "text/plain": [
       "   FID_CO_State_Boundary_Buffer  FID_NHDArea permanent_identifier  \\\n",
       "0                             1      93903.0            127819176   \n",
       "1                             1      93982.0            127819425   \n",
       "2                             1      94601.0            127819171   \n",
       "3                             1     100977.0            133053032   \n",
       "4                             1     101018.0            133053031   \n",
       "\n",
       "                      fdate  resolution gnis_id gnis_name  areasqkm  \\\n",
       "0 2004-10-20 10:45:11+00:00           2    None      None  0.022000   \n",
       "1 2004-10-20 10:45:27+00:00           2    None      None  0.207000   \n",
       "2 2015-09-16 00:00:00+00:00           2    None      None  1.254206   \n",
       "3 2005-03-14 20:58:06+00:00           2    None      None  0.008000   \n",
       "4 2005-03-14 20:58:05+00:00           2    None      None  0.010000   \n",
       "\n",
       "   elevation  ftype  ...  vpuid  onoffnet  purpcode burn  FID_NHDWaterbody  \\\n",
       "0        NaN    460  ...   1019       1.0        WB  1.0               NaN   \n",
       "1        NaN    460  ...   1019       1.0        WB  1.0               NaN   \n",
       "2        NaN    460  ...   1019       1.0        WB  1.0               NaN   \n",
       "3        NaN    484  ...   1102       NaN      None  NaN               NaN   \n",
       "4        NaN    484  ...   1102       NaN      None  NaN               NaN   \n",
       "\n",
       "  reachcode   MERGE_SRC  Shape_Length    Shape_Area  \\\n",
       "0      None  NHDArea_CO      0.032873  2.331754e-06   \n",
       "1      None  NHDArea_CO      0.218455  2.151835e-05   \n",
       "2      None  NHDArea_CO      1.867060  1.305322e-04   \n",
       "3      None  NHDArea_CO      0.004659  7.805267e-07   \n",
       "4      None  NHDArea_CO      0.004893  1.055364e-06   \n",
       "\n",
       "                                            geometry  \n",
       "0  MULTIPOLYGON Z (((-105.94407 38.9969 0, -105.9...  \n",
       "1  MULTIPOLYGON Z (((-105.61728 38.97288 0, -105....  \n",
       "2  MULTIPOLYGON Z (((-106.00045 39.22189 0, -106....  \n",
       "3  MULTIPOLYGON Z (((-105.97029 38.81162 0, -105....  \n",
       "4  MULTIPOLYGON Z (((-105.96977 38.81598 0, -105....  \n",
       "\n",
       "[5 rows x 23 columns]"
      ]
     },
     "execution_count": 3,
     "metadata": {},
     "output_type": "execute_result"
    }
   ],
   "source": [
    "# Load dataset\n",
    "gdf = gpd.read_file(config.GDB_PATH, layer=\"Water_Area_CO\")\n",
    "print(f\"Original CRS: {gdf.crs}, Features: {len(gdf)}\")\n",
    "\n",
    "gdf.head()\n"
   ]
  },
  {
   "cell_type": "markdown",
   "id": "273b0e00",
   "metadata": {},
   "source": [
    "Let's check out the features."
   ]
  },
  {
   "cell_type": "code",
   "execution_count": 4,
   "id": "6b9f2be2",
   "metadata": {},
   "outputs": [
    {
     "name": "stdout",
     "output_type": "stream",
     "text": [
      "['FID_CO_State_Boundary_Buffer', 'FID_NHDArea', 'permanent_identifier', 'fdate', 'resolution', 'gnis_id', 'gnis_name', 'areasqkm', 'elevation', 'ftype', 'fcode', 'visibilityfilter', 'nhdplusid', 'vpuid', 'onoffnet', 'purpcode', 'burn', 'FID_NHDWaterbody', 'reachcode', 'MERGE_SRC', 'Shape_Length', 'Shape_Area', 'geometry']\n"
     ]
    }
   ],
   "source": [
    "print(gdf.columns.tolist())"
   ]
  },
  {
   "cell_type": "markdown",
   "id": "30da2c5a",
   "metadata": {},
   "source": [
    "First of all, let's drop all unnecessary columns."
   ]
  },
  {
   "cell_type": "code",
   "execution_count": 5,
   "id": "8c93bcec",
   "metadata": {},
   "outputs": [
    {
     "data": {
      "text/html": [
       "<div>\n",
       "<style scoped>\n",
       "    .dataframe tbody tr th:only-of-type {\n",
       "        vertical-align: middle;\n",
       "    }\n",
       "\n",
       "    .dataframe tbody tr th {\n",
       "        vertical-align: top;\n",
       "    }\n",
       "\n",
       "    .dataframe thead th {\n",
       "        text-align: right;\n",
       "    }\n",
       "</style>\n",
       "<table border=\"1\" class=\"dataframe\">\n",
       "  <thead>\n",
       "    <tr style=\"text-align: right;\">\n",
       "      <th></th>\n",
       "      <th>geometry</th>\n",
       "      <th>permanent_identifier</th>\n",
       "      <th>fcode</th>\n",
       "      <th>Shape_Area</th>\n",
       "      <th>Shape_Length</th>\n",
       "    </tr>\n",
       "  </thead>\n",
       "  <tbody>\n",
       "    <tr>\n",
       "      <th>0</th>\n",
       "      <td>MULTIPOLYGON Z (((-105.94407 38.9969 0, -105.9...</td>\n",
       "      <td>127819176</td>\n",
       "      <td>46006</td>\n",
       "      <td>2.331754e-06</td>\n",
       "      <td>0.032873</td>\n",
       "    </tr>\n",
       "    <tr>\n",
       "      <th>1</th>\n",
       "      <td>MULTIPOLYGON Z (((-105.61728 38.97288 0, -105....</td>\n",
       "      <td>127819425</td>\n",
       "      <td>46006</td>\n",
       "      <td>2.151835e-05</td>\n",
       "      <td>0.218455</td>\n",
       "    </tr>\n",
       "    <tr>\n",
       "      <th>2</th>\n",
       "      <td>MULTIPOLYGON Z (((-106.00045 39.22189 0, -106....</td>\n",
       "      <td>127819171</td>\n",
       "      <td>46006</td>\n",
       "      <td>1.305322e-04</td>\n",
       "      <td>1.867060</td>\n",
       "    </tr>\n",
       "    <tr>\n",
       "      <th>3</th>\n",
       "      <td>MULTIPOLYGON Z (((-105.97029 38.81162 0, -105....</td>\n",
       "      <td>133053032</td>\n",
       "      <td>48400</td>\n",
       "      <td>7.805267e-07</td>\n",
       "      <td>0.004659</td>\n",
       "    </tr>\n",
       "    <tr>\n",
       "      <th>4</th>\n",
       "      <td>MULTIPOLYGON Z (((-105.96977 38.81598 0, -105....</td>\n",
       "      <td>133053031</td>\n",
       "      <td>48400</td>\n",
       "      <td>1.055364e-06</td>\n",
       "      <td>0.004893</td>\n",
       "    </tr>\n",
       "  </tbody>\n",
       "</table>\n",
       "</div>"
      ],
      "text/plain": [
       "                                            geometry permanent_identifier  \\\n",
       "0  MULTIPOLYGON Z (((-105.94407 38.9969 0, -105.9...            127819176   \n",
       "1  MULTIPOLYGON Z (((-105.61728 38.97288 0, -105....            127819425   \n",
       "2  MULTIPOLYGON Z (((-106.00045 39.22189 0, -106....            127819171   \n",
       "3  MULTIPOLYGON Z (((-105.97029 38.81162 0, -105....            133053032   \n",
       "4  MULTIPOLYGON Z (((-105.96977 38.81598 0, -105....            133053031   \n",
       "\n",
       "   fcode    Shape_Area  Shape_Length  \n",
       "0  46006  2.331754e-06      0.032873  \n",
       "1  46006  2.151835e-05      0.218455  \n",
       "2  46006  1.305322e-04      1.867060  \n",
       "3  48400  7.805267e-07      0.004659  \n",
       "4  48400  1.055364e-06      0.004893  "
      ]
     },
     "execution_count": 5,
     "metadata": {},
     "output_type": "execute_result"
    }
   ],
   "source": [
    "gdf = gdf[[\"geometry\", \"permanent_identifier\", \"fcode\", \"Shape_Area\", \"Shape_Length\"]]\n",
    "gdf.head()"
   ]
  },
  {
   "cell_type": "markdown",
   "id": "2042e35f",
   "metadata": {},
   "source": [
    "For our purposes, we don't really need elevation in the geometry (multilinestring Z); if we really need elevation, we can get that from a separate elevation layer. The Z coordinates might be messing with gpkg exporting, so let's drop it."
   ]
  },
  {
   "cell_type": "code",
   "execution_count": 6,
   "id": "12d0d807",
   "metadata": {},
   "outputs": [
    {
     "data": {
      "text/html": [
       "<div>\n",
       "<style scoped>\n",
       "    .dataframe tbody tr th:only-of-type {\n",
       "        vertical-align: middle;\n",
       "    }\n",
       "\n",
       "    .dataframe tbody tr th {\n",
       "        vertical-align: top;\n",
       "    }\n",
       "\n",
       "    .dataframe thead th {\n",
       "        text-align: right;\n",
       "    }\n",
       "</style>\n",
       "<table border=\"1\" class=\"dataframe\">\n",
       "  <thead>\n",
       "    <tr style=\"text-align: right;\">\n",
       "      <th></th>\n",
       "      <th>geometry</th>\n",
       "      <th>permanent_identifier</th>\n",
       "      <th>fcode</th>\n",
       "      <th>Shape_Area</th>\n",
       "      <th>Shape_Length</th>\n",
       "    </tr>\n",
       "  </thead>\n",
       "  <tbody>\n",
       "    <tr>\n",
       "      <th>0</th>\n",
       "      <td>MULTIPOLYGON Z (((-105.94407 38.9969 0, -105.9...</td>\n",
       "      <td>127819176</td>\n",
       "      <td>46006</td>\n",
       "      <td>2.331754e-06</td>\n",
       "      <td>0.032873</td>\n",
       "    </tr>\n",
       "    <tr>\n",
       "      <th>1</th>\n",
       "      <td>MULTIPOLYGON Z (((-105.61728 38.97288 0, -105....</td>\n",
       "      <td>127819425</td>\n",
       "      <td>46006</td>\n",
       "      <td>2.151835e-05</td>\n",
       "      <td>0.218455</td>\n",
       "    </tr>\n",
       "    <tr>\n",
       "      <th>2</th>\n",
       "      <td>MULTIPOLYGON Z (((-106.00045 39.22189 0, -106....</td>\n",
       "      <td>127819171</td>\n",
       "      <td>46006</td>\n",
       "      <td>1.305322e-04</td>\n",
       "      <td>1.867060</td>\n",
       "    </tr>\n",
       "    <tr>\n",
       "      <th>3</th>\n",
       "      <td>MULTIPOLYGON Z (((-105.97029 38.81162 0, -105....</td>\n",
       "      <td>133053032</td>\n",
       "      <td>48400</td>\n",
       "      <td>7.805267e-07</td>\n",
       "      <td>0.004659</td>\n",
       "    </tr>\n",
       "    <tr>\n",
       "      <th>4</th>\n",
       "      <td>MULTIPOLYGON Z (((-105.96977 38.81598 0, -105....</td>\n",
       "      <td>133053031</td>\n",
       "      <td>48400</td>\n",
       "      <td>1.055364e-06</td>\n",
       "      <td>0.004893</td>\n",
       "    </tr>\n",
       "  </tbody>\n",
       "</table>\n",
       "</div>"
      ],
      "text/plain": [
       "                                            geometry permanent_identifier  \\\n",
       "0  MULTIPOLYGON Z (((-105.94407 38.9969 0, -105.9...            127819176   \n",
       "1  MULTIPOLYGON Z (((-105.61728 38.97288 0, -105....            127819425   \n",
       "2  MULTIPOLYGON Z (((-106.00045 39.22189 0, -106....            127819171   \n",
       "3  MULTIPOLYGON Z (((-105.97029 38.81162 0, -105....            133053032   \n",
       "4  MULTIPOLYGON Z (((-105.96977 38.81598 0, -105....            133053031   \n",
       "\n",
       "   fcode    Shape_Area  Shape_Length  \n",
       "0  46006  2.331754e-06      0.032873  \n",
       "1  46006  2.151835e-05      0.218455  \n",
       "2  46006  1.305322e-04      1.867060  \n",
       "3  48400  7.805267e-07      0.004659  \n",
       "4  48400  1.055364e-06      0.004893  "
      ]
     },
     "execution_count": 6,
     "metadata": {},
     "output_type": "execute_result"
    }
   ],
   "source": [
    "from shapely.geometry import LineString, MultiLineString\n",
    "\n",
    "def drop_z(geom):\n",
    "    if geom is None:\n",
    "        return None\n",
    "    if geom.has_z:\n",
    "        if isinstance(geom, LineString):\n",
    "            return LineString([(pt[0], pt[1]) for pt in geom.coords])\n",
    "        elif isinstance(geom, MultiLineString):\n",
    "            return MultiLineString([\n",
    "                LineString([(pt[0], pt[1]) for pt in line.coords])\n",
    "                for line in geom.geoms\n",
    "            ])\n",
    "    return geom\n",
    "\n",
    "gdf[\"geometry\"] = gdf[\"geometry\"].apply(drop_z)\n",
    "gdf.head()"
   ]
  },
  {
   "cell_type": "markdown",
   "id": "c7789ac3",
   "metadata": {},
   "source": [
    "Let's do some cleaning. First, we need to project to the right CRS, then check for empty/invalid geometries. There's also a weird UUID entry in permanent_Identifier - let's cast that field to string just in case. Finally, let's rebuffer the geometry and simplify with a tolerance of 1 to ensure exporting goes smoothly."
   ]
  },
  {
   "cell_type": "code",
   "execution_count": 7,
   "id": "6f08df5a",
   "metadata": {},
   "outputs": [
    {
     "name": "stdout",
     "output_type": "stream",
     "text": [
      "Initial count: 118464\n",
      "After validity check: 118436\n"
     ]
    }
   ],
   "source": [
    "print(\"Initial count:\", len(gdf))\n",
    "\n",
    "# Remove invalid or empty geometries\n",
    "gdf = gdf[~gdf.geometry.is_empty & gdf.geometry.is_valid]\n",
    "print(\"After validity check:\", len(gdf))\n",
    "\n",
    "gdf[\"permanent_identifier\"] = gdf[\"permanent_identifier\"].astype(str)\n"
   ]
  },
  {
   "cell_type": "markdown",
   "id": "d4e1b46a",
   "metadata": {},
   "source": [
    "Project to CRS and buffer."
   ]
  },
  {
   "cell_type": "code",
   "execution_count": 8,
   "id": "043ac319",
   "metadata": {},
   "outputs": [],
   "source": [
    "gdf = gdf.to_crs(config.BUFFER_CRS)\n",
    "gdf[\"geometry\"] = gdf.geometry.buffer(config.BUFFER_DISTANCE_WATER_FT)"
   ]
  },
  {
   "cell_type": "markdown",
   "id": "e41cb6b6",
   "metadata": {},
   "source": [
    "Check types."
   ]
  },
  {
   "cell_type": "code",
   "execution_count": 9,
   "id": "6d2d143a",
   "metadata": {},
   "outputs": [
    {
     "name": "stdout",
     "output_type": "stream",
     "text": [
      "geometry_type\n",
      "Polygon         118432\n",
      "MultiPolygon         4\n",
      "Name: count, dtype: int64\n"
     ]
    }
   ],
   "source": [
    "gdf[\"geometry_type\"] = gdf.geometry.geom_type\n",
    "print(gdf[\"geometry_type\"].value_counts())\n"
   ]
  },
  {
   "cell_type": "markdown",
   "id": "5af798ea",
   "metadata": {},
   "source": [
    "We have mismatching types, so let's convert all polygons to multipolygons."
   ]
  },
  {
   "cell_type": "code",
   "execution_count": 10,
   "id": "49256a06",
   "metadata": {},
   "outputs": [
    {
     "name": "stdout",
     "output_type": "stream",
     "text": [
      "geometry_type\n",
      "MultiPolygon    118436\n",
      "Name: count, dtype: int64\n"
     ]
    },
    {
     "data": {
      "text/html": [
       "<div>\n",
       "<style scoped>\n",
       "    .dataframe tbody tr th:only-of-type {\n",
       "        vertical-align: middle;\n",
       "    }\n",
       "\n",
       "    .dataframe tbody tr th {\n",
       "        vertical-align: top;\n",
       "    }\n",
       "\n",
       "    .dataframe thead th {\n",
       "        text-align: right;\n",
       "    }\n",
       "</style>\n",
       "<table border=\"1\" class=\"dataframe\">\n",
       "  <thead>\n",
       "    <tr style=\"text-align: right;\">\n",
       "      <th></th>\n",
       "      <th>geometry</th>\n",
       "      <th>permanent_identifier</th>\n",
       "      <th>fcode</th>\n",
       "      <th>Shape_Area</th>\n",
       "      <th>Shape_Length</th>\n",
       "      <th>geometry_type</th>\n",
       "    </tr>\n",
       "  </thead>\n",
       "  <tbody>\n",
       "    <tr>\n",
       "      <th>0</th>\n",
       "      <td>MULTIPOLYGON (((417952.468 4316769.948, 417950...</td>\n",
       "      <td>127819176</td>\n",
       "      <td>46006</td>\n",
       "      <td>2.331754e-06</td>\n",
       "      <td>0.032873</td>\n",
       "      <td>MultiPolygon</td>\n",
       "    </tr>\n",
       "    <tr>\n",
       "      <th>1</th>\n",
       "      <td>MULTIPOLYGON (((446270.954 4314046.577, 446274...</td>\n",
       "      <td>127819425</td>\n",
       "      <td>46006</td>\n",
       "      <td>2.151835e-05</td>\n",
       "      <td>0.218455</td>\n",
       "      <td>MultiPolygon</td>\n",
       "    </tr>\n",
       "    <tr>\n",
       "      <th>2</th>\n",
       "      <td>MULTIPOLYGON (((413520.586 4341678.75, 413511....</td>\n",
       "      <td>127819171</td>\n",
       "      <td>46006</td>\n",
       "      <td>1.305322e-04</td>\n",
       "      <td>1.867060</td>\n",
       "      <td>MultiPolygon</td>\n",
       "    </tr>\n",
       "    <tr>\n",
       "      <th>3</th>\n",
       "      <td>MULTIPOLYGON (((415586.987 4296187.181, 415577...</td>\n",
       "      <td>133053032</td>\n",
       "      <td>48400</td>\n",
       "      <td>7.805267e-07</td>\n",
       "      <td>0.004659</td>\n",
       "      <td>MultiPolygon</td>\n",
       "    </tr>\n",
       "    <tr>\n",
       "      <th>4</th>\n",
       "      <td>MULTIPOLYGON (((415726.254 4297048.513, 415731...</td>\n",
       "      <td>133053031</td>\n",
       "      <td>48400</td>\n",
       "      <td>1.055364e-06</td>\n",
       "      <td>0.004893</td>\n",
       "      <td>MultiPolygon</td>\n",
       "    </tr>\n",
       "  </tbody>\n",
       "</table>\n",
       "</div>"
      ],
      "text/plain": [
       "                                            geometry permanent_identifier  \\\n",
       "0  MULTIPOLYGON (((417952.468 4316769.948, 417950...            127819176   \n",
       "1  MULTIPOLYGON (((446270.954 4314046.577, 446274...            127819425   \n",
       "2  MULTIPOLYGON (((413520.586 4341678.75, 413511....            127819171   \n",
       "3  MULTIPOLYGON (((415586.987 4296187.181, 415577...            133053032   \n",
       "4  MULTIPOLYGON (((415726.254 4297048.513, 415731...            133053031   \n",
       "\n",
       "   fcode    Shape_Area  Shape_Length geometry_type  \n",
       "0  46006  2.331754e-06      0.032873  MultiPolygon  \n",
       "1  46006  2.151835e-05      0.218455  MultiPolygon  \n",
       "2  46006  1.305322e-04      1.867060  MultiPolygon  \n",
       "3  48400  7.805267e-07      0.004659  MultiPolygon  \n",
       "4  48400  1.055364e-06      0.004893  MultiPolygon  "
      ]
     },
     "execution_count": 10,
     "metadata": {},
     "output_type": "execute_result"
    }
   ],
   "source": [
    "from shapely.geometry import MultiPolygon, Polygon\n",
    "\n",
    "def ensure_multipolygon(geom):\n",
    "    if geom is None or geom.is_empty:\n",
    "        return geom\n",
    "    if isinstance(geom, Polygon):\n",
    "        return MultiPolygon([geom])\n",
    "    elif isinstance(geom, MultiPolygon):\n",
    "        return geom\n",
    "    return geom\n",
    "\n",
    "gdf[\"geometry\"] = gdf[\"geometry\"].apply(ensure_multipolygon)\n",
    "\n",
    "gdf[\"geometry_type\"] = gdf.geometry.geom_type\n",
    "print(gdf[\"geometry_type\"].value_counts())\n",
    "\n",
    "gdf.head()"
   ]
  },
  {
   "cell_type": "markdown",
   "id": "ec13107f",
   "metadata": {},
   "source": [
    "Now let's export the data."
   ]
  },
  {
   "cell_type": "code",
   "execution_count": null,
   "id": "0720df4f",
   "metadata": {},
   "outputs": [
    {
     "name": "stdout",
     "output_type": "stream",
     "text": [
      "Saved buffered flowlines to: /Users/loganproffitt/Desktop/CampGIS.nosync/Repo/CampGIS/outputs/water_flowlines_buffered/water_flowlines_buffered.gpkg\n"
     ]
    }
   ],
   "source": [
    "output_folder = config.OUTPUT_DIR / \"water_areas_buffered\"\n",
    "output_folder.mkdir(parents=True, exist_ok=True)\n",
    "\n",
    "output_fp = output_folder / \"water_areas_buffered.gpkg\"\n",
    "gdf.to_file(output_fp, driver=\"GPKG\")\n",
    "\n",
    "print(\"Saved buffered areas to:\", output_fp)"
   ]
  },
  {
   "cell_type": "code",
   "execution_count": null,
   "id": "6a58b819",
   "metadata": {},
   "outputs": [],
   "source": []
  }
 ],
 "metadata": {
  "kernelspec": {
   "display_name": "venv",
   "language": "python",
   "name": "python3"
  },
  "language_info": {
   "codemirror_mode": {
    "name": "ipython",
    "version": 3
   },
   "file_extension": ".py",
   "mimetype": "text/x-python",
   "name": "python",
   "nbconvert_exporter": "python",
   "pygments_lexer": "ipython3",
   "version": "3.11.8"
  }
 },
 "nbformat": 4,
 "nbformat_minor": 5
}
