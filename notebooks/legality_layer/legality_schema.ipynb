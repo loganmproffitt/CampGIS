{
 "cells": [
  {
   "cell_type": "code",
   "execution_count": null,
   "id": "3838c63f",
   "metadata": {},
   "outputs": [],
   "source": [
    "import geopandas as gpd\n",
    "import pandas as pd\n",
    "from shapely.geometry import Polygon\n",
    "\n",
    "%run ../../bootstrap.py\n",
    "setup_project_path()\n",
    "\n",
    "from scripts.io_helpers import export_interim\n",
    "\n",
    "columns = {\n",
    "    \"legality\": pd.Series(dtype=\"str\"),\n",
    "    \"reasoning\": pd.Series(dtype=\"str\"),\n",
    "    \"land_owner\": pd.Series(dtype=\"str\"),\n",
    "    \"last_updated\": pd.Series(dtype=\"str\"),\n",
    "    \"geometry\": pd.Series(dtype=\"object\")\n",
    "}\n",
    "\n",
    "schema_gdf = gpd.GeoDataFrame(columns, geometry=\"geometry\", crs=\"EPSG:26913\")\n",
    "export_interim(schema_gdf, \"legality_schema\", driver=\"GPKG\", verbose=True)\n"
   ]
  }
 ],
 "metadata": {
  "language_info": {
   "name": "python"
  }
 },
 "nbformat": 4,
 "nbformat_minor": 5
}
