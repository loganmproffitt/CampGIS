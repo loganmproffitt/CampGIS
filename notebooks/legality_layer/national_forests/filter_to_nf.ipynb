{
 "cells": [
  {
   "cell_type": "markdown",
   "id": "6590e1b6",
   "metadata": {},
   "source": [
    "**Filtering data to national forests**"
   ]
  },
  {
   "cell_type": "code",
   "execution_count": 2,
   "id": "4bf90f46",
   "metadata": {},
   "outputs": [],
   "source": [
    "%run ../../bootstrap.py\n",
    "setup_project_path()\n",
    "\n",
    "from scripts.io_helpers import read_interim_layer, export_interim\n",
    "from scripts.data_helpers import to_buffer_crs\n",
    "from scripts import data_config as dc\n",
    "import geopandas as gpd"
   ]
  },
  {
   "cell_type": "markdown",
   "id": "38a25d4d",
   "metadata": {},
   "source": [
    "**Loading Data**\n",
    "\n",
    "We want to filter water data and MVUM, so let's import that data and land ownership."
   ]
  },
  {
   "cell_type": "code",
   "execution_count": 3,
   "id": "7d2d8134",
   "metadata": {},
   "outputs": [],
   "source": [
    "# Load and project dataset\n",
    "flowline = read_interim_layer(\"water_flowline_buffered\")\n",
    "flowline = to_buffer_crs(flowline)\n",
    "\n",
    "water_area = read_interim_layer(\"water_polygon_buffered\")\n",
    "water_area = to_buffer_crs(flowline)\n",
    "\n",
    "mvum = read_interim_layer(\"mvum_buffered\")\n",
    "mvum = to_buffer_crs(mvum)\n",
    "\n",
    "land_ownership = read_interim_layer(\"land_ownership_clean\")\n",
    "land_ownership = to_buffer_crs(land_ownership)"
   ]
  },
  {
   "cell_type": "markdown",
   "id": "54ea5b5a",
   "metadata": {},
   "source": [
    "Let's check to see what national forests are labeled under the Own_Name column."
   ]
  },
  {
   "cell_type": "code",
   "execution_count": 4,
   "id": "f7065c77",
   "metadata": {},
   "outputs": [
    {
     "data": {
      "text/plain": [
       "array(['BLM', 'USFS', 'NPS', 'JNT', 'CNTY', 'UNKL', 'PVT', 'UNK', 'CITY',\n",
       "       'RWD', 'REG', 'OTHF', 'USBR', 'SFW', 'SLB', 'OTHS'], dtype=object)"
      ]
     },
     "execution_count": 4,
     "metadata": {},
     "output_type": "execute_result"
    }
   ],
   "source": [
    "land_ownership[\"Own_Name\"].unique()"
   ]
  },
  {
   "cell_type": "markdown",
   "id": "c0cab0eb",
   "metadata": {},
   "source": [
    "Let's filter down to USFS."
   ]
  },
  {
   "cell_type": "code",
   "execution_count": 5,
   "id": "ba5b363b",
   "metadata": {},
   "outputs": [],
   "source": [
    "fs_land = land_ownership[land_ownership[\"Own_Name\"] == \"USFS\"]"
   ]
  },
  {
   "cell_type": "markdown",
   "id": "c633bfd4",
   "metadata": {},
   "source": [
    "Now, we want to filter water and mvum data to FS land. We'll use gpd's overlay function to crop anything outside of FS land."
   ]
  },
  {
   "cell_type": "code",
   "execution_count": null,
   "id": "d82f7772",
   "metadata": {},
   "outputs": [],
   "source": [
    "mvum_nf = gpd.overlay(fs_land, mvum, how=\"intersection\")\n",
    "water_polygon_nf = gpd.overlay(fs_land, water_area, how=\"intersection\")\n",
    "water_flowline_nf = gpd.overlay(fs_land, flowline, how=\"intersection\")"
   ]
  },
  {
   "cell_type": "markdown",
   "id": "68cb725b",
   "metadata": {},
   "source": [
    "Now, let's export these files."
   ]
  },
  {
   "cell_type": "code",
   "execution_count": null,
   "id": "cdce20f5",
   "metadata": {},
   "outputs": [
    {
     "ename": "KeyError",
     "evalue": "'legality_schema'",
     "output_type": "error",
     "traceback": [
      "\u001b[31m---------------------------------------------------------------------------\u001b[39m\n",
      "\u001b[31mKeyError\u001b[39m                                  Traceback (most recent call last)\n",
      "\u001b[36mCell\u001b[39m\u001b[36m \u001b[39m\u001b[32mIn[24]\u001b[39m\u001b[32m, line 1\u001b[39m\n",
      "\u001b[32m----> \u001b[39m\u001b[32m1\u001b[39m legality_schema = \u001b[43mread_interim_layer\u001b[49m\u001b[43m(\u001b[49m\u001b[33;43m\"\u001b[39;49m\u001b[33;43mlegality_schema\u001b[39;49m\u001b[33;43m\"\u001b[39;49m\u001b[43m)\u001b[49m\n",
      "\u001b[32m      2\u001b[39m legality_schema.head()\n",
      "\n",
      "\u001b[36mFile \u001b[39m\u001b[32m~/Desktop/CampGIS.nosync/Repo/CampGIS/scripts/io_helpers.py:11\u001b[39m, in \u001b[36mread_interim_layer\u001b[39m\u001b[34m(name)\u001b[39m\n",
      "\u001b[32m      9\u001b[39m \u001b[38;5;28;01mdef\u001b[39;00m\u001b[38;5;250m \u001b[39m\u001b[34mread_interim_layer\u001b[39m(name):\n",
      "\u001b[32m     10\u001b[39m \u001b[38;5;250m    \u001b[39m\u001b[33;03m\"\"\"Load a layer by name from the data registry.\"\"\"\u001b[39;00m\n",
      "\u001b[32m---> \u001b[39m\u001b[32m11\u001b[39m     \u001b[38;5;28;01mreturn\u001b[39;00m gpd.read_file(\u001b[43mdc\u001b[49m\u001b[43m.\u001b[49m\u001b[43mDATA_FILES\u001b[49m\u001b[43m[\u001b[49m\u001b[43mname\u001b[49m\u001b[43m]\u001b[49m)\n",
      "\n",
      "\u001b[31mKeyError\u001b[39m: 'legality_schema'"
     ]
    }
   ],
   "source": [
    "export_interim(mvum_nf, \"mvum_nf\")\n",
    "export_interim(water_polygon_nf, \"water_polygon_nf\")\n",
    "export_interim(water_flowline_nf, \"water_flowline_nf\")"
   ]
  }
 ],
 "metadata": {
  "kernelspec": {
   "display_name": "venv (3.11.8)",
   "language": "python",
   "name": "python3"
  },
  "language_info": {
   "codemirror_mode": {
    "name": "ipython",
    "version": 3
   },
   "file_extension": ".py",
   "mimetype": "text/x-python",
   "name": "python",
   "nbconvert_exporter": "python",
   "pygments_lexer": "ipython3",
   "version": "3.11.8"
  }
 },
 "nbformat": 4,
 "nbformat_minor": 5
}
