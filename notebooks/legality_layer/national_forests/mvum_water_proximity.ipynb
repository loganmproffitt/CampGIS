{
 "cells": [
  {
   "cell_type": "code",
   "execution_count": null,
   "id": "b6f26e44",
   "metadata": {},
   "outputs": [],
   "source": [
    "import geopandas as gpd\n",
    "import sys\n",
    "from pathlib import Path\n",
    "\n",
    "# Set up path\n",
    "%run ../bootstrap.py\n",
    "setup_project_path()\n",
    "\n",
    "from scripts.io_helpers import get_project_root\n",
    "\n",
    "# Get project root\n",
    "project_root = get_project_root()\n",
    "sys.path.append(str(project_root))\n",
    "\n",
    "from scripts import config"
   ]
  },
  {
   "cell_type": "code",
   "execution_count": null,
   "id": "d438cfce",
   "metadata": {},
   "outputs": [],
   "source": [
    "# Load dataset\n",
    "gdf = gpd.read_file(config.INTERIM_PATH, layer=\"Water_Flow_CO\")\n",
    "\n",
    "print(gdf.columns.tolist())\n",
    "gdf.head()"
   ]
  }
 ],
 "metadata": {
  "language_info": {
   "name": "python"
  }
 },
 "nbformat": 4,
 "nbformat_minor": 5
}
