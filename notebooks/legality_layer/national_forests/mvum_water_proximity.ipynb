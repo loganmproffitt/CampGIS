{
 "cells": [
  {
   "cell_type": "markdown",
   "id": "4c495ae4",
   "metadata": {},
   "source": [
    "**MVUM and Water Proximity Legality Rules**\n",
    "\n",
    "In national forests, dispersed camping is typically allowed within 300 feet of an MVUM road, but not within 300 feet of water. There are exceptions, but we can use this rule as a rough guide to see where camping might be legal or is definitely illegal. First, let's set up paths and import helpers."
   ]
  },
  {
   "cell_type": "code",
   "execution_count": 1,
   "id": "b6f26e44",
   "metadata": {},
   "outputs": [],
   "source": [
    "%run ../../bootstrap.py\n",
    "setup_project_path()\n",
    "\n",
    "from scripts.io_helpers import read_interim_layer, export_interim\n",
    "from scripts.data_helpers import to_buffer_crs\n",
    "from scripts.legality_helpers import tag_legality, merge_legality_layers\n",
    "from scripts import data_config as dc\n",
    "\n",
    "import geopandas as gpd\n",
    "import pandas as pd"
   ]
  },
  {
   "cell_type": "markdown",
   "id": "2986a3fa",
   "metadata": {},
   "source": [
    "**Loading Data**\n",
    "\n",
    "For this rule, we need water data (including flowlines and water areas) and MVUM roads. Since this rule is specific to national forests, let's load the pre-filtered data for national forests (make sure to run the filter_to_nf.ipynb notebook first)."
   ]
  },
  {
   "cell_type": "code",
   "execution_count": null,
   "id": "d438cfce",
   "metadata": {},
   "outputs": [],
   "source": [
    "# Load and project dataset\n",
    "flowline = read_interim_layer(\"water_flowline_nf\")\n",
    "flowline = to_buffer_crs(flowline)\n",
    "\n",
    "water_area = read_interim_layer(\"water_polygon_nf\")\n",
    "water_area = to_buffer_crs(water_area)\n",
    "\n",
    "mvum = read_interim_layer(\"mvum_nf\")\n",
    "mvum = to_buffer_crs(mvum)"
   ]
  },
  {
   "cell_type": "markdown",
   "id": "e2210f51",
   "metadata": {},
   "source": [
    "Now, we're ready to create legality rules. To start, we'll assume that buffered mvum geometry is likely or maybe legal for camping. Then, we'll do an erasure between the buffered mvum land and buffered water data to get rid of illegal near-water camping. We'll also add the buffered water layer geometry to an illegal layer.\n",
    "\n",
    "First, let's import the legality schema."
   ]
  },
  {
   "cell_type": "code",
   "execution_count": 3,
   "id": "8d5d4264",
   "metadata": {},
   "outputs": [
    {
     "data": {
      "text/html": [
       "<div>\n",
       "<style scoped>\n",
       "    .dataframe tbody tr th:only-of-type {\n",
       "        vertical-align: middle;\n",
       "    }\n",
       "\n",
       "    .dataframe tbody tr th {\n",
       "        vertical-align: top;\n",
       "    }\n",
       "\n",
       "    .dataframe thead th {\n",
       "        text-align: right;\n",
       "    }\n",
       "</style>\n",
       "<table border=\"1\" class=\"dataframe\">\n",
       "  <thead>\n",
       "    <tr style=\"text-align: right;\">\n",
       "      <th></th>\n",
       "      <th>legality</th>\n",
       "      <th>reasoning</th>\n",
       "      <th>land_owner</th>\n",
       "      <th>last_updated</th>\n",
       "      <th>geometry</th>\n",
       "    </tr>\n",
       "  </thead>\n",
       "  <tbody>\n",
       "  </tbody>\n",
       "</table>\n",
       "</div>"
      ],
      "text/plain": [
       "Empty GeoDataFrame\n",
       "Columns: [legality, reasoning, land_owner, last_updated, geometry]\n",
       "Index: []"
      ]
     },
     "execution_count": 3,
     "metadata": {},
     "output_type": "execute_result"
    }
   ],
   "source": [
    "legality_schema = read_interim_layer(\"legality_schema\")\n",
    "legality_schema.head()"
   ]
  },
  {
   "cell_type": "markdown",
   "id": "08558dc8",
   "metadata": {},
   "source": [
    "Next, let's combine water data into a single geodataframe for simplicity."
   ]
  },
  {
   "cell_type": "code",
   "execution_count": 4,
   "id": "d6c586dc",
   "metadata": {},
   "outputs": [
    {
     "data": {
      "text/html": [
       "<div>\n",
       "<style scoped>\n",
       "    .dataframe tbody tr th:only-of-type {\n",
       "        vertical-align: middle;\n",
       "    }\n",
       "\n",
       "    .dataframe tbody tr th {\n",
       "        vertical-align: top;\n",
       "    }\n",
       "\n",
       "    .dataframe thead th {\n",
       "        text-align: right;\n",
       "    }\n",
       "</style>\n",
       "<table border=\"1\" class=\"dataframe\">\n",
       "  <thead>\n",
       "    <tr style=\"text-align: right;\">\n",
       "      <th></th>\n",
       "      <th>Mang_Name</th>\n",
       "      <th>Loc_Mang</th>\n",
       "      <th>Unit_Nm</th>\n",
       "      <th>Loc_Nm</th>\n",
       "      <th>Des_Tp</th>\n",
       "      <th>Pub_Access</th>\n",
       "      <th>Own_Name</th>\n",
       "      <th>State_Nm</th>\n",
       "      <th>Shape_Length</th>\n",
       "      <th>Shape_Area</th>\n",
       "      <th>gnis_name</th>\n",
       "      <th>fcode</th>\n",
       "      <th>flowdir</th>\n",
       "      <th>innetwork</th>\n",
       "      <th>nhdplusid</th>\n",
       "      <th>lengthkm</th>\n",
       "      <th>reachcode</th>\n",
       "      <th>NHDType</th>\n",
       "      <th>geometry</th>\n",
       "    </tr>\n",
       "  </thead>\n",
       "  <tbody>\n",
       "    <tr>\n",
       "      <th>0</th>\n",
       "      <td>USFS</td>\n",
       "      <td>Forest Service Region 02 Rocky Mountain</td>\n",
       "      <td>Arapaho National Forest</td>\n",
       "      <td>Arapaho and Roosevelt National Forests</td>\n",
       "      <td>NF</td>\n",
       "      <td>OA</td>\n",
       "      <td>USFS</td>\n",
       "      <td>CO</td>\n",
       "      <td>2.344493e+06</td>\n",
       "      <td>2.391679e+09</td>\n",
       "      <td>None</td>\n",
       "      <td>46007</td>\n",
       "      <td>1</td>\n",
       "      <td>1</td>\n",
       "      <td>2.300180e+13</td>\n",
       "      <td>0.393332</td>\n",
       "      <td>10180001016862</td>\n",
       "      <td>NetworkNHDFlowline</td>\n",
       "      <td>MULTIPOLYGON (((420036.616 4470912.486, 420054...</td>\n",
       "    </tr>\n",
       "  </tbody>\n",
       "</table>\n",
       "</div>"
      ],
      "text/plain": [
       "  Mang_Name                                 Loc_Mang                  Unit_Nm  \\\n",
       "0      USFS  Forest Service Region 02 Rocky Mountain  Arapaho National Forest   \n",
       "\n",
       "                                   Loc_Nm Des_Tp Pub_Access Own_Name State_Nm  \\\n",
       "0  Arapaho and Roosevelt National Forests     NF         OA     USFS       CO   \n",
       "\n",
       "   Shape_Length    Shape_Area gnis_name  fcode  flowdir  innetwork  \\\n",
       "0  2.344493e+06  2.391679e+09      None  46007        1          1   \n",
       "\n",
       "      nhdplusid  lengthkm       reachcode             NHDType  \\\n",
       "0  2.300180e+13  0.393332  10180001016862  NetworkNHDFlowline   \n",
       "\n",
       "                                            geometry  \n",
       "0  MULTIPOLYGON (((420036.616 4470912.486, 420054...  "
      ]
     },
     "execution_count": 4,
     "metadata": {},
     "output_type": "execute_result"
    }
   ],
   "source": [
    "water_nf = gpd.GeoDataFrame(\n",
    "    pd.concat([water_area, flowline], ignore_index=True),\n",
    "    crs=water_area.crs\n",
    ")\n",
    "\n",
    "water_nf.head(1)"
   ]
  },
  {
   "cell_type": "markdown",
   "id": "b1422382",
   "metadata": {},
   "source": [
    "**Legality Rules**\n",
    "\n",
    "First, let's mark areas in the buffered water geometry as illegal. We'll make a copy of the buffered water data, add columns for the legality schema, then filter to the legality columns.\n",
    "\n",
    "We can use the tag_legality helper from scripts/legality_helpers.py, which handles all the logic. We just need to pass the gdf with geometry as well as the legality parameters (legality, reasoning, etc.)."
   ]
  },
  {
   "cell_type": "code",
   "execution_count": 5,
   "id": "d460b7b2",
   "metadata": {},
   "outputs": [
    {
     "data": {
      "text/html": [
       "<div>\n",
       "<style scoped>\n",
       "    .dataframe tbody tr th:only-of-type {\n",
       "        vertical-align: middle;\n",
       "    }\n",
       "\n",
       "    .dataframe tbody tr th {\n",
       "        vertical-align: top;\n",
       "    }\n",
       "\n",
       "    .dataframe thead th {\n",
       "        text-align: right;\n",
       "    }\n",
       "</style>\n",
       "<table border=\"1\" class=\"dataframe\">\n",
       "  <thead>\n",
       "    <tr style=\"text-align: right;\">\n",
       "      <th></th>\n",
       "      <th>legality</th>\n",
       "      <th>reasoning</th>\n",
       "      <th>land_owner</th>\n",
       "      <th>last_updated</th>\n",
       "      <th>geometry</th>\n",
       "    </tr>\n",
       "  </thead>\n",
       "  <tbody>\n",
       "    <tr>\n",
       "      <th>0</th>\n",
       "      <td>illegal</td>\n",
       "      <td>Within 200 feet of water features</td>\n",
       "      <td>USFS</td>\n",
       "      <td>2025-08-08</td>\n",
       "      <td>MULTIPOLYGON (((420036.616 4470912.486, 420054...</td>\n",
       "    </tr>\n",
       "    <tr>\n",
       "      <th>1</th>\n",
       "      <td>illegal</td>\n",
       "      <td>Within 200 feet of water features</td>\n",
       "      <td>USFS</td>\n",
       "      <td>2025-08-08</td>\n",
       "      <td>MULTIPOLYGON (((412986.51 4469533.494, 413007....</td>\n",
       "    </tr>\n",
       "    <tr>\n",
       "      <th>2</th>\n",
       "      <td>illegal</td>\n",
       "      <td>Within 200 feet of water features</td>\n",
       "      <td>USFS</td>\n",
       "      <td>2025-08-08</td>\n",
       "      <td>MULTIPOLYGON (((419676.607 4470505.485, 419686...</td>\n",
       "    </tr>\n",
       "    <tr>\n",
       "      <th>3</th>\n",
       "      <td>illegal</td>\n",
       "      <td>Within 200 feet of water features</td>\n",
       "      <td>USFS</td>\n",
       "      <td>2025-08-08</td>\n",
       "      <td>MULTIPOLYGON (((441209.066 4407825.48, 441325....</td>\n",
       "    </tr>\n",
       "    <tr>\n",
       "      <th>4</th>\n",
       "      <td>illegal</td>\n",
       "      <td>Within 200 feet of water features</td>\n",
       "      <td>USFS</td>\n",
       "      <td>2025-08-08</td>\n",
       "      <td>MULTIPOLYGON (((439572.415 4408748.563, 439576...</td>\n",
       "    </tr>\n",
       "  </tbody>\n",
       "</table>\n",
       "</div>"
      ],
      "text/plain": [
       "  legality                          reasoning land_owner last_updated  \\\n",
       "0  illegal  Within 200 feet of water features       USFS   2025-08-08   \n",
       "1  illegal  Within 200 feet of water features       USFS   2025-08-08   \n",
       "2  illegal  Within 200 feet of water features       USFS   2025-08-08   \n",
       "3  illegal  Within 200 feet of water features       USFS   2025-08-08   \n",
       "4  illegal  Within 200 feet of water features       USFS   2025-08-08   \n",
       "\n",
       "                                            geometry  \n",
       "0  MULTIPOLYGON (((420036.616 4470912.486, 420054...  \n",
       "1  MULTIPOLYGON (((412986.51 4469533.494, 413007....  \n",
       "2  MULTIPOLYGON (((419676.607 4470505.485, 419686...  \n",
       "3  MULTIPOLYGON (((441209.066 4407825.48, 441325....  \n",
       "4  MULTIPOLYGON (((439572.415 4408748.563, 439576...  "
      ]
     },
     "execution_count": 5,
     "metadata": {},
     "output_type": "execute_result"
    }
   ],
   "source": [
    "illegal_water = tag_legality(\n",
    "    gdf=water_nf,\n",
    "    legality=\"illegal\",\n",
    "    reasoning=\"Within 200 feet of water features\",\n",
    "    land_owner=\"USFS\"\n",
    ")\n",
    "\n",
    "illegal_water.head()"
   ]
  },
  {
   "cell_type": "markdown",
   "id": "a09bd3b8",
   "metadata": {},
   "source": [
    "Now, let's create the likely legal layer. We'll start with buffered mvum, and do an erasure with buffered water. Then, we'll tag legality and merge that layer with the illegal layer we just generated."
   ]
  },
  {
   "cell_type": "code",
   "execution_count": 6,
   "id": "b887edd1",
   "metadata": {},
   "outputs": [
    {
     "name": "stderr",
     "output_type": "stream",
     "text": [
      "/Users/loganproffitt/Desktop/CampGIS.nosync/Repo/CampGIS/venv/lib/python3.11/site-packages/geopandas/tools/overlay.py:357: UserWarning: `keep_geom_type=True` in overlay resulted in 8176 dropped geometries of different geometry types than df1 has. Set `keep_geom_type=False` to retain all geometries\n",
      "  result = _collection_extract(result, geom_type, keep_geom_type_warning)\n"
     ]
    },
    {
     "data": {
      "text/html": [
       "<div>\n",
       "<style scoped>\n",
       "    .dataframe tbody tr th:only-of-type {\n",
       "        vertical-align: middle;\n",
       "    }\n",
       "\n",
       "    .dataframe tbody tr th {\n",
       "        vertical-align: top;\n",
       "    }\n",
       "\n",
       "    .dataframe thead th {\n",
       "        text-align: right;\n",
       "    }\n",
       "</style>\n",
       "<table border=\"1\" class=\"dataframe\">\n",
       "  <thead>\n",
       "    <tr style=\"text-align: right;\">\n",
       "      <th></th>\n",
       "      <th>legality</th>\n",
       "      <th>reasoning</th>\n",
       "      <th>land_owner</th>\n",
       "      <th>last_updated</th>\n",
       "      <th>geometry</th>\n",
       "    </tr>\n",
       "  </thead>\n",
       "  <tbody>\n",
       "    <tr>\n",
       "      <th>0</th>\n",
       "      <td>likely legal</td>\n",
       "      <td>within 300 feet of mvum access, sufficient dis...</td>\n",
       "      <td>USFS</td>\n",
       "      <td>2025-08-08</td>\n",
       "      <td>MULTIPOLYGON (((405155.406 4466766.474, 405169...</td>\n",
       "    </tr>\n",
       "    <tr>\n",
       "      <th>1</th>\n",
       "      <td>likely legal</td>\n",
       "      <td>within 300 feet of mvum access, sufficient dis...</td>\n",
       "      <td>USFS</td>\n",
       "      <td>2025-08-08</td>\n",
       "      <td>MULTIPOLYGON (((403041.513 4449536.861, 403035...</td>\n",
       "    </tr>\n",
       "    <tr>\n",
       "      <th>2</th>\n",
       "      <td>likely legal</td>\n",
       "      <td>within 300 feet of mvum access, sufficient dis...</td>\n",
       "      <td>USFS</td>\n",
       "      <td>2025-08-08</td>\n",
       "      <td>MULTIPOLYGON (((446385.014 4412202.779, 446388...</td>\n",
       "    </tr>\n",
       "    <tr>\n",
       "      <th>3</th>\n",
       "      <td>likely legal</td>\n",
       "      <td>within 300 feet of mvum access, sufficient dis...</td>\n",
       "      <td>USFS</td>\n",
       "      <td>2025-08-08</td>\n",
       "      <td>POLYGON ((451380.233 4413886.949, 451381.143 4...</td>\n",
       "    </tr>\n",
       "    <tr>\n",
       "      <th>4</th>\n",
       "      <td>likely legal</td>\n",
       "      <td>within 300 feet of mvum access, sufficient dis...</td>\n",
       "      <td>USFS</td>\n",
       "      <td>2025-08-08</td>\n",
       "      <td>MULTIPOLYGON (((447595.135 4408908.129, 447596...</td>\n",
       "    </tr>\n",
       "  </tbody>\n",
       "</table>\n",
       "</div>"
      ],
      "text/plain": [
       "       legality                                          reasoning land_owner  \\\n",
       "0  likely legal  within 300 feet of mvum access, sufficient dis...       USFS   \n",
       "1  likely legal  within 300 feet of mvum access, sufficient dis...       USFS   \n",
       "2  likely legal  within 300 feet of mvum access, sufficient dis...       USFS   \n",
       "3  likely legal  within 300 feet of mvum access, sufficient dis...       USFS   \n",
       "4  likely legal  within 300 feet of mvum access, sufficient dis...       USFS   \n",
       "\n",
       "  last_updated                                           geometry  \n",
       "0   2025-08-08  MULTIPOLYGON (((405155.406 4466766.474, 405169...  \n",
       "1   2025-08-08  MULTIPOLYGON (((403041.513 4449536.861, 403035...  \n",
       "2   2025-08-08  MULTIPOLYGON (((446385.014 4412202.779, 446388...  \n",
       "3   2025-08-08  POLYGON ((451380.233 4413886.949, 451381.143 4...  \n",
       "4   2025-08-08  MULTIPOLYGON (((447595.135 4408908.129, 447596...  "
      ]
     },
     "execution_count": 6,
     "metadata": {},
     "output_type": "execute_result"
    }
   ],
   "source": [
    "mvum_erasure = gpd.overlay(mvum, water_nf, how=\"difference\")\n",
    "\n",
    "likely_legal = tag_legality(\n",
    "    mvum_erasure, \n",
    "    legality=\"likely legal\", \n",
    "    reasoning=\"within 300 feet of mvum access, sufficient distance from water\", \n",
    "    land_owner=\"USFS\"\n",
    ")\n",
    "\n",
    "likely_legal.head()"
   ]
  },
  {
   "cell_type": "markdown",
   "id": "7401c1d2",
   "metadata": {},
   "source": [
    "Now, let's merge those two legality layers using the merge_legality_layers helper."
   ]
  },
  {
   "cell_type": "code",
   "execution_count": 7,
   "id": "ccf085df",
   "metadata": {},
   "outputs": [
    {
     "name": "stdout",
     "output_type": "stream",
     "text": [
      "Saved to interim: /Users/loganproffitt/Desktop/CampGIS.nosync/Repo/CampGIS/data/interim/nf_water_mvum_legality.gpkg\n",
      "Also saved to processed: /Users/loganproffitt/Desktop/CampGIS.nosync/Repo/CampGIS/data/processed/nf_water_mvum_legality.gpkg\n"
     ]
    }
   ],
   "source": [
    "nf_water_mvum_legality = merge_legality_layers([illegal_water, likely_legal])\n",
    "export_interim(nf_water_mvum_legality, \"nf_water_mvum_legality\")"
   ]
  }
 ],
 "metadata": {
  "kernelspec": {
   "display_name": "venv (3.11.8)",
   "language": "python",
   "name": "python3"
  },
  "language_info": {
   "codemirror_mode": {
    "name": "ipython",
    "version": 3
   },
   "file_extension": ".py",
   "mimetype": "text/x-python",
   "name": "python",
   "nbconvert_exporter": "python",
   "pygments_lexer": "ipython3",
   "version": "3.11.8"
  }
 },
 "nbformat": 4,
 "nbformat_minor": 5
}
