{
 "cells": [
  {
   "cell_type": "markdown",
   "id": "4c495ae4",
   "metadata": {},
   "source": [
    "**MVUM and Water Proximity Legality Rules**\n",
    "\n",
    "In national forests, dispersed camping is typically allowed within 300 feet of an MVUM road, but not within 300 feet of water. There are exceptions, but we can use this rule as a rough guide to see where camping might be legal or is definitely illegal. First, let's set up paths and import helpers."
   ]
  },
  {
   "cell_type": "code",
   "execution_count": 25,
   "id": "b6f26e44",
   "metadata": {},
   "outputs": [],
   "source": [
    "%run ../../bootstrap.py\n",
    "setup_project_path()\n",
    "\n",
    "from scripts.io_helpers import read_interim_layer, export_interim\n",
    "from scripts.data_helpers import to_buffer_crs\n",
    "from scripts import data_config as dc\n",
    "\n",
    "import geopandas as gpd"
   ]
  },
  {
   "cell_type": "markdown",
   "id": "2986a3fa",
   "metadata": {},
   "source": [
    "**Loading Data**\n",
    "\n",
    "For this rule, we need water data (including flowlines and water areas) and MVUM roads. Since this rule is specific to national forests, let's load the pre-filtered data for national forests (make sure to run the filter_to_nf.ipynb notebook first)."
   ]
  },
  {
   "cell_type": "code",
   "execution_count": null,
   "id": "d438cfce",
   "metadata": {},
   "outputs": [],
   "source": [
    "# Load and project dataset\n",
    "flowline = read_interim_layer(\"water_flowline_nf\")\n",
    "flowline = to_buffer_crs(flowline)\n",
    "\n",
    "water_area = read_interim_layer(\"water_polygon_nf\")\n",
    "water_area = to_buffer_crs(flowline)\n",
    "\n",
    "mvum = read_interim_layer(\"mvum_nf\")\n",
    "mvum = to_buffer_crs(mvum)"
   ]
  },
  {
   "cell_type": "markdown",
   "id": "e2210f51",
   "metadata": {},
   "source": [
    "Now, we're ready to create legality rules. To start, we'll assume that buffered mvum geometry is likely or maybe legal for camping. Then, we'll do an erasure between the buffered mvum land and buffered water data to get rid of illegal near-water camping. We'll also add the buffered water layer geometry to an illegal layer.\n",
    "\n",
    "First, let's import the legality schema."
   ]
  },
  {
   "cell_type": "code",
   "execution_count": 24,
   "id": "8d5d4264",
   "metadata": {},
   "outputs": [
    {
     "ename": "KeyError",
     "evalue": "'legality_schema'",
     "output_type": "error",
     "traceback": [
      "\u001b[31m---------------------------------------------------------------------------\u001b[39m",
      "\u001b[31mKeyError\u001b[39m                                  Traceback (most recent call last)",
      "\u001b[36mCell\u001b[39m\u001b[36m \u001b[39m\u001b[32mIn[24]\u001b[39m\u001b[32m, line 1\u001b[39m\n\u001b[32m----> \u001b[39m\u001b[32m1\u001b[39m legality_schema = \u001b[43mread_interim_layer\u001b[49m\u001b[43m(\u001b[49m\u001b[33;43m\"\u001b[39;49m\u001b[33;43mlegality_schema\u001b[39;49m\u001b[33;43m\"\u001b[39;49m\u001b[43m)\u001b[49m\n\u001b[32m      2\u001b[39m legality_schema.head()\n",
      "\u001b[36mFile \u001b[39m\u001b[32m~/Desktop/CampGIS.nosync/Repo/CampGIS/scripts/io_helpers.py:11\u001b[39m, in \u001b[36mread_interim_layer\u001b[39m\u001b[34m(name)\u001b[39m\n\u001b[32m      9\u001b[39m \u001b[38;5;28;01mdef\u001b[39;00m\u001b[38;5;250m \u001b[39m\u001b[34mread_interim_layer\u001b[39m(name):\n\u001b[32m     10\u001b[39m \u001b[38;5;250m    \u001b[39m\u001b[33;03m\"\"\"Load a layer by name from the data registry.\"\"\"\u001b[39;00m\n\u001b[32m---> \u001b[39m\u001b[32m11\u001b[39m     \u001b[38;5;28;01mreturn\u001b[39;00m gpd.read_file(\u001b[43mdc\u001b[49m\u001b[43m.\u001b[49m\u001b[43mDATA_FILES\u001b[49m\u001b[43m[\u001b[49m\u001b[43mname\u001b[49m\u001b[43m]\u001b[49m)\n",
      "\u001b[31mKeyError\u001b[39m: 'legality_schema'"
     ]
    }
   ],
   "source": [
    "legality_schema = read_interim_layer(\"legality_schema\")\n",
    "legality_schema.head()"
   ]
  },
  {
   "cell_type": "code",
   "execution_count": null,
   "id": "d6c586dc",
   "metadata": {},
   "outputs": [],
   "source": []
  }
 ],
 "metadata": {
  "kernelspec": {
   "display_name": "venv (3.11.8)",
   "language": "python",
   "name": "python3"
  },
  "language_info": {
   "codemirror_mode": {
    "name": "ipython",
    "version": 3
   },
   "file_extension": ".py",
   "mimetype": "text/x-python",
   "name": "python",
   "nbconvert_exporter": "python",
   "pygments_lexer": "ipython3",
   "version": "3.11.8"
  }
 },
 "nbformat": 4,
 "nbformat_minor": 5
}
