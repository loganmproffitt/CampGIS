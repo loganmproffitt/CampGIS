{
 "cells": [
  {
   "cell_type": "code",
   "execution_count": 6,
   "id": "512efb4c",
   "metadata": {},
   "outputs": [],
   "source": [
    "%run ../../bootstrap.py\n",
    "setup_project_path()\n",
    "\n",
    "from scripts.io_helpers import read_interim_layer, export_interim\n",
    "from scripts.data_helpers import to_buffer_crs\n",
    "from scripts import data_config as dc\n",
    "import geopandas as gpd"
   ]
  },
  {
   "cell_type": "code",
   "execution_count": 3,
   "id": "0f0832a5",
   "metadata": {},
   "outputs": [],
   "source": [
    "land_ownership = read_interim_layer(\"land_ownership_clean\")\n",
    "land_ownership = to_buffer_crs(land_ownership)"
   ]
  },
  {
   "cell_type": "code",
   "execution_count": 5,
   "id": "0f7db8e1",
   "metadata": {},
   "outputs": [
    {
     "data": {
      "text/html": [
       "<div>\n",
       "<style scoped>\n",
       "    .dataframe tbody tr th:only-of-type {\n",
       "        vertical-align: middle;\n",
       "    }\n",
       "\n",
       "    .dataframe tbody tr th {\n",
       "        vertical-align: top;\n",
       "    }\n",
       "\n",
       "    .dataframe thead th {\n",
       "        text-align: right;\n",
       "    }\n",
       "</style>\n",
       "<table border=\"1\" class=\"dataframe\">\n",
       "  <thead>\n",
       "    <tr style=\"text-align: right;\">\n",
       "      <th></th>\n",
       "      <th>Mang_Name</th>\n",
       "      <th>Loc_Mang</th>\n",
       "      <th>Unit_Nm</th>\n",
       "      <th>Loc_Nm</th>\n",
       "      <th>Des_Tp</th>\n",
       "      <th>Pub_Access</th>\n",
       "      <th>Own_Name</th>\n",
       "      <th>State_Nm</th>\n",
       "      <th>Shape_Length</th>\n",
       "      <th>Shape_Area</th>\n",
       "      <th>geometry</th>\n",
       "    </tr>\n",
       "  </thead>\n",
       "  <tbody>\n",
       "    <tr>\n",
       "      <th>25</th>\n",
       "      <td>USFS</td>\n",
       "      <td>Forest Service Region 02 Rocky Mountain</td>\n",
       "      <td>Arapaho National Forest</td>\n",
       "      <td>Arapaho and Roosevelt National Forests</td>\n",
       "      <td>NF</td>\n",
       "      <td>OA</td>\n",
       "      <td>USFS</td>\n",
       "      <td>CO</td>\n",
       "      <td>2.344493e+06</td>\n",
       "      <td>2.391679e+09</td>\n",
       "      <td>MULTIPOLYGON (((423195.678 4472432.486, 423257...</td>\n",
       "    </tr>\n",
       "  </tbody>\n",
       "</table>\n",
       "</div>"
      ],
      "text/plain": [
       "   Mang_Name                                 Loc_Mang  \\\n",
       "25      USFS  Forest Service Region 02 Rocky Mountain   \n",
       "\n",
       "                    Unit_Nm                                  Loc_Nm Des_Tp  \\\n",
       "25  Arapaho National Forest  Arapaho and Roosevelt National Forests     NF   \n",
       "\n",
       "   Pub_Access Own_Name State_Nm  Shape_Length    Shape_Area  \\\n",
       "25         OA     USFS       CO  2.344493e+06  2.391679e+09   \n",
       "\n",
       "                                             geometry  \n",
       "25  MULTIPOLYGON (((423195.678 4472432.486, 423257...  "
      ]
     },
     "execution_count": 5,
     "metadata": {},
     "output_type": "execute_result"
    }
   ],
   "source": [
    "fs_land = land_ownership[land_ownership[\"Own_Name\"] == \"USFS\"]\n",
    "fs_land.head(1)"
   ]
  },
  {
   "cell_type": "code",
   "execution_count": null,
   "id": "5cdbc82e",
   "metadata": {},
   "outputs": [],
   "source": [
    "export_interim(fs_land, \"nf\")"
   ]
  }
 ],
 "metadata": {
  "kernelspec": {
   "display_name": "venv (3.11.8)",
   "language": "python",
   "name": "python3"
  },
  "language_info": {
   "codemirror_mode": {
    "name": "ipython",
    "version": 3
   },
   "file_extension": ".py",
   "mimetype": "text/x-python",
   "name": "python",
   "nbconvert_exporter": "python",
   "pygments_lexer": "ipython3",
   "version": "3.11.8"
  }
 },
 "nbformat": 4,
 "nbformat_minor": 5
}
