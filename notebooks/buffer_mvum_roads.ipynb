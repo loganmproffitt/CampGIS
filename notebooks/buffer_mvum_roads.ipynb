{
 "cells": [
  {
   "cell_type": "markdown",
   "id": "2dac6611",
   "metadata": {},
   "source": [
    "**Clean and buffer MVUM road data**\n",
    "\n",
    "Assumptions: Dataset is already filtered to a given state, and has validity filters. Can update to generate validity filters or state filters in the future."
   ]
  },
  {
   "cell_type": "code",
   "execution_count": 2,
   "id": "a33d2d5c",
   "metadata": {},
   "outputs": [],
   "source": [
    "import geopandas as gpd\n",
    "import sys\n",
    "from pathlib import Path\n",
    "\n",
    "notebook_path = Path.cwd()\n",
    "project_root = notebook_path.parent\n",
    "sys.path.append(str(project_root))\n",
    "\n",
    "\n",
    "from scripts import config\n",
    "\n",
    "layer_name = 'MVUM_Roads_CO'"
   ]
  },
  {
   "cell_type": "code",
   "execution_count": 3,
   "id": "6e23fa68",
   "metadata": {},
   "outputs": [
    {
     "name": "stdout",
     "output_type": "stream",
     "text": [
      "['FID_Motor_Vehicle_Use_Map_3A_Roads__Feature_Layer_', 'OBJECTID', 'RTE_CN', 'ID', 'NAME', 'BMP', 'EMP', 'SEG_LENGTH', 'GIS_MILES', 'SYMBOL', 'MVUM_SYMBO', 'JURISDICTI', 'OPERATIONA', 'SURFACETYP', 'SYSTEM', 'SEASONAL', 'PASSENGERV', 'PASSENGE_1', 'HIGHCLEARA', 'HIGHCLEA_1', 'TRUCK', 'TRUCK_DATE', 'BUS', 'BUS_DATESO', 'MOTORHOME', 'MOTORHOME_', 'FOURWD_GT5', 'FOURWD_G_1', 'TWOWD_GT50', 'TWOWD_GT_1', 'TRACKED_OH', 'TRACKED__1', 'OTHER_OHV_', 'OTHER_OH_1', 'ATV', 'ATV_DATESO', 'MOTORCYCLE', 'MOTORCYC_1', 'OTHERWHEEL', 'OTHERWHE_1', 'TRACKED__2', 'TRACKED__3', 'OTHER_OH_2', 'OTHER_OH_3', 'ADMINORG', 'SECURITYID', 'DISTRICTNA', 'FORESTNAME', 'FIELD_ID', 'SBS_SYMBOL', 'ROUTESTATU', 'GLOBALID', 'TA_SYMBOL', 'E_BIKE_CLA', 'E_BIKE_C_1', 'E_BIKE_C_2', 'E_BIKE_C_3', 'E_BIKE_C_4', 'E_BIKE_C_5', 'SHAPELEN', 'FID_CO_State_Boundary_Buffer', 'Shape_Length', 'juris_valid', 'status_valid', 'geometry']\n",
      "FID_Motor_Vehicle_Use_Map_3A_Roads__Feature_Layer_                                                   14\n",
      "OBJECTID                                                                                            215\n",
      "RTE_CN                                                                                        493010454\n",
      "ID                                                                                                502.1\n",
      "NAME                                                                                           DRIVEWAY\n",
      "                                                                            ...                        \n",
      "FID_CO_State_Boundary_Buffer                                                                          1\n",
      "Shape_Length                                                                                   0.068903\n",
      "juris_valid                                                                                           1\n",
      "status_valid                                                                                          1\n",
      "geometry                                              MULTILINESTRING ((-106.93727766982857 40.92018...\n",
      "Name: 0, Length: 65, dtype: object\n"
     ]
    }
   ],
   "source": [
    "gdf = gpd.read_file(config.GDB_PATH, layer=layer_name)\n",
    "\n",
    "print(gdf.columns.tolist())\n",
    "print(gdf.loc[0])"
   ]
  },
  {
   "cell_type": "markdown",
   "id": "be79ae94",
   "metadata": {},
   "source": [
    "**Cleaning**\n",
    "\n",
    "First, let's drop unnecessary columns."
   ]
  },
  {
   "cell_type": "code",
   "execution_count": 4,
   "id": "777d304c",
   "metadata": {},
   "outputs": [
    {
     "data": {
      "text/html": [
       "<div>\n",
       "<style scoped>\n",
       "    .dataframe tbody tr th:only-of-type {\n",
       "        vertical-align: middle;\n",
       "    }\n",
       "\n",
       "    .dataframe tbody tr th {\n",
       "        vertical-align: top;\n",
       "    }\n",
       "\n",
       "    .dataframe thead th {\n",
       "        text-align: right;\n",
       "    }\n",
       "</style>\n",
       "<table border=\"1\" class=\"dataframe\">\n",
       "  <thead>\n",
       "    <tr style=\"text-align: right;\">\n",
       "      <th></th>\n",
       "      <th>geometry</th>\n",
       "      <th>ID</th>\n",
       "      <th>NAME</th>\n",
       "      <th>juris_valid</th>\n",
       "      <th>status_valid</th>\n",
       "    </tr>\n",
       "  </thead>\n",
       "  <tbody>\n",
       "    <tr>\n",
       "      <th>0</th>\n",
       "      <td>MULTILINESTRING ((-106.93728 40.92019, -106.93...</td>\n",
       "      <td>502.1</td>\n",
       "      <td>DRIVEWAY</td>\n",
       "      <td>1</td>\n",
       "      <td>1</td>\n",
       "    </tr>\n",
       "    <tr>\n",
       "      <th>1</th>\n",
       "      <td>MULTILINESTRING ((-106.56575 41.00296, -106.56...</td>\n",
       "      <td>498</td>\n",
       "      <td>HOLROYD PARK</td>\n",
       "      <td>1</td>\n",
       "      <td>1</td>\n",
       "    </tr>\n",
       "    <tr>\n",
       "      <th>2</th>\n",
       "      <td>MULTILINESTRING ((-106.77865 40.36139, -106.77...</td>\n",
       "      <td>289.1</td>\n",
       "      <td>JEB'S LOOP</td>\n",
       "      <td>1</td>\n",
       "      <td>1</td>\n",
       "    </tr>\n",
       "    <tr>\n",
       "      <th>3</th>\n",
       "      <td>MULTILINESTRING ((-106.13835 40.87591, -106.13...</td>\n",
       "      <td>881.1</td>\n",
       "      <td>GOVERNMENT CR</td>\n",
       "      <td>1</td>\n",
       "      <td>1</td>\n",
       "    </tr>\n",
       "    <tr>\n",
       "      <th>4</th>\n",
       "      <td>MULTILINESTRING ((-106.60609 40.93417, -106.60...</td>\n",
       "      <td>660.1</td>\n",
       "      <td>HELENA</td>\n",
       "      <td>1</td>\n",
       "      <td>1</td>\n",
       "    </tr>\n",
       "  </tbody>\n",
       "</table>\n",
       "</div>"
      ],
      "text/plain": [
       "                                            geometry     ID           NAME  \\\n",
       "0  MULTILINESTRING ((-106.93728 40.92019, -106.93...  502.1       DRIVEWAY   \n",
       "1  MULTILINESTRING ((-106.56575 41.00296, -106.56...    498   HOLROYD PARK   \n",
       "2  MULTILINESTRING ((-106.77865 40.36139, -106.77...  289.1     JEB'S LOOP   \n",
       "3  MULTILINESTRING ((-106.13835 40.87591, -106.13...  881.1  GOVERNMENT CR   \n",
       "4  MULTILINESTRING ((-106.60609 40.93417, -106.60...  660.1         HELENA   \n",
       "\n",
       "  juris_valid status_valid  \n",
       "0           1            1  \n",
       "1           1            1  \n",
       "2           1            1  \n",
       "3           1            1  \n",
       "4           1            1  "
      ]
     },
     "execution_count": 4,
     "metadata": {},
     "output_type": "execute_result"
    }
   ],
   "source": [
    "gdf = gdf[['geometry', 'ID', 'NAME', 'juris_valid', 'status_valid']]\n",
    "gdf.head()"
   ]
  },
  {
   "cell_type": "markdown",
   "id": "fc9a583b",
   "metadata": {},
   "source": [
    "Next, we only want to keep roads with valid jurisdiction and status (National Forests and EXISTING respectively). Additional validity features can be added and included in the future."
   ]
  },
  {
   "cell_type": "code",
   "execution_count": 5,
   "id": "ef3cff97",
   "metadata": {},
   "outputs": [
    {
     "name": "stdout",
     "output_type": "stream",
     "text": [
      "Occurences of valid marks = 0:  0\n"
     ]
    },
    {
     "data": {
      "text/html": [
       "<div>\n",
       "<style scoped>\n",
       "    .dataframe tbody tr th:only-of-type {\n",
       "        vertical-align: middle;\n",
       "    }\n",
       "\n",
       "    .dataframe tbody tr th {\n",
       "        vertical-align: top;\n",
       "    }\n",
       "\n",
       "    .dataframe thead th {\n",
       "        text-align: right;\n",
       "    }\n",
       "</style>\n",
       "<table border=\"1\" class=\"dataframe\">\n",
       "  <thead>\n",
       "    <tr style=\"text-align: right;\">\n",
       "      <th></th>\n",
       "      <th>geometry</th>\n",
       "      <th>ID</th>\n",
       "      <th>NAME</th>\n",
       "      <th>juris_valid</th>\n",
       "      <th>status_valid</th>\n",
       "    </tr>\n",
       "  </thead>\n",
       "  <tbody>\n",
       "    <tr>\n",
       "      <th>0</th>\n",
       "      <td>MULTILINESTRING ((-106.93728 40.92019, -106.93...</td>\n",
       "      <td>502.1</td>\n",
       "      <td>DRIVEWAY</td>\n",
       "      <td>1</td>\n",
       "      <td>1</td>\n",
       "    </tr>\n",
       "    <tr>\n",
       "      <th>1</th>\n",
       "      <td>MULTILINESTRING ((-106.56575 41.00296, -106.56...</td>\n",
       "      <td>498</td>\n",
       "      <td>HOLROYD PARK</td>\n",
       "      <td>1</td>\n",
       "      <td>1</td>\n",
       "    </tr>\n",
       "    <tr>\n",
       "      <th>2</th>\n",
       "      <td>MULTILINESTRING ((-106.77865 40.36139, -106.77...</td>\n",
       "      <td>289.1</td>\n",
       "      <td>JEB'S LOOP</td>\n",
       "      <td>1</td>\n",
       "      <td>1</td>\n",
       "    </tr>\n",
       "    <tr>\n",
       "      <th>3</th>\n",
       "      <td>MULTILINESTRING ((-106.13835 40.87591, -106.13...</td>\n",
       "      <td>881.1</td>\n",
       "      <td>GOVERNMENT CR</td>\n",
       "      <td>1</td>\n",
       "      <td>1</td>\n",
       "    </tr>\n",
       "    <tr>\n",
       "      <th>4</th>\n",
       "      <td>MULTILINESTRING ((-106.60609 40.93417, -106.60...</td>\n",
       "      <td>660.1</td>\n",
       "      <td>HELENA</td>\n",
       "      <td>1</td>\n",
       "      <td>1</td>\n",
       "    </tr>\n",
       "  </tbody>\n",
       "</table>\n",
       "</div>"
      ],
      "text/plain": [
       "                                            geometry     ID           NAME  \\\n",
       "0  MULTILINESTRING ((-106.93728 40.92019, -106.93...  502.1       DRIVEWAY   \n",
       "1  MULTILINESTRING ((-106.56575 41.00296, -106.56...    498   HOLROYD PARK   \n",
       "2  MULTILINESTRING ((-106.77865 40.36139, -106.77...  289.1     JEB'S LOOP   \n",
       "3  MULTILINESTRING ((-106.13835 40.87591, -106.13...  881.1  GOVERNMENT CR   \n",
       "4  MULTILINESTRING ((-106.60609 40.93417, -106.60...  660.1         HELENA   \n",
       "\n",
       "  juris_valid status_valid  \n",
       "0           1            1  \n",
       "1           1            1  \n",
       "2           1            1  \n",
       "3           1            1  \n",
       "4           1            1  "
      ]
     },
     "execution_count": 5,
     "metadata": {},
     "output_type": "execute_result"
    }
   ],
   "source": [
    "gdf_valid = gdf[(gdf['juris_valid'] == '1') & (gdf['status_valid'] == '1')]\n",
    "\n",
    "print(\"Occurences of valid marks = 0: \", gdf_valid[(gdf_valid['juris_valid'] == 0) | (gdf_valid['status_valid'] == 0)].shape[0])\n",
    "gdf_valid.head()"
   ]
  },
  {
   "cell_type": "markdown",
   "id": "5884b643",
   "metadata": {},
   "source": [
    "Now that we've filtered on valid rows, we can drop the validity markers."
   ]
  },
  {
   "cell_type": "code",
   "execution_count": 6,
   "id": "a2cab555",
   "metadata": {},
   "outputs": [
    {
     "data": {
      "text/html": [
       "<div>\n",
       "<style scoped>\n",
       "    .dataframe tbody tr th:only-of-type {\n",
       "        vertical-align: middle;\n",
       "    }\n",
       "\n",
       "    .dataframe tbody tr th {\n",
       "        vertical-align: top;\n",
       "    }\n",
       "\n",
       "    .dataframe thead th {\n",
       "        text-align: right;\n",
       "    }\n",
       "</style>\n",
       "<table border=\"1\" class=\"dataframe\">\n",
       "  <thead>\n",
       "    <tr style=\"text-align: right;\">\n",
       "      <th></th>\n",
       "      <th>geometry</th>\n",
       "      <th>ID</th>\n",
       "      <th>NAME</th>\n",
       "    </tr>\n",
       "  </thead>\n",
       "  <tbody>\n",
       "    <tr>\n",
       "      <th>0</th>\n",
       "      <td>MULTILINESTRING ((-106.93728 40.92019, -106.93...</td>\n",
       "      <td>502.1</td>\n",
       "      <td>DRIVEWAY</td>\n",
       "    </tr>\n",
       "    <tr>\n",
       "      <th>1</th>\n",
       "      <td>MULTILINESTRING ((-106.56575 41.00296, -106.56...</td>\n",
       "      <td>498</td>\n",
       "      <td>HOLROYD PARK</td>\n",
       "    </tr>\n",
       "    <tr>\n",
       "      <th>2</th>\n",
       "      <td>MULTILINESTRING ((-106.77865 40.36139, -106.77...</td>\n",
       "      <td>289.1</td>\n",
       "      <td>JEB'S LOOP</td>\n",
       "    </tr>\n",
       "    <tr>\n",
       "      <th>3</th>\n",
       "      <td>MULTILINESTRING ((-106.13835 40.87591, -106.13...</td>\n",
       "      <td>881.1</td>\n",
       "      <td>GOVERNMENT CR</td>\n",
       "    </tr>\n",
       "    <tr>\n",
       "      <th>4</th>\n",
       "      <td>MULTILINESTRING ((-106.60609 40.93417, -106.60...</td>\n",
       "      <td>660.1</td>\n",
       "      <td>HELENA</td>\n",
       "    </tr>\n",
       "  </tbody>\n",
       "</table>\n",
       "</div>"
      ],
      "text/plain": [
       "                                            geometry     ID           NAME\n",
       "0  MULTILINESTRING ((-106.93728 40.92019, -106.93...  502.1       DRIVEWAY\n",
       "1  MULTILINESTRING ((-106.56575 41.00296, -106.56...    498   HOLROYD PARK\n",
       "2  MULTILINESTRING ((-106.77865 40.36139, -106.77...  289.1     JEB'S LOOP\n",
       "3  MULTILINESTRING ((-106.13835 40.87591, -106.13...  881.1  GOVERNMENT CR\n",
       "4  MULTILINESTRING ((-106.60609 40.93417, -106.60...  660.1         HELENA"
      ]
     },
     "execution_count": 6,
     "metadata": {},
     "output_type": "execute_result"
    }
   ],
   "source": [
    "gdf_cleaned = gdf_valid.drop(['juris_valid', 'status_valid'], axis=1)\n",
    "gdf_cleaned.head()"
   ]
  },
  {
   "cell_type": "markdown",
   "id": "c896bb81",
   "metadata": {},
   "source": [
    "**CRS and Buffering**\n",
    "\n",
    "Now that the data has been cleaned, we can project it to the correct CRS and buffer it. Let's start with projection:"
   ]
  },
  {
   "cell_type": "code",
   "execution_count": 7,
   "id": "d99647dc",
   "metadata": {},
   "outputs": [
    {
     "name": "stdout",
     "output_type": "stream",
     "text": [
      "EPSG:26913\n"
     ]
    }
   ],
   "source": [
    "gdf_projected = gdf_cleaned.to_crs(config.BUFFER_CRS)\n",
    "print(gdf_projected.crs)"
   ]
  },
  {
   "cell_type": "markdown",
   "id": "853bd9a2",
   "metadata": {},
   "source": [
    "Now, let's buffer using the value from our config file."
   ]
  },
  {
   "cell_type": "code",
   "execution_count": null,
   "id": "c5f904d3",
   "metadata": {},
   "outputs": [
    {
     "data": {
      "text/html": [
       "<div>\n",
       "<style scoped>\n",
       "    .dataframe tbody tr th:only-of-type {\n",
       "        vertical-align: middle;\n",
       "    }\n",
       "\n",
       "    .dataframe tbody tr th {\n",
       "        vertical-align: top;\n",
       "    }\n",
       "\n",
       "    .dataframe thead th {\n",
       "        text-align: right;\n",
       "    }\n",
       "</style>\n",
       "<table border=\"1\" class=\"dataframe\">\n",
       "  <thead>\n",
       "    <tr style=\"text-align: right;\">\n",
       "      <th></th>\n",
       "      <th>geometry</th>\n",
       "      <th>ID</th>\n",
       "      <th>NAME</th>\n",
       "    </tr>\n",
       "  </thead>\n",
       "  <tbody>\n",
       "    <tr>\n",
       "      <th>0</th>\n",
       "      <td>POLYGON ((334065.693 4534811.837, 334064.605 4...</td>\n",
       "      <td>502.1</td>\n",
       "      <td>DRIVEWAY</td>\n",
       "    </tr>\n",
       "    <tr>\n",
       "      <th>1</th>\n",
       "      <td>POLYGON ((368160.033 4540521.921, 368167.186 4...</td>\n",
       "      <td>498</td>\n",
       "      <td>HOLROYD PARK</td>\n",
       "    </tr>\n",
       "    <tr>\n",
       "      <th>2</th>\n",
       "      <td>POLYGON ((348696.004 4469498.531, 348707.343 4...</td>\n",
       "      <td>289.1</td>\n",
       "      <td>JEB'S LOOP</td>\n",
       "    </tr>\n",
       "    <tr>\n",
       "      <th>3</th>\n",
       "      <td>POLYGON ((403898.941 4525842.629, 403911.292 4...</td>\n",
       "      <td>881.1</td>\n",
       "      <td>GOVERNMENT CR</td>\n",
       "    </tr>\n",
       "    <tr>\n",
       "      <th>4</th>\n",
       "      <td>POLYGON ((364507.431 4532586.685, 364502.751 4...</td>\n",
       "      <td>660.1</td>\n",
       "      <td>HELENA</td>\n",
       "    </tr>\n",
       "  </tbody>\n",
       "</table>\n",
       "</div>"
      ],
      "text/plain": [
       "                                            geometry     ID           NAME\n",
       "0  POLYGON ((334065.693 4534811.837, 334064.605 4...  502.1       DRIVEWAY\n",
       "1  POLYGON ((368160.033 4540521.921, 368167.186 4...    498   HOLROYD PARK\n",
       "2  POLYGON ((348696.004 4469498.531, 348707.343 4...  289.1     JEB'S LOOP\n",
       "3  POLYGON ((403898.941 4525842.629, 403911.292 4...  881.1  GOVERNMENT CR\n",
       "4  POLYGON ((364507.431 4532586.685, 364502.751 4...  660.1         HELENA"
      ]
     },
     "execution_count": 8,
     "metadata": {},
     "output_type": "execute_result"
    }
   ],
   "source": [
    "gdf_buffered = gdf_projected.copy()\n",
    "gdf_buffered = gdf_buffered.set_geometry(gdf_buffered.geometry.buffer(config.BUFFER_DISTANCE_ROAD_METERS))\n",
    "gdf_buffered.head()"
   ]
  },
  {
   "cell_type": "markdown",
   "id": "af9bb449",
   "metadata": {},
   "source": [
    "Ready to export!"
   ]
  },
  {
   "cell_type": "code",
   "execution_count": 9,
   "id": "028a561e",
   "metadata": {},
   "outputs": [
    {
     "name": "stdout",
     "output_type": "stream",
     "text": [
      "Saved buffered MVUM roads to:  /Users/loganproffitt/Desktop/CampGIS.nosync/Repo/CampGIS/outputs/mvum_roads_buffered/mvum_roads_buffered.gpkg\n"
     ]
    }
   ],
   "source": [
    "output_folder = config.OUTPUT_DIR / \"mvum_roads_buffered\"\n",
    "output_folder.mkdir(parents=True, exist_ok=True)\n",
    "\n",
    "output_fp = output_folder / \"mvum_roads_buffered.gpkg\"\n",
    "gdf_buffered.to_file(output_fp, driver=\"GPKG\")\n",
    "\n",
    "print(\"Saved buffered MVUM roads to: \", output_fp)"
   ]
  }
 ],
 "metadata": {
  "kernelspec": {
   "display_name": "venv",
   "language": "python",
   "name": "python3"
  },
  "language_info": {
   "codemirror_mode": {
    "name": "ipython",
    "version": 3
   },
   "file_extension": ".py",
   "mimetype": "text/x-python",
   "name": "python",
   "nbconvert_exporter": "python",
   "pygments_lexer": "ipython3",
   "version": "3.11.8"
  }
 },
 "nbformat": 4,
 "nbformat_minor": 5
}
