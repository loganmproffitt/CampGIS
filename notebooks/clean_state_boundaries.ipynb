{
 "cells": [
  {
   "cell_type": "markdown",
   "id": "46ce7969",
   "metadata": {},
   "source": [
    "**State Boundaries Cleaning**\n",
    "\n",
    "Using tl_2024_us_state data, let's filter down to desired columns, as well as the desired state. This process can be expanded in the future to include multiple states."
   ]
  },
  {
   "cell_type": "code",
   "execution_count": 1,
   "id": "7b322825",
   "metadata": {},
   "outputs": [],
   "source": [
    "import geopandas as gpd\n",
    "import sys\n",
    "from pathlib import Path\n",
    "\n",
    "notebook_path = Path.cwd()\n",
    "project_root = notebook_path.parent\n",
    "sys.path.append(str(project_root))\n",
    "\n",
    "\n",
    "from scripts import config"
   ]
  },
  {
   "cell_type": "code",
   "execution_count": 3,
   "id": "99375634",
   "metadata": {},
   "outputs": [
    {
     "name": "stdout",
     "output_type": "stream",
     "text": [
      "['REGION', 'DIVISION', 'STATEFP', 'STATENS', 'GEOID', 'GEOIDFQ', 'STUSPS', 'NAME', 'LSAD', 'MTFCC', 'FUNCSTAT', 'ALAND', 'AWATER', 'INTPTLAT', 'INTPTLON', 'geometry']\n",
      "REGION                                                      3\n",
      "DIVISION                                                    5\n",
      "STATEFP                                                    54\n",
      "STATENS                                              01779805\n",
      "GEOID                                                      54\n",
      "GEOIDFQ                                           0400000US54\n",
      "STUSPS                                                     WV\n",
      "NAME                                            West Virginia\n",
      "LSAD                                                       00\n",
      "MTFCC                                                   G4000\n",
      "FUNCSTAT                                                    A\n",
      "ALAND                                             62266513826\n",
      "AWATER                                              488918898\n",
      "INTPTLAT                                          +38.6472854\n",
      "INTPTLON                                         -080.6183274\n",
      "geometry    POLYGON ((-77.754376 39.333461, -77.754219 39....\n",
      "Name: 0, dtype: object\n"
     ]
    }
   ],
   "source": [
    "gdf = gpd.read_file(config.RAW_DATA_PATH / \"tl_2024_us_state\" / \"tl_2024_us_state.shp\")\n",
    "\n",
    "\n",
    "print(gdf.columns.tolist())\n",
    "print(gdf.loc[0])"
   ]
  },
  {
   "cell_type": "markdown",
   "id": "dff195fe",
   "metadata": {},
   "source": [
    "First, let's filter on the desired state — for now, we're sticking to Colorado."
   ]
  },
  {
   "cell_type": "code",
   "execution_count": 5,
   "id": "0db13f24",
   "metadata": {},
   "outputs": [
    {
     "data": {
      "text/html": [
       "<div>\n",
       "<style scoped>\n",
       "    .dataframe tbody tr th:only-of-type {\n",
       "        vertical-align: middle;\n",
       "    }\n",
       "\n",
       "    .dataframe tbody tr th {\n",
       "        vertical-align: top;\n",
       "    }\n",
       "\n",
       "    .dataframe thead th {\n",
       "        text-align: right;\n",
       "    }\n",
       "</style>\n",
       "<table border=\"1\" class=\"dataframe\">\n",
       "  <thead>\n",
       "    <tr style=\"text-align: right;\">\n",
       "      <th></th>\n",
       "      <th>REGION</th>\n",
       "      <th>DIVISION</th>\n",
       "      <th>STATEFP</th>\n",
       "      <th>STATENS</th>\n",
       "      <th>GEOID</th>\n",
       "      <th>GEOIDFQ</th>\n",
       "      <th>STUSPS</th>\n",
       "      <th>NAME</th>\n",
       "      <th>LSAD</th>\n",
       "      <th>MTFCC</th>\n",
       "      <th>FUNCSTAT</th>\n",
       "      <th>ALAND</th>\n",
       "      <th>AWATER</th>\n",
       "      <th>INTPTLAT</th>\n",
       "      <th>INTPTLON</th>\n",
       "      <th>geometry</th>\n",
       "    </tr>\n",
       "  </thead>\n",
       "  <tbody>\n",
       "    <tr>\n",
       "      <th>26</th>\n",
       "      <td>4</td>\n",
       "      <td>8</td>\n",
       "      <td>08</td>\n",
       "      <td>01779779</td>\n",
       "      <td>08</td>\n",
       "      <td>0400000US08</td>\n",
       "      <td>CO</td>\n",
       "      <td>Colorado</td>\n",
       "      <td>00</td>\n",
       "      <td>G4000</td>\n",
       "      <td>A</td>\n",
       "      <td>268418973518</td>\n",
       "      <td>1185541418</td>\n",
       "      <td>+38.9937669</td>\n",
       "      <td>-105.5087122</td>\n",
       "      <td>POLYGON ((-105.15504 36.99526, -105.15543 36.9...</td>\n",
       "    </tr>\n",
       "  </tbody>\n",
       "</table>\n",
       "</div>"
      ],
      "text/plain": [
       "   REGION DIVISION STATEFP   STATENS GEOID      GEOIDFQ STUSPS      NAME LSAD  \\\n",
       "26      4        8      08  01779779    08  0400000US08     CO  Colorado   00   \n",
       "\n",
       "    MTFCC FUNCSTAT         ALAND      AWATER     INTPTLAT      INTPTLON  \\\n",
       "26  G4000        A  268418973518  1185541418  +38.9937669  -105.5087122   \n",
       "\n",
       "                                             geometry  \n",
       "26  POLYGON ((-105.15504 36.99526, -105.15543 36.9...  "
      ]
     },
     "execution_count": 5,
     "metadata": {},
     "output_type": "execute_result"
    }
   ],
   "source": [
    "gdf_co = gdf[gdf['NAME'] == 'Colorado']\n",
    "gdf_co.head()"
   ]
  },
  {
   "cell_type": "markdown",
   "id": "5caf95ce",
   "metadata": {},
   "source": [
    "Next, let's keep only the desired columns. All we really need for now is geometry and name."
   ]
  },
  {
   "cell_type": "code",
   "execution_count": 6,
   "id": "e3c9aac1",
   "metadata": {},
   "outputs": [
    {
     "data": {
      "text/html": [
       "<div>\n",
       "<style scoped>\n",
       "    .dataframe tbody tr th:only-of-type {\n",
       "        vertical-align: middle;\n",
       "    }\n",
       "\n",
       "    .dataframe tbody tr th {\n",
       "        vertical-align: top;\n",
       "    }\n",
       "\n",
       "    .dataframe thead th {\n",
       "        text-align: right;\n",
       "    }\n",
       "</style>\n",
       "<table border=\"1\" class=\"dataframe\">\n",
       "  <thead>\n",
       "    <tr style=\"text-align: right;\">\n",
       "      <th></th>\n",
       "      <th>geometry</th>\n",
       "      <th>NAME</th>\n",
       "    </tr>\n",
       "  </thead>\n",
       "  <tbody>\n",
       "    <tr>\n",
       "      <th>26</th>\n",
       "      <td>POLYGON ((-105.15504 36.99526, -105.15543 36.9...</td>\n",
       "      <td>Colorado</td>\n",
       "    </tr>\n",
       "  </tbody>\n",
       "</table>\n",
       "</div>"
      ],
      "text/plain": [
       "                                             geometry      NAME\n",
       "26  POLYGON ((-105.15504 36.99526, -105.15543 36.9...  Colorado"
      ]
     },
     "execution_count": 6,
     "metadata": {},
     "output_type": "execute_result"
    }
   ],
   "source": [
    "gdf_cleaned = gdf_co[['geometry', 'NAME']]\n",
    "gdf_cleaned.head()"
   ]
  },
  {
   "cell_type": "markdown",
   "id": "9485f615",
   "metadata": {},
   "source": [
    "**Buffering**\n",
    "\n",
    "When generating a legality layer for a given state, we must take into account distance from features like water and MVUM roads. If you're near the edge of the given state boundary, it's possible that edge cases may arise where water or roads just outside the border aren't accounted for, leading to an inaccurate layer. Let's buffer the state boundary by 300 ft (the minimum distance from MVUM roads for legal camping) to account for these edge cases.\n",
    "\n",
    "Before buffering, let's project the data to a common CRS.\n"
   ]
  },
  {
   "cell_type": "code",
   "execution_count": 7,
   "id": "2709977f",
   "metadata": {},
   "outputs": [],
   "source": [
    "gdf_projected = gdf_cleaned.to_crs(config.BUFFER_CRS)"
   ]
  },
  {
   "cell_type": "markdown",
   "id": "a99dd792",
   "metadata": {},
   "source": [
    "Now, buffer!"
   ]
  },
  {
   "cell_type": "code",
   "execution_count": 10,
   "id": "72e75c1c",
   "metadata": {},
   "outputs": [],
   "source": [
    "gdf_buffered = gdf_projected.copy()\n",
    "gdf_buffered = gdf_buffered.set_geometry(gdf_buffered.geometry.buffer(config.BUFFER_DISTANCE_ROAD_METERS, cap_style=\"round\"))"
   ]
  },
  {
   "cell_type": "markdown",
   "id": "2b2e5aa2",
   "metadata": {},
   "source": [
    "Now, let's export to the output folder."
   ]
  },
  {
   "cell_type": "code",
   "execution_count": null,
   "id": "b09f9361",
   "metadata": {},
   "outputs": [],
   "source": [
    "output_folder = config.OUTPUT_DIR / \"state_boundary_buffered\"\n",
    "output_folder.mkdir(parents=True, exist_ok=True)\n",
    "\n",
    "output_fp = output_folder / \"state_boundary_buffered_co.gpkg\"\n",
    "gdf_buffered.to_file(output_fp, driver=\"GPKG\")\n",
    "\n",
    "print(\"Saved buffered state boundary to: \", output_fp)"
   ]
  }
 ],
 "metadata": {
  "kernelspec": {
   "display_name": "venv",
   "language": "python",
   "name": "python3"
  },
  "language_info": {
   "codemirror_mode": {
    "name": "ipython",
    "version": 3
   },
   "file_extension": ".py",
   "mimetype": "text/x-python",
   "name": "python",
   "nbconvert_exporter": "python",
   "pygments_lexer": "ipython3",
   "version": "3.11.8"
  }
 },
 "nbformat": 4,
 "nbformat_minor": 5
}
