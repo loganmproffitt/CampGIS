{
 "cells": [
  {
   "cell_type": "markdown",
   "id": "5689ea78",
   "metadata": {},
   "source": [
    "**Land Ownership Cleaning**"
   ]
  },
  {
   "cell_type": "code",
   "execution_count": null,
   "id": "3bb87cfa",
   "metadata": {},
   "outputs": [],
   "source": [
    "%run ../bootstrap.py\n",
    "setup_project_path()\n",
    "\n",
    "from scripts.io_helpers import read_raw_layer, export_interim\n",
    "from scripts.data_helpers import to_buffer_crs"
   ]
  },
  {
   "cell_type": "markdown",
   "id": "bed0d7a2",
   "metadata": {},
   "source": [
    "Let's load and take a look at the data."
   ]
  },
  {
   "cell_type": "code",
   "execution_count": 2,
   "id": "15ca1995",
   "metadata": {},
   "outputs": [
    {
     "name": "stderr",
     "output_type": "stream",
     "text": [
      "/Users/loganproffitt/Desktop/CampGIS.nosync/Repo/CampGIS/venv/lib/python3.11/site-packages/pyogrio/geopandas.py:275: UserWarning: More than one layer found in 'PADUS4_1_StateCO.gdb': 'PADUS4_1Fee_State_CO' (default), 'PADUS4_1Easement_State_CO', 'PADUS4_1Proclamation_State_CO', 'PADUS4_1Comb_DOD_Trib_NGP_Fee_Desig_Ease_State_CO', 'PADUS4_1Designation_State_CO', 'Public_Access', 'Agency_Name', 'Agency_Type', 'Category', 'Designation_Type', 'GAP_Status', 'IUCN_Category', 'State_Name'. Specify layer parameter to avoid this warning.\n",
      "  result = read_func(\n",
      "/Users/loganproffitt/Desktop/CampGIS.nosync/Repo/CampGIS/venv/lib/python3.11/site-packages/pyogrio/raw.py:198: RuntimeWarning: organizePolygons() received a polygon with more than 100 parts. The processing may be really slow.  You can skip the processing by setting METHOD=SKIP, or only make it analyze counter-clock wise parts by setting METHOD=ONLY_CCW if you can assume that the outline of holes is counter-clock wise defined\n",
      "  return ogr_read(\n"
     ]
    },
    {
     "name": "stdout",
     "output_type": "stream",
     "text": [
      "Columns: ['Category', 'Own_Type', 'Own_Name', 'Loc_Own', 'Mang_Type', 'Mang_Name', 'Loc_Mang', 'Des_Tp', 'Loc_Ds', 'Unit_Nm', 'Loc_Nm', 'State_Nm', 'Agg_Src', 'GIS_Src', 'Src_Date', 'GIS_Acres', 'Source_PAID', 'WDPA_Cd', 'Pub_Access', 'Access_Src', 'Access_Dt', 'GAP_Sts', 'GAPCdSrc', 'GAPCdDt', 'IUCN_Cat', 'IUCNCtSrc', 'IUCNCtDt', 'Date_Est', 'Comments', 'd_Category', 'd_Own_Type', 'd_Own_Name', 'd_Mang_Type', 'd_Mang_Name', 'd_Des_Tp', 'd_State_Nm', 'd_Pub_Access', 'd_GAP_Sts', 'd_IUCN_Cat', 'Shape_Length', 'Shape_Area', 'geometry']\n",
      "State names:  ['CO']\n"
     ]
    }
   ],
   "source": [
    "gdf = read_raw_layer(\"land_ownership_raw\")\n",
    "\n",
    "print(\"Columns:\", gdf.columns.tolist())\n",
    "print(\"State names: \", gdf['State_Nm'].unique())"
   ]
  },
  {
   "cell_type": "markdown",
   "id": "9bf41bb8",
   "metadata": {},
   "source": [
    "Data is already isolated to CO — if we want other states in the future, we can link to the full U.S. dataset and select desired states.\n",
    "\n",
    "Let's filter down to useful columns."
   ]
  },
  {
   "cell_type": "code",
   "execution_count": 3,
   "id": "16b141c2",
   "metadata": {},
   "outputs": [
    {
     "data": {
      "text/html": [
       "<div>\n",
       "<style scoped>\n",
       "    .dataframe tbody tr th:only-of-type {\n",
       "        vertical-align: middle;\n",
       "    }\n",
       "\n",
       "    .dataframe tbody tr th {\n",
       "        vertical-align: top;\n",
       "    }\n",
       "\n",
       "    .dataframe thead th {\n",
       "        text-align: right;\n",
       "    }\n",
       "</style>\n",
       "<table border=\"1\" class=\"dataframe\">\n",
       "  <thead>\n",
       "    <tr style=\"text-align: right;\">\n",
       "      <th></th>\n",
       "      <th>Mang_Name</th>\n",
       "      <th>Loc_Mang</th>\n",
       "      <th>Unit_Nm</th>\n",
       "      <th>Loc_Nm</th>\n",
       "      <th>Des_Tp</th>\n",
       "      <th>Pub_Access</th>\n",
       "      <th>Own_Name</th>\n",
       "      <th>State_Nm</th>\n",
       "      <th>Shape_Length</th>\n",
       "      <th>Shape_Area</th>\n",
       "      <th>geometry</th>\n",
       "    </tr>\n",
       "  </thead>\n",
       "  <tbody>\n",
       "    <tr>\n",
       "      <th>0</th>\n",
       "      <td>ARS</td>\n",
       "      <td>Agricultural Research Service (ARS)</td>\n",
       "      <td>Central Plains Experimental Range</td>\n",
       "      <td>Central Plains Experimental Range</td>\n",
       "      <td>FOTH</td>\n",
       "      <td>OA</td>\n",
       "      <td>UNK</td>\n",
       "      <td>CO</td>\n",
       "      <td>8.034916e+04</td>\n",
       "      <td>5.938316e+07</td>\n",
       "      <td>MULTIPOLYGON (((-728264.011 2009738.467, -7279...</td>\n",
       "    </tr>\n",
       "    <tr>\n",
       "      <th>1</th>\n",
       "      <td>DOE</td>\n",
       "      <td>Department of Energy (DOE)</td>\n",
       "      <td>Federal Land</td>\n",
       "      <td></td>\n",
       "      <td>FOTH</td>\n",
       "      <td>XA</td>\n",
       "      <td>UNK</td>\n",
       "      <td>CO</td>\n",
       "      <td>4.644972e+03</td>\n",
       "      <td>8.304424e+05</td>\n",
       "      <td>MULTIPOLYGON (((-1000907.923 1906834.96, -1000...</td>\n",
       "    </tr>\n",
       "    <tr>\n",
       "      <th>2</th>\n",
       "      <td>BLM</td>\n",
       "      <td>BLM</td>\n",
       "      <td>Colorado River Valley Field Office</td>\n",
       "      <td>Bureau of Land Management</td>\n",
       "      <td>PUB</td>\n",
       "      <td>OA</td>\n",
       "      <td>BLM</td>\n",
       "      <td>CO</td>\n",
       "      <td>3.096733e+06</td>\n",
       "      <td>2.309653e+09</td>\n",
       "      <td>MULTIPOLYGON (((-923075.889 1850198.558, -9231...</td>\n",
       "    </tr>\n",
       "    <tr>\n",
       "      <th>3</th>\n",
       "      <td>BLM</td>\n",
       "      <td>BLM</td>\n",
       "      <td>Grand Junction Field Office</td>\n",
       "      <td>Bureau of Land Management</td>\n",
       "      <td>PUB</td>\n",
       "      <td>OA</td>\n",
       "      <td>BLM</td>\n",
       "      <td>CO</td>\n",
       "      <td>3.832750e+06</td>\n",
       "      <td>5.162145e+09</td>\n",
       "      <td>MULTIPOLYGON (((-1120162.991 1792729.163, -112...</td>\n",
       "    </tr>\n",
       "    <tr>\n",
       "      <th>4</th>\n",
       "      <td>BLM</td>\n",
       "      <td>BLM</td>\n",
       "      <td>Gunnison Field Office</td>\n",
       "      <td>Bureau of Land Management</td>\n",
       "      <td>PUB</td>\n",
       "      <td>OA</td>\n",
       "      <td>BLM</td>\n",
       "      <td>CO</td>\n",
       "      <td>3.977402e+06</td>\n",
       "      <td>2.668452e+09</td>\n",
       "      <td>MULTIPOLYGON (((-1011674.921 1697854.958, -101...</td>\n",
       "    </tr>\n",
       "  </tbody>\n",
       "</table>\n",
       "</div>"
      ],
      "text/plain": [
       "  Mang_Name                             Loc_Mang  \\\n",
       "0       ARS  Agricultural Research Service (ARS)   \n",
       "1       DOE           Department of Energy (DOE)   \n",
       "2       BLM                                  BLM   \n",
       "3       BLM                                  BLM   \n",
       "4       BLM                                  BLM   \n",
       "\n",
       "                              Unit_Nm                             Loc_Nm  \\\n",
       "0   Central Plains Experimental Range  Central Plains Experimental Range   \n",
       "1                        Federal Land                                      \n",
       "2  Colorado River Valley Field Office          Bureau of Land Management   \n",
       "3         Grand Junction Field Office          Bureau of Land Management   \n",
       "4               Gunnison Field Office          Bureau of Land Management   \n",
       "\n",
       "  Des_Tp Pub_Access Own_Name State_Nm  Shape_Length    Shape_Area  \\\n",
       "0   FOTH         OA      UNK       CO  8.034916e+04  5.938316e+07   \n",
       "1   FOTH         XA      UNK       CO  4.644972e+03  8.304424e+05   \n",
       "2    PUB         OA      BLM       CO  3.096733e+06  2.309653e+09   \n",
       "3    PUB         OA      BLM       CO  3.832750e+06  5.162145e+09   \n",
       "4    PUB         OA      BLM       CO  3.977402e+06  2.668452e+09   \n",
       "\n",
       "                                            geometry  \n",
       "0  MULTIPOLYGON (((-728264.011 2009738.467, -7279...  \n",
       "1  MULTIPOLYGON (((-1000907.923 1906834.96, -1000...  \n",
       "2  MULTIPOLYGON (((-923075.889 1850198.558, -9231...  \n",
       "3  MULTIPOLYGON (((-1120162.991 1792729.163, -112...  \n",
       "4  MULTIPOLYGON (((-1011674.921 1697854.958, -101...  "
      ]
     },
     "execution_count": 3,
     "metadata": {},
     "output_type": "execute_result"
    }
   ],
   "source": [
    "columns_keep = [\n",
    "    \"Mang_Name\",\n",
    "    \"Loc_Mang\",\n",
    "    \"Unit_Nm\",\n",
    "    \"Loc_Nm\",\n",
    "    \"Des_Tp\",\n",
    "    \"Pub_Access\",\n",
    "    \"Own_Name\",\n",
    "    \"State_Nm\",\n",
    "    'Shape_Length', \n",
    "    'Shape_Area',\n",
    "    \"geometry\"\n",
    "]\n",
    "\n",
    "gdf_cols = gdf[columns_keep]\n",
    "gdf_cols.head()\n"
   ]
  },
  {
   "cell_type": "markdown",
   "id": "2fca527e",
   "metadata": {},
   "source": [
    "Now, we want to filter on relevant land managers. Even if a piece of land is owned by a relevant owner, management determines local camping legality, so we'll filter on manager name."
   ]
  },
  {
   "cell_type": "code",
   "execution_count": 4,
   "id": "0fc23e32",
   "metadata": {},
   "outputs": [
    {
     "name": "stdout",
     "output_type": "stream",
     "text": [
      "Manager names: \n",
      " ['ARS' 'DOE' 'BLM' 'USBR' 'SPR' 'USACE' 'USFS' 'NPS' 'FWS' 'NGO' 'CITY'\n",
      " 'CNTY' 'PVT' 'SFW' 'UNK' 'REG' 'OTHF' 'JNT' 'OTHS' 'UNKL' 'SLB' 'RWD'\n",
      " 'DOD']\n"
     ]
    }
   ],
   "source": [
    "print(\"Manager names: \\n\", gdf_cols['Mang_Name'].unique())"
   ]
  },
  {
   "cell_type": "markdown",
   "id": "4cd29894",
   "metadata": {},
   "source": [
    "From this list, we want to keep BLM, USFS, NPS, and CNTY."
   ]
  },
  {
   "cell_type": "code",
   "execution_count": 5,
   "id": "84c2a2ce",
   "metadata": {},
   "outputs": [
    {
     "data": {
      "text/html": [
       "<div>\n",
       "<style scoped>\n",
       "    .dataframe tbody tr th:only-of-type {\n",
       "        vertical-align: middle;\n",
       "    }\n",
       "\n",
       "    .dataframe tbody tr th {\n",
       "        vertical-align: top;\n",
       "    }\n",
       "\n",
       "    .dataframe thead th {\n",
       "        text-align: right;\n",
       "    }\n",
       "</style>\n",
       "<table border=\"1\" class=\"dataframe\">\n",
       "  <thead>\n",
       "    <tr style=\"text-align: right;\">\n",
       "      <th></th>\n",
       "      <th>Mang_Name</th>\n",
       "      <th>Loc_Mang</th>\n",
       "      <th>Unit_Nm</th>\n",
       "      <th>Loc_Nm</th>\n",
       "      <th>Des_Tp</th>\n",
       "      <th>Pub_Access</th>\n",
       "      <th>Own_Name</th>\n",
       "      <th>State_Nm</th>\n",
       "      <th>Shape_Length</th>\n",
       "      <th>Shape_Area</th>\n",
       "      <th>geometry</th>\n",
       "    </tr>\n",
       "  </thead>\n",
       "  <tbody>\n",
       "    <tr>\n",
       "      <th>2</th>\n",
       "      <td>BLM</td>\n",
       "      <td>BLM</td>\n",
       "      <td>Colorado River Valley Field Office</td>\n",
       "      <td>Bureau of Land Management</td>\n",
       "      <td>PUB</td>\n",
       "      <td>OA</td>\n",
       "      <td>BLM</td>\n",
       "      <td>CO</td>\n",
       "      <td>3.096733e+06</td>\n",
       "      <td>2.309653e+09</td>\n",
       "      <td>MULTIPOLYGON (((-923075.889 1850198.558, -9231...</td>\n",
       "    </tr>\n",
       "    <tr>\n",
       "      <th>3</th>\n",
       "      <td>BLM</td>\n",
       "      <td>BLM</td>\n",
       "      <td>Grand Junction Field Office</td>\n",
       "      <td>Bureau of Land Management</td>\n",
       "      <td>PUB</td>\n",
       "      <td>OA</td>\n",
       "      <td>BLM</td>\n",
       "      <td>CO</td>\n",
       "      <td>3.832750e+06</td>\n",
       "      <td>5.162145e+09</td>\n",
       "      <td>MULTIPOLYGON (((-1120162.991 1792729.163, -112...</td>\n",
       "    </tr>\n",
       "    <tr>\n",
       "      <th>4</th>\n",
       "      <td>BLM</td>\n",
       "      <td>BLM</td>\n",
       "      <td>Gunnison Field Office</td>\n",
       "      <td>Bureau of Land Management</td>\n",
       "      <td>PUB</td>\n",
       "      <td>OA</td>\n",
       "      <td>BLM</td>\n",
       "      <td>CO</td>\n",
       "      <td>3.977402e+06</td>\n",
       "      <td>2.668452e+09</td>\n",
       "      <td>MULTIPOLYGON (((-1011674.921 1697854.958, -101...</td>\n",
       "    </tr>\n",
       "    <tr>\n",
       "      <th>5</th>\n",
       "      <td>BLM</td>\n",
       "      <td>BLM</td>\n",
       "      <td>Kremmling Field Office</td>\n",
       "      <td>Bureau of Land Management</td>\n",
       "      <td>PUB</td>\n",
       "      <td>OA</td>\n",
       "      <td>BLM</td>\n",
       "      <td>CO</td>\n",
       "      <td>2.651089e+06</td>\n",
       "      <td>1.527993e+09</td>\n",
       "      <td>MULTIPOLYGON (((-839688.745 1921367.61, -83972...</td>\n",
       "    </tr>\n",
       "    <tr>\n",
       "      <th>6</th>\n",
       "      <td>BLM</td>\n",
       "      <td>BLM</td>\n",
       "      <td>Little Snake Field Office</td>\n",
       "      <td>Bureau of Land Management</td>\n",
       "      <td>PUB</td>\n",
       "      <td>OA</td>\n",
       "      <td>BLM</td>\n",
       "      <td>CO</td>\n",
       "      <td>5.976242e+06</td>\n",
       "      <td>5.414507e+09</td>\n",
       "      <td>MULTIPOLYGON (((-911540.913 1948621.217, -9115...</td>\n",
       "    </tr>\n",
       "  </tbody>\n",
       "</table>\n",
       "</div>"
      ],
      "text/plain": [
       "  Mang_Name Loc_Mang                             Unit_Nm  \\\n",
       "2       BLM      BLM  Colorado River Valley Field Office   \n",
       "3       BLM      BLM         Grand Junction Field Office   \n",
       "4       BLM      BLM               Gunnison Field Office   \n",
       "5       BLM      BLM              Kremmling Field Office   \n",
       "6       BLM      BLM           Little Snake Field Office   \n",
       "\n",
       "                      Loc_Nm Des_Tp Pub_Access Own_Name State_Nm  \\\n",
       "2  Bureau of Land Management    PUB         OA      BLM       CO   \n",
       "3  Bureau of Land Management    PUB         OA      BLM       CO   \n",
       "4  Bureau of Land Management    PUB         OA      BLM       CO   \n",
       "5  Bureau of Land Management    PUB         OA      BLM       CO   \n",
       "6  Bureau of Land Management    PUB         OA      BLM       CO   \n",
       "\n",
       "   Shape_Length    Shape_Area  \\\n",
       "2  3.096733e+06  2.309653e+09   \n",
       "3  3.832750e+06  5.162145e+09   \n",
       "4  3.977402e+06  2.668452e+09   \n",
       "5  2.651089e+06  1.527993e+09   \n",
       "6  5.976242e+06  5.414507e+09   \n",
       "\n",
       "                                            geometry  \n",
       "2  MULTIPOLYGON (((-923075.889 1850198.558, -9231...  \n",
       "3  MULTIPOLYGON (((-1120162.991 1792729.163, -112...  \n",
       "4  MULTIPOLYGON (((-1011674.921 1697854.958, -101...  \n",
       "5  MULTIPOLYGON (((-839688.745 1921367.61, -83972...  \n",
       "6  MULTIPOLYGON (((-911540.913 1948621.217, -9115...  "
      ]
     },
     "execution_count": 5,
     "metadata": {},
     "output_type": "execute_result"
    }
   ],
   "source": [
    "managers_keep = [\n",
    "    'BLM',\n",
    "    'USFS',\n",
    "    'NPS',\n",
    "    'CNTY'\n",
    "]\n",
    "\n",
    "gdf_filtered = gdf_cols[gdf_cols['Mang_Name'].isin(managers_keep)]\n",
    "gdf_filtered.head()"
   ]
  },
  {
   "cell_type": "markdown",
   "id": "7a4ad6f2",
   "metadata": {},
   "source": [
    "Let's make sure all geometries have the same type:"
   ]
  },
  {
   "cell_type": "code",
   "execution_count": 6,
   "id": "bfa7fcf8",
   "metadata": {},
   "outputs": [
    {
     "name": "stdout",
     "output_type": "stream",
     "text": [
      "Geometry types: ['MultiPolygon']\n"
     ]
    }
   ],
   "source": [
    "print(\"Geometry types:\", gdf_filtered.geom_type.unique())"
   ]
  },
  {
   "cell_type": "markdown",
   "id": "8c645620",
   "metadata": {},
   "source": [
    "All good. Let's project to the common CRS for future intersections."
   ]
  },
  {
   "cell_type": "code",
   "execution_count": 7,
   "id": "8cd1bebc",
   "metadata": {},
   "outputs": [],
   "source": [
    "gdf_filtered = to_buffer_crs(gdf_filtered)"
   ]
  },
  {
   "cell_type": "markdown",
   "id": "a695f6b4",
   "metadata": {},
   "source": [
    "Finally, let's fix invalid shapes."
   ]
  },
  {
   "cell_type": "code",
   "execution_count": 8,
   "id": "103c42a9",
   "metadata": {},
   "outputs": [
    {
     "name": "stdout",
     "output_type": "stream",
     "text": [
      "Invalid geometries: 15\n"
     ]
    }
   ],
   "source": [
    "# Identify invalid shapes\n",
    "invalid = ~gdf_filtered.is_valid\n",
    "print(f\"Invalid geometries: {invalid.sum()}\")\n",
    "\n",
    "# Only fix those\n",
    "gdf_filtered.loc[invalid, \"geometry\"] = gdf_filtered.loc[invalid, \"geometry\"].buffer(0)\n"
   ]
  },
  {
   "cell_type": "markdown",
   "id": "2f0349e4",
   "metadata": {},
   "source": [
    "Ready to export!"
   ]
  },
  {
   "cell_type": "code",
   "execution_count": 9,
   "id": "76544139",
   "metadata": {},
   "outputs": [
    {
     "name": "stdout",
     "output_type": "stream",
     "text": [
      "Saved to interim: /Users/loganproffitt/Desktop/CampGIS.nosync/Repo/CampGIS/data/interim/land_ownership_clean.gpkg\n"
     ]
    }
   ],
   "source": [
    "export_interim(gdf_filtered, \"land_ownership_clean\", driver=\"GPKG\", verbose=True)"
   ]
  }
 ],
 "metadata": {
  "kernelspec": {
   "display_name": "venv",
   "language": "python",
   "name": "python3"
  },
  "language_info": {
   "codemirror_mode": {
    "name": "ipython",
    "version": 3
   },
   "file_extension": ".py",
   "mimetype": "text/x-python",
   "name": "python",
   "nbconvert_exporter": "python",
   "pygments_lexer": "ipython3",
   "version": "3.11.8"
  }
 },
 "nbformat": 4,
 "nbformat_minor": 5
}
