{
 "cells": [
  {
   "cell_type": "markdown",
   "id": "02aac85f",
   "metadata": {},
   "source": [
    "**Water Polygon Data Cleaning**\n",
    "\n",
    "Let's clean and merge polygon-related data from the National Hydrography Dataset."
   ]
  },
  {
   "cell_type": "code",
   "execution_count": 1,
   "id": "73e9b873",
   "metadata": {},
   "outputs": [],
   "source": [
    "%run ../bootstrap.py\n",
    "setup_project_path()\n",
    "\n",
    "from scripts.io_helpers import export_interim, read_interim_layer\n",
    "from scripts.geometry_helpers import strip_z_polygon, drop_missing_geometry, validate_geometry\n",
    "from scripts import data_config as dc\n",
    "import geopandas as gpd\n",
    "import fiona"
   ]
  },
  {
   "cell_type": "markdown",
   "id": "5b871a95",
   "metadata": {},
   "source": [
    "Let's take a look at the layers."
   ]
  },
  {
   "cell_type": "code",
   "execution_count": 2,
   "id": "c2141b19",
   "metadata": {},
   "outputs": [
    {
     "name": "stdout",
     "output_type": "stream",
     "text": [
      "NHDPlusGageSmooth\n",
      "NHDPlusFlow\n",
      "NHDArea\n",
      "NHDLine\n",
      "NHDPlusBoundaryUnit\n",
      "NHDPlusCatchment\n",
      "NHDPlusGage\n",
      "NHDPlusSink\n",
      "NHDPlusWall\n",
      "NHDPoint\n",
      "NHDWaterbody\n",
      "NonNetworkNHDFlowline\n",
      "WBDHU12\n",
      "NHDPlusConnect\n",
      "NetworkNHDFlowline\n"
     ]
    }
   ],
   "source": [
    "gdb_path = dc.RAW_DATA_PATH / \"NHDPlus_H_National_Release_2_GDB\" / \"NHDPlus_H_National_Release_2.gdb\"\n",
    "\n",
    "layers = fiona.listlayers(gdb_path)\n",
    "for layer in layers:\n",
    "    print(layer)"
   ]
  },
  {
   "cell_type": "markdown",
   "id": "f25741e0",
   "metadata": {},
   "source": [
    "For polygon data, we want to merge NetworkNHDFlowline and NonNetworkNHDFlowline. Since these are massive datasets, let's load our buffered CO state boundary and use it to mask the data loading. This will save on time and memory, and the extra step of intersecting later on.\n",
    "\n",
    "First, let's check what CRS the NHD data is in by reading a few rows, and project the state buffer to that CRS:"
   ]
  },
  {
   "cell_type": "code",
   "execution_count": 3,
   "id": "34123ffb",
   "metadata": {},
   "outputs": [
    {
     "name": "stdout",
     "output_type": "stream",
     "text": [
      "Network CRS:  COMPD_CS[\"NAD83 + NAVD88 height\",GEOGCS[\"NAD83\",DATUM[\"North_American_Datum_1983\",SPHEROID[\"GRS 1980\",6378137,298.257222101,AUTHORITY[\"EPSG\",\"7019\"]],AUTHORITY[\"EPSG\",\"6269\"]],PRIMEM[\"Greenwich\",0,AUTHORITY[\"EPSG\",\"8901\"]],UNIT[\"degree\",0.0174532925199433,AUTHORITY[\"EPSG\",\"9122\"]],AXIS[\"Latitude\",NORTH],AXIS[\"Longitude\",EAST],AUTHORITY[\"EPSG\",\"4269\"]],VERT_CS[\"NAVD88 height\",VERT_DATUM[\"North American Vertical Datum 1988\",2005,AUTHORITY[\"EPSG\",\"5103\"]],UNIT[\"metre\",1,AUTHORITY[\"EPSG\",\"9001\"]],AXIS[\"Gravity-related height\",UP],AUTHORITY[\"EPSG\",\"5703\"]]]\n",
      "Non network CRS:  COMPD_CS[\"NAD83 + NAVD88 height\",GEOGCS[\"NAD83\",DATUM[\"North_American_Datum_1983\",SPHEROID[\"GRS 1980\",6378137,298.257222101,AUTHORITY[\"EPSG\",\"7019\"]],AUTHORITY[\"EPSG\",\"6269\"]],PRIMEM[\"Greenwich\",0,AUTHORITY[\"EPSG\",\"8901\"]],UNIT[\"degree\",0.0174532925199433,AUTHORITY[\"EPSG\",\"9122\"]],AXIS[\"Latitude\",NORTH],AXIS[\"Longitude\",EAST],AUTHORITY[\"EPSG\",\"4269\"]],VERT_CS[\"NAVD88 height\",VERT_DATUM[\"North American Vertical Datum 1988\",2005,AUTHORITY[\"EPSG\",\"5103\"]],UNIT[\"metre\",1,AUTHORITY[\"EPSG\",\"9001\"]],AXIS[\"Gravity-related height\",UP],AUTHORITY[\"EPSG\",\"5703\"]]]\n"
     ]
    }
   ],
   "source": [
    "crs_check_area = gpd.read_file(dc.RAW_FILES[\"nhd\"], layer=\"NHDArea\", rows=10)\n",
    "crs_check_non_body = gpd.read_file(dc.RAW_FILES[\"nhd\"], layer=\"NHDWaterbody\", rows=10)\n",
    "print(\"Network CRS: \", crs_check_area.crs)\n",
    "print(\"Non network CRS: \", crs_check_non_body.crs)"
   ]
  },
  {
   "cell_type": "markdown",
   "id": "937c8321",
   "metadata": {},
   "source": [
    "The NHD data uses EPSG:4269 for horizontal coordinates, so let's load project the buffered CO border to this CRS."
   ]
  },
  {
   "cell_type": "code",
   "execution_count": 4,
   "id": "bd665372",
   "metadata": {},
   "outputs": [
    {
     "data": {
      "text/html": [
       "<div>\n",
       "<style scoped>\n",
       "    .dataframe tbody tr th:only-of-type {\n",
       "        vertical-align: middle;\n",
       "    }\n",
       "\n",
       "    .dataframe tbody tr th {\n",
       "        vertical-align: top;\n",
       "    }\n",
       "\n",
       "    .dataframe thead th {\n",
       "        text-align: right;\n",
       "    }\n",
       "</style>\n",
       "<table border=\"1\" class=\"dataframe\">\n",
       "  <thead>\n",
       "    <tr style=\"text-align: right;\">\n",
       "      <th></th>\n",
       "      <th>NAME</th>\n",
       "      <th>geometry</th>\n",
       "    </tr>\n",
       "  </thead>\n",
       "  <tbody>\n",
       "    <tr>\n",
       "      <th>0</th>\n",
       "      <td>Colorado</td>\n",
       "      <td>POLYGON ((143525.677 4102169.628, 143523.188 4...</td>\n",
       "    </tr>\n",
       "  </tbody>\n",
       "</table>\n",
       "</div>"
      ],
      "text/plain": [
       "       NAME                                           geometry\n",
       "0  Colorado  POLYGON ((143525.677 4102169.628, 143523.188 4..."
      ]
     },
     "execution_count": 4,
     "metadata": {},
     "output_type": "execute_result"
    }
   ],
   "source": [
    "# Load buffered CO boundary\n",
    "co_mask = read_interim_layer(\"state_boundary_buffered\")\n",
    "# Project to NHD horizontal CRS\n",
    "co_mask.to_crs(\"EPSG:4269\")\n",
    "co_mask.head()\n"
   ]
  },
  {
   "cell_type": "markdown",
   "id": "a9d9084b",
   "metadata": {},
   "source": [
    "Now, let's load the NHD data with the CO mask."
   ]
  },
  {
   "cell_type": "code",
   "execution_count": 5,
   "id": "17a97cbd",
   "metadata": {},
   "outputs": [
    {
     "name": "stderr",
     "output_type": "stream",
     "text": [
      "/Users/loganproffitt/Desktop/CampGIS.nosync/Repo/CampGIS/venv/lib/python3.11/site-packages/pyogrio/raw.py:198: RuntimeWarning: organizePolygons() received a polygon with more than 100 parts. The processing may be really slow.  You can skip the processing by setting METHOD=SKIP, or only make it analyze counter-clock wise parts by setting METHOD=ONLY_CCW if you can assume that the outline of holes is counter-clock wise defined\n",
      "  return ogr_read(\n"
     ]
    },
    {
     "name": "stdout",
     "output_type": "stream",
     "text": [
      "NHDArea Columns: ['permanent_identifier', 'fdate', 'resolution', 'gnis_id', 'gnis_name', 'areasqkm', 'elevation', 'ftype', 'fcode', 'visibilityfilter', 'nhdplusid', 'vpuid', 'onoffnet', 'purpcode', 'burn', 'Shape_Length', 'Shape_Area', 'geometry']\n",
      "NHDWaterbody Columns: ['permanent_identifier', 'fdate', 'resolution', 'gnis_id', 'gnis_name', 'areasqkm', 'elevation', 'reachcode', 'ftype', 'fcode', 'visibilityfilter', 'nhdplusid', 'vpuid', 'onoffnet', 'purpcode', 'burn', 'Shape_Length', 'Shape_Area', 'geometry']\n"
     ]
    }
   ],
   "source": [
    "# Load flowlines with CO mask\n",
    "area = gpd.read_file(dc.RAW_FILES[\"nhd\"], layer=\"NHDArea\", mask=co_mask)\n",
    "print(\"NHDArea Columns:\", area.columns.tolist())\n",
    "body = gpd.read_file(dc.RAW_FILES[\"nhd\"], layer=\"NHDWaterbody\", mask=co_mask)\n",
    "print(\"NHDWaterbody Columns:\", body.columns.tolist())"
   ]
  },
  {
   "cell_type": "markdown",
   "id": "c0e45157",
   "metadata": {},
   "source": [
    "Let's see what columns are shared by both, and trim down the columns for merging."
   ]
  },
  {
   "cell_type": "code",
   "execution_count": 6,
   "id": "020c0cce",
   "metadata": {},
   "outputs": [
    {
     "name": "stdout",
     "output_type": "stream",
     "text": [
      "['permanent_identifier', 'fdate', 'resolution', 'gnis_id', 'gnis_name', 'areasqkm', 'elevation', 'ftype', 'fcode', 'visibilityfilter', 'nhdplusid', 'vpuid', 'onoffnet', 'purpcode', 'burn', 'Shape_Length', 'Shape_Area', 'geometry']\n"
     ]
    }
   ],
   "source": [
    "shared_cols = [col for col in area.columns if col in body.columns]\n",
    "print(shared_cols)"
   ]
  },
  {
   "cell_type": "code",
   "execution_count": 7,
   "id": "887b58a0",
   "metadata": {},
   "outputs": [],
   "source": [
    "trimmed_cols = [\n",
    "    'permanent_identifier', 'gnis_name', 'fcode', \n",
    "    'nhdplusid', 'Shape_Length', 'Shape_Area', 'geometry'\n",
    "    ]\n",
    "\n",
    "area_trimmed = area.copy()[trimmed_cols]\n",
    "body_trimmed = body.copy()[trimmed_cols]"
   ]
  },
  {
   "cell_type": "markdown",
   "id": "89a15ef5",
   "metadata": {},
   "source": [
    "Before merging, let's add a column to signify the original type - NHDArea or NHDWaterbody."
   ]
  },
  {
   "cell_type": "code",
   "execution_count": 8,
   "id": "2fc1fb19",
   "metadata": {},
   "outputs": [
    {
     "name": "stdout",
     "output_type": "stream",
     "text": [
      "permanent_identifier                                            132228513\n",
      "gnis_name                                                            None\n",
      "fcode                                                               39004\n",
      "nhdplusid                                                23001800227068.0\n",
      "Shape_Length                                                     0.001198\n",
      "Shape_Area                                                            0.0\n",
      "geometry                MULTIPOLYGON Z (((-106.17111227897482 40.99343...\n",
      "NHDType                                                      NHDWaterbody\n",
      "Name: 0, dtype: object\n"
     ]
    }
   ],
   "source": [
    "area_trimmed['NHDType'] = 'NHDArea'\n",
    "body_trimmed['NHDType'] = 'NHDWaterbody'\n",
    "print(body_trimmed.loc[0])"
   ]
  },
  {
   "cell_type": "markdown",
   "id": "9a22f456",
   "metadata": {},
   "source": [
    "**Merging**\n",
    "\n",
    "Ready to merge! Now that columns are shared, let's combine NHDArea and NHDWaterbody."
   ]
  },
  {
   "cell_type": "code",
   "execution_count": 9,
   "id": "924cb0cf",
   "metadata": {},
   "outputs": [
    {
     "name": "stdout",
     "output_type": "stream",
     "text": [
      "NHDTypes:  ['NHDArea' 'NHDWaterbody']\n"
     ]
    },
    {
     "data": {
      "text/html": [
       "<div>\n",
       "<style scoped>\n",
       "    .dataframe tbody tr th:only-of-type {\n",
       "        vertical-align: middle;\n",
       "    }\n",
       "\n",
       "    .dataframe tbody tr th {\n",
       "        vertical-align: top;\n",
       "    }\n",
       "\n",
       "    .dataframe thead th {\n",
       "        text-align: right;\n",
       "    }\n",
       "</style>\n",
       "<table border=\"1\" class=\"dataframe\">\n",
       "  <thead>\n",
       "    <tr style=\"text-align: right;\">\n",
       "      <th></th>\n",
       "      <th>permanent_identifier</th>\n",
       "      <th>gnis_name</th>\n",
       "      <th>fcode</th>\n",
       "      <th>nhdplusid</th>\n",
       "      <th>Shape_Length</th>\n",
       "      <th>Shape_Area</th>\n",
       "      <th>geometry</th>\n",
       "      <th>NHDType</th>\n",
       "    </tr>\n",
       "  </thead>\n",
       "  <tbody>\n",
       "    <tr>\n",
       "      <th>0</th>\n",
       "      <td>128861871</td>\n",
       "      <td>None</td>\n",
       "      <td>34306</td>\n",
       "      <td>2.300180e+13</td>\n",
       "      <td>0.001405</td>\n",
       "      <td>5.508030e-08</td>\n",
       "      <td>MULTIPOLYGON Z (((-106.31636 40.50731 0, -106....</td>\n",
       "      <td>NHDArea</td>\n",
       "    </tr>\n",
       "    <tr>\n",
       "      <th>1</th>\n",
       "      <td>128867328</td>\n",
       "      <td>None</td>\n",
       "      <td>46006</td>\n",
       "      <td>2.300180e+13</td>\n",
       "      <td>3.109968</td>\n",
       "      <td>3.198720e-04</td>\n",
       "      <td>MULTIPOLYGON Z (((-106.40743 40.72295 0, -106....</td>\n",
       "      <td>NHDArea</td>\n",
       "    </tr>\n",
       "    <tr>\n",
       "      <th>2</th>\n",
       "      <td>128859139</td>\n",
       "      <td>None</td>\n",
       "      <td>34306</td>\n",
       "      <td>2.300180e+13</td>\n",
       "      <td>0.002341</td>\n",
       "      <td>1.658604e-07</td>\n",
       "      <td>MULTIPOLYGON Z (((-106.08472 40.61818 0, -106....</td>\n",
       "      <td>NHDArea</td>\n",
       "    </tr>\n",
       "    <tr>\n",
       "      <th>3</th>\n",
       "      <td>132228795</td>\n",
       "      <td>None</td>\n",
       "      <td>46006</td>\n",
       "      <td>2.300180e+13</td>\n",
       "      <td>5.435655</td>\n",
       "      <td>6.241810e-04</td>\n",
       "      <td>MULTIPOLYGON Z (((-105.82683 41.15492 0, -105....</td>\n",
       "      <td>NHDArea</td>\n",
       "    </tr>\n",
       "    <tr>\n",
       "      <th>4</th>\n",
       "      <td>128861873</td>\n",
       "      <td>None</td>\n",
       "      <td>34306</td>\n",
       "      <td>2.300180e+13</td>\n",
       "      <td>0.002711</td>\n",
       "      <td>3.738544e-07</td>\n",
       "      <td>MULTIPOLYGON Z (((-106.29214 40.55282 0, -106....</td>\n",
       "      <td>NHDArea</td>\n",
       "    </tr>\n",
       "  </tbody>\n",
       "</table>\n",
       "</div>"
      ],
      "text/plain": [
       "  permanent_identifier gnis_name  fcode     nhdplusid  Shape_Length  \\\n",
       "0            128861871      None  34306  2.300180e+13      0.001405   \n",
       "1            128867328      None  46006  2.300180e+13      3.109968   \n",
       "2            128859139      None  34306  2.300180e+13      0.002341   \n",
       "3            132228795      None  46006  2.300180e+13      5.435655   \n",
       "4            128861873      None  34306  2.300180e+13      0.002711   \n",
       "\n",
       "     Shape_Area                                           geometry  NHDType  \n",
       "0  5.508030e-08  MULTIPOLYGON Z (((-106.31636 40.50731 0, -106....  NHDArea  \n",
       "1  3.198720e-04  MULTIPOLYGON Z (((-106.40743 40.72295 0, -106....  NHDArea  \n",
       "2  1.658604e-07  MULTIPOLYGON Z (((-106.08472 40.61818 0, -106....  NHDArea  \n",
       "3  6.241810e-04  MULTIPOLYGON Z (((-105.82683 41.15492 0, -105....  NHDArea  \n",
       "4  3.738544e-07  MULTIPOLYGON Z (((-106.29214 40.55282 0, -106....  NHDArea  "
      ]
     },
     "execution_count": 9,
     "metadata": {},
     "output_type": "execute_result"
    }
   ],
   "source": [
    "import pandas as pd\n",
    "\n",
    "polygons_merged = gpd.GeoDataFrame(\n",
    "    pd.concat([area_trimmed, body_trimmed], ignore_index=True),\n",
    "    crs=area_trimmed.crs\n",
    ")\n",
    "\n",
    "print(\"NHDTypes: \", polygons_merged['NHDType'].unique())\n",
    "polygons_merged.head()"
   ]
  },
  {
   "cell_type": "markdown",
   "id": "262bc811",
   "metadata": {},
   "source": [
    "**Geometry**\n",
    "\n",
    "Almost there. Now that we've merged the two water polygon datasets, let's check the geometry types:"
   ]
  },
  {
   "cell_type": "code",
   "execution_count": 10,
   "id": "a14959b1",
   "metadata": {},
   "outputs": [
    {
     "name": "stdout",
     "output_type": "stream",
     "text": [
      "Geometry types:  ['MultiPolygon']\n",
      "Has Z axis:  geometry\n",
      "True    118258\n",
      "Name: count, dtype: int64\n"
     ]
    }
   ],
   "source": [
    "print(\"Geometry types: \", polygons_merged.geometry.type.unique())\n",
    "print(\"Has Z axis: \", polygons_merged.geometry.apply(lambda z: z.has_z).value_counts())"
   ]
  },
  {
   "cell_type": "markdown",
   "id": "0a6fa6b9",
   "metadata": {},
   "source": [
    "All geometries are of type MultiLineString, and contain a Z axis. We don't really need the Z axis for our purposes, so let's strip it for efficiency."
   ]
  },
  {
   "cell_type": "code",
   "execution_count": 11,
   "id": "4ceeed09",
   "metadata": {},
   "outputs": [
    {
     "name": "stdout",
     "output_type": "stream",
     "text": [
      "Has Z axis:  geometry\n",
      "False    118258\n",
      "Name: count, dtype: int64\n"
     ]
    },
    {
     "data": {
      "text/html": [
       "<div>\n",
       "<style scoped>\n",
       "    .dataframe tbody tr th:only-of-type {\n",
       "        vertical-align: middle;\n",
       "    }\n",
       "\n",
       "    .dataframe tbody tr th {\n",
       "        vertical-align: top;\n",
       "    }\n",
       "\n",
       "    .dataframe thead th {\n",
       "        text-align: right;\n",
       "    }\n",
       "</style>\n",
       "<table border=\"1\" class=\"dataframe\">\n",
       "  <thead>\n",
       "    <tr style=\"text-align: right;\">\n",
       "      <th></th>\n",
       "      <th>permanent_identifier</th>\n",
       "      <th>gnis_name</th>\n",
       "      <th>fcode</th>\n",
       "      <th>nhdplusid</th>\n",
       "      <th>Shape_Length</th>\n",
       "      <th>Shape_Area</th>\n",
       "      <th>geometry</th>\n",
       "      <th>NHDType</th>\n",
       "    </tr>\n",
       "  </thead>\n",
       "  <tbody>\n",
       "    <tr>\n",
       "      <th>0</th>\n",
       "      <td>128861871</td>\n",
       "      <td>None</td>\n",
       "      <td>34306</td>\n",
       "      <td>2.300180e+13</td>\n",
       "      <td>0.001405</td>\n",
       "      <td>5.508030e-08</td>\n",
       "      <td>MULTIPOLYGON (((-106.31636 40.50731, -106.3162...</td>\n",
       "      <td>NHDArea</td>\n",
       "    </tr>\n",
       "    <tr>\n",
       "      <th>1</th>\n",
       "      <td>128867328</td>\n",
       "      <td>None</td>\n",
       "      <td>46006</td>\n",
       "      <td>2.300180e+13</td>\n",
       "      <td>3.109968</td>\n",
       "      <td>3.198720e-04</td>\n",
       "      <td>MULTIPOLYGON (((-106.40743 40.72295, -106.4078...</td>\n",
       "      <td>NHDArea</td>\n",
       "    </tr>\n",
       "    <tr>\n",
       "      <th>2</th>\n",
       "      <td>128859139</td>\n",
       "      <td>None</td>\n",
       "      <td>34306</td>\n",
       "      <td>2.300180e+13</td>\n",
       "      <td>0.002341</td>\n",
       "      <td>1.658604e-07</td>\n",
       "      <td>MULTIPOLYGON (((-106.08472 40.61818, -106.0858...</td>\n",
       "      <td>NHDArea</td>\n",
       "    </tr>\n",
       "    <tr>\n",
       "      <th>3</th>\n",
       "      <td>132228795</td>\n",
       "      <td>None</td>\n",
       "      <td>46006</td>\n",
       "      <td>2.300180e+13</td>\n",
       "      <td>5.435655</td>\n",
       "      <td>6.241810e-04</td>\n",
       "      <td>MULTIPOLYGON (((-105.82683 41.15492, -105.8271...</td>\n",
       "      <td>NHDArea</td>\n",
       "    </tr>\n",
       "    <tr>\n",
       "      <th>4</th>\n",
       "      <td>128861873</td>\n",
       "      <td>None</td>\n",
       "      <td>34306</td>\n",
       "      <td>2.300180e+13</td>\n",
       "      <td>0.002711</td>\n",
       "      <td>3.738544e-07</td>\n",
       "      <td>MULTIPOLYGON (((-106.29214 40.55282, -106.2918...</td>\n",
       "      <td>NHDArea</td>\n",
       "    </tr>\n",
       "  </tbody>\n",
       "</table>\n",
       "</div>"
      ],
      "text/plain": [
       "  permanent_identifier gnis_name  fcode     nhdplusid  Shape_Length  \\\n",
       "0            128861871      None  34306  2.300180e+13      0.001405   \n",
       "1            128867328      None  46006  2.300180e+13      3.109968   \n",
       "2            128859139      None  34306  2.300180e+13      0.002341   \n",
       "3            132228795      None  46006  2.300180e+13      5.435655   \n",
       "4            128861873      None  34306  2.300180e+13      0.002711   \n",
       "\n",
       "     Shape_Area                                           geometry  NHDType  \n",
       "0  5.508030e-08  MULTIPOLYGON (((-106.31636 40.50731, -106.3162...  NHDArea  \n",
       "1  3.198720e-04  MULTIPOLYGON (((-106.40743 40.72295, -106.4078...  NHDArea  \n",
       "2  1.658604e-07  MULTIPOLYGON (((-106.08472 40.61818, -106.0858...  NHDArea  \n",
       "3  6.241810e-04  MULTIPOLYGON (((-105.82683 41.15492, -105.8271...  NHDArea  \n",
       "4  3.738544e-07  MULTIPOLYGON (((-106.29214 40.55282, -106.2918...  NHDArea  "
      ]
     },
     "execution_count": 11,
     "metadata": {},
     "output_type": "execute_result"
    }
   ],
   "source": [
    "polygons_merged['geometry'] = polygons_merged['geometry'].apply(strip_z_polygon)\n",
    "print(\"Has Z axis: \", polygons_merged.geometry.apply(lambda z: z.has_z).value_counts())\n",
    "polygons_merged.head()"
   ]
  },
  {
   "cell_type": "markdown",
   "id": "b16e0d5a",
   "metadata": {},
   "source": [
    "Finally, let's drop missing geometries and validate."
   ]
  },
  {
   "cell_type": "code",
   "execution_count": 12,
   "id": "cc42af53",
   "metadata": {},
   "outputs": [
    {
     "name": "stdout",
     "output_type": "stream",
     "text": [
      "Rows before validation:  118258\n",
      "Rows after validation:  118233\n"
     ]
    }
   ],
   "source": [
    "print(\"Rows before validation: \", polygons_merged.shape[0])\n",
    "polygons_validated = drop_missing_geometry(polygons_merged)\n",
    "polygons_validated = validate_geometry(polygons_merged)\n",
    "print(\"Rows after validation: \", polygons_validated.shape[0])"
   ]
  },
  {
   "cell_type": "markdown",
   "id": "12a26350",
   "metadata": {},
   "source": [
    "**Exporting Data**\n",
    "\n",
    "Our flowline data is fully cleaned and merged! Let's export to data/interim for further use. This file (water_polygon_clean) is marked for display, so will also be exported to data/processed for display in visualization."
   ]
  },
  {
   "cell_type": "code",
   "execution_count": 13,
   "id": "46a34b06",
   "metadata": {},
   "outputs": [
    {
     "name": "stdout",
     "output_type": "stream",
     "text": [
      "Saved to interim: /Users/loganproffitt/Desktop/CampGIS.nosync/Repo/CampGIS/data/interim/water_polygon_clean.gpkg\n",
      "Also saved to processed: /Users/loganproffitt/Desktop/CampGIS.nosync/Repo/CampGIS/data/processed/water_polygon_clean.gpkg\n"
     ]
    }
   ],
   "source": [
    "export_interim(polygons_validated, \"water_polygon_clean\", driver=\"GPKG\", verbose=True)"
   ]
  }
 ],
 "metadata": {
  "kernelspec": {
   "display_name": "venv",
   "language": "python",
   "name": "python3"
  },
  "language_info": {
   "codemirror_mode": {
    "name": "ipython",
    "version": 3
   },
   "file_extension": ".py",
   "mimetype": "text/x-python",
   "name": "python",
   "nbconvert_exporter": "python",
   "pygments_lexer": "ipython3",
   "version": "3.11.8"
  }
 },
 "nbformat": 4,
 "nbformat_minor": 5
}
