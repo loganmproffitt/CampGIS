{
 "cells": [
  {
   "cell_type": "markdown",
   "id": "9937c2b5",
   "metadata": {},
   "source": [
    "**Buffering Water Flowlines**\n",
    "\n",
    "Water data has been cleaned by another notebook, so we can focus on buffering. First, let's set up the project path and import helpers."
   ]
  },
  {
   "cell_type": "code",
   "execution_count": 2,
   "id": "e636944c",
   "metadata": {},
   "outputs": [],
   "source": [
    "%run ../../bootstrap.py\n",
    "setup_project_path()\n",
    "\n",
    "from scripts.io_helpers import read_interim_layer, export_interim\n",
    "from scripts.data_helpers import to_buffer_crs\n",
    "from scripts import data_config as dc"
   ]
  },
  {
   "cell_type": "markdown",
   "id": "f9226f40",
   "metadata": {},
   "source": [
    "Next, let's load the data and project to the buffering crs."
   ]
  },
  {
   "cell_type": "code",
   "execution_count": 3,
   "id": "1facb2ce",
   "metadata": {},
   "outputs": [],
   "source": [
    "# Load cleaned MVUM data\n",
    "gdf = read_interim_layer(\"flowline_clean\")\n",
    "\n",
    "# Ensure correct CRS\n",
    "gdf_projected = to_buffer_crs(gdf)"
   ]
  },
  {
   "cell_type": "markdown",
   "id": "ca4b2d66",
   "metadata": {},
   "source": [
    "Finally, let's buffer and export."
   ]
  },
  {
   "cell_type": "code",
   "execution_count": null,
   "id": "93aae2bb",
   "metadata": {},
   "outputs": [],
   "source": [
    "# Buffer\n",
    "gdf_buffered = gdf_projected.copy()\n",
    "gdf_buffered[\"geometry\"] = gdf_buffered.geometry.buffer(dc.BUFFER_SETTINGS_METERS[\"water\"])\n",
    "\n",
    "# Export\n",
    "export_interim(gdf_buffered, \"water_flowline_buffered\", driver=\"GPKG\", verbose=True)"
   ]
  }
 ],
 "metadata": {
  "kernelspec": {
   "display_name": "venv",
   "language": "python",
   "name": "python3"
  },
  "language_info": {
   "codemirror_mode": {
    "name": "ipython",
    "version": 3
   },
   "file_extension": ".py",
   "mimetype": "text/x-python",
   "name": "python",
   "nbconvert_exporter": "python",
   "pygments_lexer": "ipython3",
   "version": "3.11.8"
  }
 },
 "nbformat": 4,
 "nbformat_minor": 5
}
