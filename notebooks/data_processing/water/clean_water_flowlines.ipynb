{
 "cells": [
  {
   "cell_type": "markdown",
   "id": "02aac85f",
   "metadata": {},
   "source": [
    "**Water Flowline Data Cleaning**\n",
    "\n",
    "Let's clean and merge flowline-related data from the National Hydrography Dataset."
   ]
  },
  {
   "cell_type": "code",
   "execution_count": null,
   "id": "73e9b873",
   "metadata": {},
   "outputs": [],
   "source": [
    "%run ../bootstrap.py\n",
    "setup_project_path()\n",
    "\n",
    "from scripts.io_helpers import export_interim, read_interim_layer\n",
    "from scripts.geometry_helpers import strip_z_line, drop_missing_geometry, validate_geometry\n",
    "from scripts import data_config as dc\n",
    "import geopandas as gpd\n",
    "import fiona"
   ]
  },
  {
   "cell_type": "markdown",
   "id": "5b871a95",
   "metadata": {},
   "source": [
    "Let's take a look at the layers."
   ]
  },
  {
   "cell_type": "code",
   "execution_count": 2,
   "id": "c2141b19",
   "metadata": {},
   "outputs": [
    {
     "name": "stdout",
     "output_type": "stream",
     "text": [
      "NHDPlusGageSmooth\n",
      "NHDPlusFlow\n",
      "NHDArea\n",
      "NHDLine\n",
      "NHDPlusBoundaryUnit\n",
      "NHDPlusCatchment\n",
      "NHDPlusGage\n",
      "NHDPlusSink\n",
      "NHDPlusWall\n",
      "NHDPoint\n",
      "NHDWaterbody\n",
      "NonNetworkNHDFlowline\n",
      "WBDHU12\n",
      "NHDPlusConnect\n",
      "NetworkNHDFlowline\n"
     ]
    }
   ],
   "source": [
    "gdb_path = dc.RAW_DATA_PATH / \"NHDPlus_H_National_Release_2_GDB\" / \"NHDPlus_H_National_Release_2.gdb\"\n",
    "\n",
    "layers = fiona.listlayers(gdb_path)\n",
    "for layer in layers:\n",
    "    print(layer)"
   ]
  },
  {
   "cell_type": "markdown",
   "id": "f25741e0",
   "metadata": {},
   "source": [
    "For flowline data, we want to merge NetworkNHDFlowline and NonNetworkNHDFlowline. Since these are massive datasets, let's load our buffered CO state boundary and use it to mask the data loading. This will save on time and memory, and the extra step of intersecting later on.\n",
    "\n",
    "First, let's check what CRS the NHD data is in by reading a few rows, and project the state buffer to that CRS:"
   ]
  },
  {
   "cell_type": "code",
   "execution_count": 3,
   "id": "34123ffb",
   "metadata": {},
   "outputs": [
    {
     "name": "stdout",
     "output_type": "stream",
     "text": [
      "Network CRS:  COMPD_CS[\"NAD83 + NAVD88 height\",GEOGCS[\"NAD83\",DATUM[\"North_American_Datum_1983\",SPHEROID[\"GRS 1980\",6378137,298.257222101,AUTHORITY[\"EPSG\",\"7019\"]],AUTHORITY[\"EPSG\",\"6269\"]],PRIMEM[\"Greenwich\",0,AUTHORITY[\"EPSG\",\"8901\"]],UNIT[\"degree\",0.0174532925199433,AUTHORITY[\"EPSG\",\"9122\"]],AXIS[\"Latitude\",NORTH],AXIS[\"Longitude\",EAST],AUTHORITY[\"EPSG\",\"4269\"]],VERT_CS[\"NAVD88 height\",VERT_DATUM[\"North American Vertical Datum 1988\",2005,AUTHORITY[\"EPSG\",\"5103\"]],UNIT[\"metre\",1,AUTHORITY[\"EPSG\",\"9001\"]],AXIS[\"Gravity-related height\",UP],AUTHORITY[\"EPSG\",\"5703\"]]]\n",
      "Non network CRS:  COMPD_CS[\"NAD83 + NAVD88 height\",GEOGCS[\"NAD83\",DATUM[\"North_American_Datum_1983\",SPHEROID[\"GRS 1980\",6378137,298.257222101,AUTHORITY[\"EPSG\",\"7019\"]],AUTHORITY[\"EPSG\",\"6269\"]],PRIMEM[\"Greenwich\",0,AUTHORITY[\"EPSG\",\"8901\"]],UNIT[\"degree\",0.0174532925199433,AUTHORITY[\"EPSG\",\"9122\"]],AXIS[\"Latitude\",NORTH],AXIS[\"Longitude\",EAST],AUTHORITY[\"EPSG\",\"4269\"]],VERT_CS[\"NAVD88 height\",VERT_DATUM[\"North American Vertical Datum 1988\",2005,AUTHORITY[\"EPSG\",\"5103\"]],UNIT[\"metre\",1,AUTHORITY[\"EPSG\",\"9001\"]],AXIS[\"Gravity-related height\",UP],AUTHORITY[\"EPSG\",\"5703\"]]]\n"
     ]
    },
    {
     "name": "stderr",
     "output_type": "stream",
     "text": [
      "/Users/loganproffitt/Desktop/CampGIS.nosync/Repo/CampGIS/venv/lib/python3.11/site-packages/pyogrio/raw.py:198: UserWarning: Measured (M) geometry types are not supported. Original type 'Measured 3D MultiLineString' is converted to 'MultiLineString Z'\n",
      "  return ogr_read(\n",
      "/Users/loganproffitt/Desktop/CampGIS.nosync/Repo/CampGIS/venv/lib/python3.11/site-packages/pyogrio/raw.py:198: UserWarning: Measured (M) geometry types are not supported. Original type 'Measured 3D MultiLineString' is converted to 'MultiLineString Z'\n",
      "  return ogr_read(\n"
     ]
    }
   ],
   "source": [
    "crs_check_network = gpd.read_file(dc.RAW_FILES[\"nhd\"], layer=\"NetworkNHDFlowline\", rows=10)\n",
    "crs_check_non_network = gpd.read_file(dc.RAW_FILES[\"nhd\"], layer=\"NonNetworkNHDFlowline\", rows=10)\n",
    "print(\"Network CRS: \", crs_check_network.crs)\n",
    "print(\"Non network CRS: \", crs_check_non_network.crs)"
   ]
  },
  {
   "cell_type": "markdown",
   "id": "937c8321",
   "metadata": {},
   "source": [
    "The NHD data uses EPSG:4269 for horizontal coordinates, so let's load project the buffered CO border to this CRS."
   ]
  },
  {
   "cell_type": "code",
   "execution_count": 4,
   "id": "bd665372",
   "metadata": {},
   "outputs": [
    {
     "data": {
      "text/html": [
       "<div>\n",
       "<style scoped>\n",
       "    .dataframe tbody tr th:only-of-type {\n",
       "        vertical-align: middle;\n",
       "    }\n",
       "\n",
       "    .dataframe tbody tr th {\n",
       "        vertical-align: top;\n",
       "    }\n",
       "\n",
       "    .dataframe thead th {\n",
       "        text-align: right;\n",
       "    }\n",
       "</style>\n",
       "<table border=\"1\" class=\"dataframe\">\n",
       "  <thead>\n",
       "    <tr style=\"text-align: right;\">\n",
       "      <th></th>\n",
       "      <th>NAME</th>\n",
       "      <th>geometry</th>\n",
       "    </tr>\n",
       "  </thead>\n",
       "  <tbody>\n",
       "    <tr>\n",
       "      <th>0</th>\n",
       "      <td>Colorado</td>\n",
       "      <td>POLYGON ((143525.677 4102169.628, 143523.188 4...</td>\n",
       "    </tr>\n",
       "  </tbody>\n",
       "</table>\n",
       "</div>"
      ],
      "text/plain": [
       "       NAME                                           geometry\n",
       "0  Colorado  POLYGON ((143525.677 4102169.628, 143523.188 4..."
      ]
     },
     "execution_count": 4,
     "metadata": {},
     "output_type": "execute_result"
    }
   ],
   "source": [
    "# Load buffered CO boundary\n",
    "co_mask = read_interim_layer(\"state_boundary_buffered\")\n",
    "# Project to NHD horizontal CRS\n",
    "co_mask.to_crs(\"EPSG:4269\")\n",
    "co_mask.head()\n"
   ]
  },
  {
   "cell_type": "markdown",
   "id": "a9d9084b",
   "metadata": {},
   "source": [
    "Now, let's load the NHD data with the CO mask."
   ]
  },
  {
   "cell_type": "code",
   "execution_count": 5,
   "id": "17a97cbd",
   "metadata": {},
   "outputs": [
    {
     "name": "stderr",
     "output_type": "stream",
     "text": [
      "/Users/loganproffitt/Desktop/CampGIS.nosync/Repo/CampGIS/venv/lib/python3.11/site-packages/pyogrio/core.py:279: UserWarning: Measured (M) geometry types are not supported. Original type 'Measured 3D MultiLineString' is converted to 'MultiLineString Z'\n",
      "  return ogr_read_info(\n",
      "/Users/loganproffitt/Desktop/CampGIS.nosync/Repo/CampGIS/venv/lib/python3.11/site-packages/pyogrio/raw.py:198: UserWarning: Measured (M) geometry types are not supported. Original type 'Measured 3D MultiLineString' is converted to 'MultiLineString Z'\n",
      "  return ogr_read(\n"
     ]
    },
    {
     "name": "stdout",
     "output_type": "stream",
     "text": [
      "NetworkFlowline Columns: ['permanent_identifier', 'fdate', 'resolution', 'gnis_id', 'gnis_name', 'lengthkm', 'reachcode', 'flowdir', 'wbarea_permanent_identifier', 'ftype', 'fcode', 'mainpath', 'innetwork', 'visibilityfilter', 'nhdplusid', 'vpuid', 'streamleve', 'streamorde', 'streamcalc', 'fromnode', 'tonode', 'hydroseq', 'levelpathi', 'pathlength', 'terminalpa', 'arbolatesu', 'divergence', 'startflag', 'terminalfl', 'uplevelpat', 'uphydroseq', 'dnlevel', 'dnlevelpat', 'dnhydroseq', 'dnminorhyd', 'dndraincou', 'frommeas', 'tomeas', 'rtndiv', 'thinner', 'vpuin', 'vpuout', 'areasqkm', 'totdasqkm', 'divdasqkm', 'maxelevraw', 'minelevraw', 'maxelevsmo', 'minelevsmo', 'slope', 'slopelenkm', 'elevfixed', 'hwtype', 'hwnodesqkm', 'statusflag', 'qama', 'vama', 'qincrama', 'qbma', 'vbma', 'qincrbma', 'qcma', 'vcma', 'qincrcma', 'qdma', 'vdma', 'qincrdma', 'qema', 'vema', 'qincrema', 'qfma', 'qincrfma', 'arqnavma', 'petma', 'qlossma', 'qgadjma', 'qgnavma', 'gageadjma', 'avgqadjma', 'gageidma', 'gageqma', 'Shape_Length', 'geometry']\n"
     ]
    },
    {
     "name": "stderr",
     "output_type": "stream",
     "text": [
      "/Users/loganproffitt/Desktop/CampGIS.nosync/Repo/CampGIS/venv/lib/python3.11/site-packages/pyogrio/core.py:279: UserWarning: Measured (M) geometry types are not supported. Original type 'Measured 3D MultiLineString' is converted to 'MultiLineString Z'\n",
      "  return ogr_read_info(\n",
      "/Users/loganproffitt/Desktop/CampGIS.nosync/Repo/CampGIS/venv/lib/python3.11/site-packages/pyogrio/raw.py:198: UserWarning: Measured (M) geometry types are not supported. Original type 'Measured 3D MultiLineString' is converted to 'MultiLineString Z'\n",
      "  return ogr_read(\n"
     ]
    },
    {
     "name": "stdout",
     "output_type": "stream",
     "text": [
      "NonNetworkFlowline Columns: ['permanent_Identifier', 'fdate', 'resolution', 'gnis_id', 'gnis_name', 'lengthkm', 'reachcode', 'flowdir', 'wbarea_permanent_identifier', 'ftype', 'fcode', 'mainpath', 'innetwork', 'visibilityfilter', 'nhdplusid', 'vpuid', 'Shape_Length', 'geometry']\n"
     ]
    }
   ],
   "source": [
    "# Load flowlines with CO mask\n",
    "net_flow = gpd.read_file(dc.RAW_FILES[\"nhd\"], layer=\"NetworkNHDFlowline\", mask=co_mask)\n",
    "print(\"NetworkFlowline Columns:\", net_flow.columns.tolist())\n",
    "non_net_flow = gpd.read_file(dc.RAW_FILES[\"nhd\"], layer=\"NonNetworkNHDFlowline\", mask=co_mask)\n",
    "print(\"NonNetworkFlowline Columns:\", non_net_flow.columns.tolist())"
   ]
  },
  {
   "cell_type": "markdown",
   "id": "c0e45157",
   "metadata": {},
   "source": [
    "Let's see what columns are shared by both, and trim down the columns for merging."
   ]
  },
  {
   "cell_type": "code",
   "execution_count": 6,
   "id": "020c0cce",
   "metadata": {},
   "outputs": [
    {
     "name": "stdout",
     "output_type": "stream",
     "text": [
      "['fdate', 'resolution', 'gnis_id', 'gnis_name', 'lengthkm', 'reachcode', 'flowdir', 'wbarea_permanent_identifier', 'ftype', 'fcode', 'mainpath', 'innetwork', 'visibilityfilter', 'nhdplusid', 'vpuid', 'Shape_Length', 'geometry']\n"
     ]
    }
   ],
   "source": [
    "shared_cols = [col for col in net_flow.columns if col in non_net_flow.columns]\n",
    "print(shared_cols)"
   ]
  },
  {
   "cell_type": "code",
   "execution_count": 8,
   "id": "887b58a0",
   "metadata": {},
   "outputs": [],
   "source": [
    "trimmed_cols = [\n",
    "    'gnis_name', 'fcode', 'flowdir', 'innetwork', 'nhdplusid',\n",
    "    'lengthkm', 'reachcode', 'geometry'\n",
    "]\n",
    "\n",
    "net_flow_trimmed = net_flow.copy()[trimmed_cols]\n",
    "non_net_flow_trimmed = non_net_flow.copy()[trimmed_cols]"
   ]
  },
  {
   "cell_type": "markdown",
   "id": "89a15ef5",
   "metadata": {},
   "source": [
    "Before merging, let's add a column to signify the original type - NetworkNHDFlowline or NonNetworkNHDFlowline."
   ]
  },
  {
   "cell_type": "code",
   "execution_count": 9,
   "id": "2fc1fb19",
   "metadata": {},
   "outputs": [
    {
     "name": "stdout",
     "output_type": "stream",
     "text": [
      "gnis_name                                                 None\n",
      "fcode                                                    42803\n",
      "flowdir                                                      0\n",
      "innetwork                                                    0\n",
      "nhdplusid                                     23001800067853.0\n",
      "lengthkm                                                 0.058\n",
      "reachcode                                       10180001011402\n",
      "geometry     MULTILINESTRING Z ((-106.21778167890238 40.799...\n",
      "NHDType                                  NonNetworkNHDFlowline\n",
      "Name: 0, dtype: object\n"
     ]
    }
   ],
   "source": [
    "net_flow_trimmed['NHDType'] = 'NetworkNHDFlowline'\n",
    "non_net_flow_trimmed['NHDType'] = 'NonNetworkNHDFlowline'\n",
    "print(non_net_flow_trimmed.loc[0])"
   ]
  },
  {
   "cell_type": "markdown",
   "id": "9a22f456",
   "metadata": {},
   "source": [
    "**Merging**\n",
    "\n",
    "Ready to merge! Now that columns are shared, let's combine Network Flowlines and Non Network Flowlines."
   ]
  },
  {
   "cell_type": "code",
   "execution_count": 10,
   "id": "924cb0cf",
   "metadata": {},
   "outputs": [
    {
     "data": {
      "text/html": [
       "<div>\n",
       "<style scoped>\n",
       "    .dataframe tbody tr th:only-of-type {\n",
       "        vertical-align: middle;\n",
       "    }\n",
       "\n",
       "    .dataframe tbody tr th {\n",
       "        vertical-align: top;\n",
       "    }\n",
       "\n",
       "    .dataframe thead th {\n",
       "        text-align: right;\n",
       "    }\n",
       "</style>\n",
       "<table border=\"1\" class=\"dataframe\">\n",
       "  <thead>\n",
       "    <tr style=\"text-align: right;\">\n",
       "      <th></th>\n",
       "      <th>gnis_name</th>\n",
       "      <th>fcode</th>\n",
       "      <th>flowdir</th>\n",
       "      <th>innetwork</th>\n",
       "      <th>nhdplusid</th>\n",
       "      <th>lengthkm</th>\n",
       "      <th>reachcode</th>\n",
       "      <th>geometry</th>\n",
       "      <th>NHDType</th>\n",
       "    </tr>\n",
       "  </thead>\n",
       "  <tbody>\n",
       "    <tr>\n",
       "      <th>0</th>\n",
       "      <td>None</td>\n",
       "      <td>46006</td>\n",
       "      <td>1</td>\n",
       "      <td>1</td>\n",
       "      <td>2.300180e+13</td>\n",
       "      <td>0.223000</td>\n",
       "      <td>10180001002059</td>\n",
       "      <td>MULTILINESTRING Z ((-106.2313 40.70232 0, -106...</td>\n",
       "      <td>NetworkNHDFlowline</td>\n",
       "    </tr>\n",
       "    <tr>\n",
       "      <th>1</th>\n",
       "      <td>Michigan River</td>\n",
       "      <td>46006</td>\n",
       "      <td>1</td>\n",
       "      <td>1</td>\n",
       "      <td>2.300180e+13</td>\n",
       "      <td>0.527000</td>\n",
       "      <td>10180001001786</td>\n",
       "      <td>MULTILINESTRING Z ((-106.24196 40.71838 0, -10...</td>\n",
       "      <td>NetworkNHDFlowline</td>\n",
       "    </tr>\n",
       "    <tr>\n",
       "      <th>2</th>\n",
       "      <td>Pinkham Creek</td>\n",
       "      <td>46006</td>\n",
       "      <td>1</td>\n",
       "      <td>1</td>\n",
       "      <td>2.300180e+13</td>\n",
       "      <td>1.141018</td>\n",
       "      <td>10180001000400</td>\n",
       "      <td>MULTILINESTRING Z ((-106.21946 40.92214 0, -10...</td>\n",
       "      <td>NetworkNHDFlowline</td>\n",
       "    </tr>\n",
       "    <tr>\n",
       "      <th>3</th>\n",
       "      <td>None</td>\n",
       "      <td>46006</td>\n",
       "      <td>1</td>\n",
       "      <td>1</td>\n",
       "      <td>2.300180e+13</td>\n",
       "      <td>0.129345</td>\n",
       "      <td>10180010000903</td>\n",
       "      <td>MULTILINESTRING Z ((-106.10806 40.99504 0, -10...</td>\n",
       "      <td>NetworkNHDFlowline</td>\n",
       "    </tr>\n",
       "    <tr>\n",
       "      <th>4</th>\n",
       "      <td>South Fork Canadian River</td>\n",
       "      <td>46006</td>\n",
       "      <td>1</td>\n",
       "      <td>1</td>\n",
       "      <td>2.300180e+13</td>\n",
       "      <td>3.704000</td>\n",
       "      <td>10180001000386</td>\n",
       "      <td>MULTILINESTRING Z ((-105.95299 40.58555 0, -10...</td>\n",
       "      <td>NetworkNHDFlowline</td>\n",
       "    </tr>\n",
       "  </tbody>\n",
       "</table>\n",
       "</div>"
      ],
      "text/plain": [
       "                   gnis_name  fcode  flowdir  innetwork     nhdplusid  \\\n",
       "0                       None  46006        1          1  2.300180e+13   \n",
       "1             Michigan River  46006        1          1  2.300180e+13   \n",
       "2              Pinkham Creek  46006        1          1  2.300180e+13   \n",
       "3                       None  46006        1          1  2.300180e+13   \n",
       "4  South Fork Canadian River  46006        1          1  2.300180e+13   \n",
       "\n",
       "   lengthkm       reachcode  \\\n",
       "0  0.223000  10180001002059   \n",
       "1  0.527000  10180001001786   \n",
       "2  1.141018  10180001000400   \n",
       "3  0.129345  10180010000903   \n",
       "4  3.704000  10180001000386   \n",
       "\n",
       "                                            geometry             NHDType  \n",
       "0  MULTILINESTRING Z ((-106.2313 40.70232 0, -106...  NetworkNHDFlowline  \n",
       "1  MULTILINESTRING Z ((-106.24196 40.71838 0, -10...  NetworkNHDFlowline  \n",
       "2  MULTILINESTRING Z ((-106.21946 40.92214 0, -10...  NetworkNHDFlowline  \n",
       "3  MULTILINESTRING Z ((-106.10806 40.99504 0, -10...  NetworkNHDFlowline  \n",
       "4  MULTILINESTRING Z ((-105.95299 40.58555 0, -10...  NetworkNHDFlowline  "
      ]
     },
     "execution_count": 10,
     "metadata": {},
     "output_type": "execute_result"
    }
   ],
   "source": [
    "import pandas as pd\n",
    "\n",
    "flowlines_merged = gpd.GeoDataFrame(\n",
    "    pd.concat([net_flow_trimmed, non_net_flow_trimmed], ignore_index=True),\n",
    "    crs=net_flow_trimmed.crs\n",
    ")\n",
    "\n",
    "flowlines_merged.head()"
   ]
  },
  {
   "cell_type": "markdown",
   "id": "262bc811",
   "metadata": {},
   "source": [
    "**Geometry**\n",
    "\n",
    "Almost there. Now that we've merged the two flowline datasets, let's check the geometry types:"
   ]
  },
  {
   "cell_type": "code",
   "execution_count": 11,
   "id": "a14959b1",
   "metadata": {},
   "outputs": [
    {
     "name": "stdout",
     "output_type": "stream",
     "text": [
      "Geometry types:  ['MultiLineString']\n",
      "Has Z axis:  geometry\n",
      "True    995471\n",
      "Name: count, dtype: int64\n"
     ]
    }
   ],
   "source": [
    "print(\"Geometry types: \", flowlines_merged.geometry.type.unique())\n",
    "print(\"Has Z axis: \", flowlines_merged.geometry.apply(lambda z: z.has_z).value_counts())"
   ]
  },
  {
   "cell_type": "markdown",
   "id": "0a6fa6b9",
   "metadata": {},
   "source": [
    "All geometries are of type MultiLineString, and contain a Z axis. We don't really need the Z axis for our purposes, so let's strip it for efficiency."
   ]
  },
  {
   "cell_type": "code",
   "execution_count": null,
   "id": "4ceeed09",
   "metadata": {},
   "outputs": [
    {
     "name": "stdout",
     "output_type": "stream",
     "text": [
      "Has Z axis:  geometry\n",
      "False    995471\n",
      "Name: count, dtype: int64\n"
     ]
    },
    {
     "data": {
      "text/html": [
       "<div>\n",
       "<style scoped>\n",
       "    .dataframe tbody tr th:only-of-type {\n",
       "        vertical-align: middle;\n",
       "    }\n",
       "\n",
       "    .dataframe tbody tr th {\n",
       "        vertical-align: top;\n",
       "    }\n",
       "\n",
       "    .dataframe thead th {\n",
       "        text-align: right;\n",
       "    }\n",
       "</style>\n",
       "<table border=\"1\" class=\"dataframe\">\n",
       "  <thead>\n",
       "    <tr style=\"text-align: right;\">\n",
       "      <th></th>\n",
       "      <th>gnis_name</th>\n",
       "      <th>fcode</th>\n",
       "      <th>flowdir</th>\n",
       "      <th>innetwork</th>\n",
       "      <th>nhdplusid</th>\n",
       "      <th>lengthkm</th>\n",
       "      <th>reachcode</th>\n",
       "      <th>geometry</th>\n",
       "      <th>NHDType</th>\n",
       "    </tr>\n",
       "  </thead>\n",
       "  <tbody>\n",
       "    <tr>\n",
       "      <th>0</th>\n",
       "      <td>None</td>\n",
       "      <td>46006</td>\n",
       "      <td>1</td>\n",
       "      <td>1</td>\n",
       "      <td>2.300180e+13</td>\n",
       "      <td>0.223000</td>\n",
       "      <td>10180001002059</td>\n",
       "      <td>MULTILINESTRING ((-106.2313 40.70232, -106.231...</td>\n",
       "      <td>NetworkNHDFlowline</td>\n",
       "    </tr>\n",
       "    <tr>\n",
       "      <th>1</th>\n",
       "      <td>Michigan River</td>\n",
       "      <td>46006</td>\n",
       "      <td>1</td>\n",
       "      <td>1</td>\n",
       "      <td>2.300180e+13</td>\n",
       "      <td>0.527000</td>\n",
       "      <td>10180001001786</td>\n",
       "      <td>MULTILINESTRING ((-106.24196 40.71838, -106.24...</td>\n",
       "      <td>NetworkNHDFlowline</td>\n",
       "    </tr>\n",
       "    <tr>\n",
       "      <th>2</th>\n",
       "      <td>Pinkham Creek</td>\n",
       "      <td>46006</td>\n",
       "      <td>1</td>\n",
       "      <td>1</td>\n",
       "      <td>2.300180e+13</td>\n",
       "      <td>1.141018</td>\n",
       "      <td>10180001000400</td>\n",
       "      <td>MULTILINESTRING ((-106.21946 40.92214, -106.21...</td>\n",
       "      <td>NetworkNHDFlowline</td>\n",
       "    </tr>\n",
       "    <tr>\n",
       "      <th>3</th>\n",
       "      <td>None</td>\n",
       "      <td>46006</td>\n",
       "      <td>1</td>\n",
       "      <td>1</td>\n",
       "      <td>2.300180e+13</td>\n",
       "      <td>0.129345</td>\n",
       "      <td>10180010000903</td>\n",
       "      <td>MULTILINESTRING ((-106.10806 40.99504, -106.10...</td>\n",
       "      <td>NetworkNHDFlowline</td>\n",
       "    </tr>\n",
       "    <tr>\n",
       "      <th>4</th>\n",
       "      <td>South Fork Canadian River</td>\n",
       "      <td>46006</td>\n",
       "      <td>1</td>\n",
       "      <td>1</td>\n",
       "      <td>2.300180e+13</td>\n",
       "      <td>3.704000</td>\n",
       "      <td>10180001000386</td>\n",
       "      <td>MULTILINESTRING ((-105.95299 40.58555, -105.95...</td>\n",
       "      <td>NetworkNHDFlowline</td>\n",
       "    </tr>\n",
       "  </tbody>\n",
       "</table>\n",
       "</div>"
      ],
      "text/plain": [
       "                   gnis_name  fcode  flowdir  innetwork     nhdplusid  \\\n",
       "0                       None  46006        1          1  2.300180e+13   \n",
       "1             Michigan River  46006        1          1  2.300180e+13   \n",
       "2              Pinkham Creek  46006        1          1  2.300180e+13   \n",
       "3                       None  46006        1          1  2.300180e+13   \n",
       "4  South Fork Canadian River  46006        1          1  2.300180e+13   \n",
       "\n",
       "   lengthkm       reachcode  \\\n",
       "0  0.223000  10180001002059   \n",
       "1  0.527000  10180001001786   \n",
       "2  1.141018  10180001000400   \n",
       "3  0.129345  10180010000903   \n",
       "4  3.704000  10180001000386   \n",
       "\n",
       "                                            geometry             NHDType  \n",
       "0  MULTILINESTRING ((-106.2313 40.70232, -106.231...  NetworkNHDFlowline  \n",
       "1  MULTILINESTRING ((-106.24196 40.71838, -106.24...  NetworkNHDFlowline  \n",
       "2  MULTILINESTRING ((-106.21946 40.92214, -106.21...  NetworkNHDFlowline  \n",
       "3  MULTILINESTRING ((-106.10806 40.99504, -106.10...  NetworkNHDFlowline  \n",
       "4  MULTILINESTRING ((-105.95299 40.58555, -105.95...  NetworkNHDFlowline  "
      ]
     },
     "execution_count": 17,
     "metadata": {},
     "output_type": "execute_result"
    }
   ],
   "source": [
    "flowlines_merged['geometry'] = flowlines_merged['geometry'].apply(strip_z_line)\n",
    "print(\"Has Z axis: \", flowlines_merged.geometry.apply(lambda z: z.has_z).value_counts())\n",
    "flowlines_merged.head()"
   ]
  },
  {
   "cell_type": "markdown",
   "id": "b16e0d5a",
   "metadata": {},
   "source": [
    "Finally, let's drop missing geometries and validate."
   ]
  },
  {
   "cell_type": "code",
   "execution_count": 19,
   "id": "cc42af53",
   "metadata": {},
   "outputs": [
    {
     "name": "stdout",
     "output_type": "stream",
     "text": [
      "Rows before validation:  995471\n",
      "Rows after validation:  995471\n"
     ]
    }
   ],
   "source": [
    "print(\"Rows before validation: \", flowlines_merged.shape[0])\n",
    "flowlines_validated = drop_missing_geometry(flowlines_merged)\n",
    "flowlines_validated = validate_geometry(flowlines_validated)\n",
    "print(\"Rows after validation: \", flowlines_validated.shape[0])"
   ]
  },
  {
   "cell_type": "markdown",
   "id": "12a26350",
   "metadata": {},
   "source": [
    "**Exporting Data**\n",
    "\n",
    "Our flowline data is fully cleaned and merged! Let's export to data/interim for further use. This file (flowline_clean) is marked for display, so will also be exported to data/processed for display in visualization."
   ]
  },
  {
   "cell_type": "code",
   "execution_count": 20,
   "id": "46a34b06",
   "metadata": {},
   "outputs": [
    {
     "name": "stdout",
     "output_type": "stream",
     "text": [
      "Saved to interim: /Users/loganproffitt/Desktop/CampGIS.nosync/Repo/CampGIS/data/interim/flowline_clean.gpkg\n",
      "Also saved to processed: /Users/loganproffitt/Desktop/CampGIS.nosync/Repo/CampGIS/data/processed/flowline_clean.gpkg\n"
     ]
    }
   ],
   "source": [
    "export_interim(flowlines_validated, \"flowline_clean\", driver=\"GPKG\", verbose=True)"
   ]
  }
 ],
 "metadata": {
  "kernelspec": {
   "display_name": "venv",
   "language": "python",
   "name": "python3"
  },
  "language_info": {
   "codemirror_mode": {
    "name": "ipython",
    "version": 3
   },
   "file_extension": ".py",
   "mimetype": "text/x-python",
   "name": "python",
   "nbconvert_exporter": "python",
   "pygments_lexer": "ipython3",
   "version": "3.11.8"
  }
 },
 "nbformat": 4,
 "nbformat_minor": 5
}
