{
 "cells": [
  {
   "cell_type": "code",
   "execution_count": null,
   "id": "d2fe8ed2",
   "metadata": {},
   "outputs": [],
   "source": [
    "# MVUM Road Buffering\n",
    "\n",
    "%run ../bootstrap.py\n",
    "setup_project_path()\n",
    "\n",
    "from scripts.io_helpers import read_interim_layer, export_interim\n",
    "from scripts.data_helpers import to_buffer_crs\n",
    "from scripts import data_config as dc\n",
    "\n",
    "# Step 1: Load cleaned MVUM data\n",
    "gdf = read_interim_layer(\"mvum_clean\")\n",
    "\n",
    "# Step 2: Ensure correct CRS (just in case)\n",
    "gdf_projected = to_buffer_crs(gdf)\n",
    "\n",
    "# Step 3: Buffer\n",
    "gdf_buffered = gdf_projected.copy()\n",
    "gdf_buffered[\"geometry\"] = gdf_buffered.geometry.buffer(dc.BUFFER_SETTINGS_METERS[\"road\"])\n",
    "\n",
    "# Step 4: Export to processed\n",
    "export_interim(gdf_buffered, \"mvum_buffered\", driver=\"GPKG\", verbose=True)\n"
   ]
  }
 ],
 "metadata": {
  "kernelspec": {
   "display_name": "venv",
   "language": "python",
   "name": "python3"
  },
  "language_info": {
   "codemirror_mode": {
    "name": "ipython",
    "version": 3
   },
   "file_extension": ".py",
   "mimetype": "text/x-python",
   "name": "python",
   "nbconvert_exporter": "python",
   "pygments_lexer": "ipython3",
   "version": "3.11.8"
  }
 },
 "nbformat": 4,
 "nbformat_minor": 5
}
