{
 "cells": [
  {
   "cell_type": "markdown",
   "id": "02aac85f",
   "metadata": {},
   "source": [
    "**Hydrology Data Cleaning**"
   ]
  },
  {
   "cell_type": "code",
   "execution_count": 3,
   "id": "73e9b873",
   "metadata": {},
   "outputs": [],
   "source": [
    "import geopandas as gpd\n",
    "import sys\n",
    "from pathlib import Path\n",
    "import fiona\n",
    "\n",
    "notebook_path = Path.cwd()\n",
    "project_root = notebook_path.parent\n",
    "sys.path.append(str(project_root))\n",
    "\n",
    "\n",
    "from scripts import config"
   ]
  },
  {
   "cell_type": "markdown",
   "id": "5b871a95",
   "metadata": {},
   "source": [
    "Let's take a look at the layers."
   ]
  },
  {
   "cell_type": "code",
   "execution_count": 4,
   "id": "c2141b19",
   "metadata": {},
   "outputs": [
    {
     "name": "stdout",
     "output_type": "stream",
     "text": [
      "NHDPlusGageSmooth\n",
      "NHDPlusFlow\n",
      "NHDArea\n",
      "NHDLine\n",
      "NHDPlusBoundaryUnit\n",
      "NHDPlusCatchment\n",
      "NHDPlusGage\n",
      "NHDPlusSink\n",
      "NHDPlusWall\n",
      "NHDPoint\n",
      "NHDWaterbody\n",
      "NonNetworkNHDFlowline\n",
      "WBDHU12\n",
      "NHDPlusConnect\n",
      "NetworkNHDFlowline\n"
     ]
    }
   ],
   "source": [
    "gdb_path = config.RAW_DATA_PATH / \"NHDPlus_H_National_Release_2_GDB\" / \"NHDPlus_H_National_Release_2.gdb\"\n",
    "\n",
    "layers = fiona.listlayers(gdb_path)\n",
    "for layer in layers:\n",
    "    print(layer)"
   ]
  },
  {
   "cell_type": "markdown",
   "id": "f25741e0",
   "metadata": {},
   "source": [
    "From these layers, we want NHDNHDArea for polygon data, and NetworkNHDFlowline and NonNetworkNHDFlowline for line info. We can merge the two respective layers for each type once cleaned."
   ]
  },
  {
   "cell_type": "code",
   "execution_count": null,
   "id": "17a97cbd",
   "metadata": {},
   "outputs": [
    {
     "name": "stderr",
     "output_type": "stream",
     "text": [
      "/Users/loganproffitt/Desktop/CampGIS.nosync/Repo/CampGIS/venv/lib/python3.11/site-packages/pyogrio/raw.py:198: UserWarning: Measured (M) geometry types are not supported. Original type 'Measured 3D MultiLineString' is converted to 'MultiLineString Z'\n",
      "  return ogr_read(\n",
      "/Users/loganproffitt/Desktop/CampGIS.nosync/Repo/CampGIS/venv/lib/python3.11/site-packages/pyogrio/geopandas.py:275: UserWarning: More than one layer found in 'NHDPlus_H_National_Release_2.gdb': 'NHDPlusGageSmooth' (default), 'NHDPlusFlow', 'NHDArea', 'NHDLine', 'NHDPlusBoundaryUnit', 'NHDPlusCatchment', 'NHDPlusGage', 'NHDPlusSink', 'NHDPlusWall', 'NHDPoint', 'NHDWaterbody', 'NonNetworkNHDFlowline', 'WBDHU12', 'NHDPlusConnect', 'NetworkNHDFlowline'. Specify layer parameter to avoid this warning.\n",
      "  result = read_func(\n"
     ]
    },
    {
     "name": "stdout",
     "output_type": "stream",
     "text": [
      "Columns: ['gageid', 'year', 'month', 'ave', 'completere']\n"
     ]
    },
    {
     "data": {
      "text/html": [
       "<div>\n",
       "<style scoped>\n",
       "    .dataframe tbody tr th:only-of-type {\n",
       "        vertical-align: middle;\n",
       "    }\n",
       "\n",
       "    .dataframe tbody tr th {\n",
       "        vertical-align: top;\n",
       "    }\n",
       "\n",
       "    .dataframe thead th {\n",
       "        text-align: right;\n",
       "    }\n",
       "</style>\n",
       "<table border=\"1\" class=\"dataframe\">\n",
       "  <thead>\n",
       "    <tr style=\"text-align: right;\">\n",
       "      <th></th>\n",
       "      <th>gageid</th>\n",
       "      <th>year</th>\n",
       "      <th>month</th>\n",
       "      <th>ave</th>\n",
       "      <th>completere</th>\n",
       "    </tr>\n",
       "  </thead>\n",
       "  <tbody>\n",
       "    <tr>\n",
       "      <th>0</th>\n",
       "      <td>01010000</td>\n",
       "      <td>1970</td>\n",
       "      <td>MA</td>\n",
       "      <td>2114.28</td>\n",
       "      <td>1</td>\n",
       "    </tr>\n",
       "    <tr>\n",
       "      <th>1</th>\n",
       "      <td>01010000</td>\n",
       "      <td>1971</td>\n",
       "      <td>MA</td>\n",
       "      <td>2173.72</td>\n",
       "      <td>1</td>\n",
       "    </tr>\n",
       "    <tr>\n",
       "      <th>2</th>\n",
       "      <td>01010000</td>\n",
       "      <td>1972</td>\n",
       "      <td>MA</td>\n",
       "      <td>2754.22</td>\n",
       "      <td>1</td>\n",
       "    </tr>\n",
       "    <tr>\n",
       "      <th>3</th>\n",
       "      <td>01010000</td>\n",
       "      <td>1973</td>\n",
       "      <td>MA</td>\n",
       "      <td>3056.51</td>\n",
       "      <td>1</td>\n",
       "    </tr>\n",
       "    <tr>\n",
       "      <th>4</th>\n",
       "      <td>01010000</td>\n",
       "      <td>1974</td>\n",
       "      <td>MA</td>\n",
       "      <td>2475.07</td>\n",
       "      <td>1</td>\n",
       "    </tr>\n",
       "  </tbody>\n",
       "</table>\n",
       "</div>"
      ],
      "text/plain": [
       "     gageid  year month      ave  completere\n",
       "0  01010000  1970    MA  2114.28           1\n",
       "1  01010000  1971    MA  2173.72           1\n",
       "2  01010000  1972    MA  2754.22           1\n",
       "3  01010000  1973    MA  3056.51           1\n",
       "4  01010000  1974    MA  2475.07           1"
      ]
     },
     "execution_count": 2,
     "metadata": {},
     "output_type": "execute_result"
    }
   ],
   "source": [
    "nhd_area = gpd.read_file(gdb_path, layer=\"NHDArea\")\n",
    "print(\"Columns:\", nhd_area.columns.tolist())\n",
    "nhd_area.head()"
   ]
  },
  {
   "cell_type": "code",
   "execution_count": null,
   "id": "020c0cce",
   "metadata": {},
   "outputs": [],
   "source": []
  }
 ],
 "metadata": {
  "kernelspec": {
   "display_name": "venv",
   "language": "python",
   "name": "python3"
  },
  "language_info": {
   "codemirror_mode": {
    "name": "ipython",
    "version": 3
   },
   "file_extension": ".py",
   "mimetype": "text/x-python",
   "name": "python",
   "nbconvert_exporter": "python",
   "pygments_lexer": "ipython3",
   "version": "3.11.8"
  }
 },
 "nbformat": 4,
 "nbformat_minor": 5
}
