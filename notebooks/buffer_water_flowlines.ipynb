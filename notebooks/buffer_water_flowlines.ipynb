{
 "cells": [
  {
   "cell_type": "markdown",
   "id": "1831f2b6",
   "metadata": {},
   "source": [
    "**Buffer Water Flowlines**"
   ]
  },
  {
   "cell_type": "code",
   "execution_count": null,
   "id": "121e4bb6",
   "metadata": {},
   "outputs": [],
   "source": [
    "import geopandas as gpd\n",
    "import sys\n",
    "from pathlib import Path\n",
    "\n",
    "notebook_path = Path.cwd()\n",
    "project_root = notebook_path.parent\n",
    "sys.path.append(str(project_root))\n",
    "\n",
    "from scripts import config"
   ]
  },
  {
   "cell_type": "markdown",
   "id": "ff87e2ff",
   "metadata": {},
   "source": [
    "Let's inspect the data."
   ]
  },
  {
   "cell_type": "code",
   "execution_count": null,
   "id": "f25e82ed",
   "metadata": {},
   "outputs": [],
   "source": [
    "# Load dataset\n",
    "gdf = gpd.read_file(config.GDB_PATH, layer=\"Water_Flow_CO\")\n",
    "\n",
    "print(gdf.columns.tolist())\n",
    "gdf.head()\n"
   ]
  },
  {
   "cell_type": "markdown",
   "id": "30da2c5a",
   "metadata": {},
   "source": [
    "First of all, let's drop all unnecessary columns."
   ]
  },
  {
   "cell_type": "code",
   "execution_count": null,
   "id": "8c93bcec",
   "metadata": {},
   "outputs": [],
   "source": [
    "gdf_filtered = gdf[[\"geometry\", \"permanent_Identifier\", \"flowdir\", \"Shape_Length\"]]\n",
    "gdf_filtered.head()"
   ]
  },
  {
   "cell_type": "markdown",
   "id": "2042e35f",
   "metadata": {},
   "source": [
    "For our purposes, we don't really need elevation in the geometry (multilinestring Z); if we really need elevation, we can get that from a separate elevation layer. The Z coordinates might be messing with gpkg exporting, so let's drop it."
   ]
  },
  {
   "cell_type": "code",
   "execution_count": null,
   "id": "12d0d807",
   "metadata": {},
   "outputs": [],
   "source": [
    "from shapely.geometry import LineString, MultiLineString\n",
    "\n",
    "def drop_z(geom):\n",
    "    if geom is None:\n",
    "        return None\n",
    "    if geom.has_z:\n",
    "        if isinstance(geom, LineString):\n",
    "            return LineString([(pt[0], pt[1]) for pt in geom.coords])\n",
    "        elif isinstance(geom, MultiLineString):\n",
    "            return MultiLineString([\n",
    "                LineString([(pt[0], pt[1]) for pt in line.coords])\n",
    "                for line in geom.geoms\n",
    "            ])\n",
    "    return geom\n",
    "\n",
    "gdf_drop_z = gdf_filtered.copy()\n",
    "gdf_drop_z[\"geometry\"] = gdf_filtered[\"geometry\"].apply(drop_z)\n",
    "gdf_drop_z.head()"
   ]
  },
  {
   "cell_type": "markdown",
   "id": "c7789ac3",
   "metadata": {},
   "source": [
    "Let's do some cleaning. First, we need to project to the right CRS, then check for empty/invalid geometries. There's also a weird UUID entry in permanent_Identifier - let's cast that field to string just in case. Finally, let's rebuffer the geometry and simplify with a tolerance of 1 to ensure exporting goes smoothly."
   ]
  },
  {
   "cell_type": "code",
   "execution_count": null,
   "id": "6f08df5a",
   "metadata": {},
   "outputs": [],
   "source": [
    "print(\"Initial count:\", len(gdf))\n",
    "\n",
    "# Remove invalid or empty geometries\n",
    "gdf_drop_z = gdf_drop_z[~gdf.geometry.is_empty & gdf.geometry.is_valid]\n",
    "print(\"After validity check:\", len(gdf))\n",
    "\n",
    "gdf_drop_z[\"permanent_Identifier\"] = gdf_drop_z[\"permanent_Identifier\"].astype(str)\n"
   ]
  },
  {
   "cell_type": "markdown",
   "id": "d4e1b46a",
   "metadata": {},
   "source": [
    "**Project to CRS and Buffer**\n",
    "\n",
    "First, let's project to a common CRS."
   ]
  },
  {
   "cell_type": "code",
   "execution_count": null,
   "id": "043ac319",
   "metadata": {},
   "outputs": [],
   "source": [
    "gdf_projected = gdf_drop_z.to_crs(config.BUFFER_CRS)\n"
   ]
  },
  {
   "cell_type": "markdown",
   "id": "49b575bc",
   "metadata": {},
   "source": [
    "Now, let's buffer by the distance specified in config.py."
   ]
  },
  {
   "cell_type": "code",
   "execution_count": null,
   "id": "197ae013",
   "metadata": {},
   "outputs": [],
   "source": [
    "gdf_buffered = gdf_projected.copy()\n",
    "gdf_buffered = gdf_buffered.set_geometry(gdf_buffered.geometry.buffer(config.BUFFER_DISTANCE_WATER_METERS))\n",
    "gdf_buffered.head()"
   ]
  },
  {
   "cell_type": "markdown",
   "id": "5af798ea",
   "metadata": {},
   "source": [
    "Let's convert all polygons to multipolygons to ensure consistent typing."
   ]
  },
  {
   "cell_type": "code",
   "execution_count": null,
   "id": "49256a06",
   "metadata": {},
   "outputs": [],
   "source": [
    "from shapely.geometry import MultiPolygon, Polygon\n",
    "\n",
    "def ensure_multipolygon(geom):\n",
    "    if geom is None or geom.is_empty:\n",
    "        return geom\n",
    "    if isinstance(geom, Polygon):\n",
    "        return MultiPolygon([geom])\n",
    "    elif isinstance(geom, MultiPolygon):\n",
    "        return geom\n",
    "    return geom  # In case something unexpected sneaks in\n",
    "\n",
    "gdf_multipoly = gdf_buffered.copy()\n",
    "gdf_multipoly[\"geometry\"] = gdf_multipoly[\"geometry\"].apply(ensure_multipolygon)"
   ]
  },
  {
   "cell_type": "markdown",
   "id": "ec13107f",
   "metadata": {},
   "source": [
    "Now let's export the data."
   ]
  },
  {
   "cell_type": "code",
   "execution_count": null,
   "id": "0720df4f",
   "metadata": {},
   "outputs": [],
   "source": [
    "output_folder = config.OUTPUT_DIR / \"water_flowlines_buffered\"\n",
    "output_folder.mkdir(parents=True, exist_ok=True)\n",
    "\n",
    "output_fp = output_folder / \"water_flowlines_buffered.gpkg\"\n",
    "gdf_multipoly.to_file(output_fp, driver=\"GPKG\")\n",
    "\n",
    "print(\"Saved buffered flowlines to:\", output_fp)"
   ]
  }
 ],
 "metadata": {
  "kernelspec": {
   "display_name": "venv",
   "language": "python",
   "name": "python3"
  },
  "language_info": {
   "codemirror_mode": {
    "name": "ipython",
    "version": 3
   },
   "file_extension": ".py",
   "mimetype": "text/x-python",
   "name": "python",
   "nbconvert_exporter": "python",
   "pygments_lexer": "ipython3",
   "version": "3.11.8"
  }
 },
 "nbformat": 4,
 "nbformat_minor": 5
}
