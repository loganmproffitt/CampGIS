{
 "cells": [
  {
   "cell_type": "markdown",
   "id": "5689ea78",
   "metadata": {},
   "source": [
    "**Land Ownership Cleaning**"
   ]
  },
  {
   "cell_type": "code",
   "execution_count": null,
   "id": "3bb87cfa",
   "metadata": {},
   "outputs": [],
   "source": [
    "import geopandas as gpd\n",
    "import sys\n",
    "from pathlib import Path\n",
    "\n",
    "notebook_path = Path.cwd()\n",
    "project_root = notebook_path.parent\n",
    "sys.path.append(str(project_root))\n",
    "\n",
    "\n",
    "from scripts import config"
   ]
  },
  {
   "cell_type": "markdown",
   "id": "bed0d7a2",
   "metadata": {},
   "source": [
    "Let's load and take a look at the data."
   ]
  },
  {
   "cell_type": "code",
   "execution_count": null,
   "id": "15ca1995",
   "metadata": {},
   "outputs": [],
   "source": [
    "gdf = gpd.read_file(config.RAW_DATA_PATH / \"PADUS4_1_State_CO_GDB_KMZ\" / \"PADUS4_1_StateCO.gdb\")\n",
    "print(\"Columns:\", gdf.columns.tolist())\n",
    "print(\"State names: \", gdf['State_Nm'].unique())"
   ]
  },
  {
   "cell_type": "markdown",
   "id": "9bf41bb8",
   "metadata": {},
   "source": [
    "Data is already isolated to CO — if we want other states in the future, we can link to the full U.S. dataset and select desired states.\n",
    "\n",
    "Let's filter down to useful columns."
   ]
  },
  {
   "cell_type": "code",
   "execution_count": null,
   "id": "16b141c2",
   "metadata": {},
   "outputs": [],
   "source": [
    "columns_keep = [\n",
    "    \"Mang_Name\",\n",
    "    \"Loc_Mang\",\n",
    "    \"Unit_Nm\",\n",
    "    \"Loc_Nm\",\n",
    "    \"Des_Tp\",\n",
    "    \"Pub_Access\",\n",
    "    \"Own_Name\",\n",
    "    \"State_Nm\",\n",
    "    'Shape_Length', \n",
    "    'Shape_Area',\n",
    "    \"geometry\"\n",
    "]\n",
    "\n",
    "gdf_cols = gdf[columns_keep]\n",
    "gdf_cols.head()\n"
   ]
  },
  {
   "cell_type": "markdown",
   "id": "2fca527e",
   "metadata": {},
   "source": [
    "Now, we want to filter on relevant land managers. Even if a piece of land is owned by a relevant owner, management determines local camping legality, so we'll filter on manager name."
   ]
  },
  {
   "cell_type": "code",
   "execution_count": null,
   "id": "0fc23e32",
   "metadata": {},
   "outputs": [],
   "source": [
    "print(\"Manager names: \\n\", gdf_cols['Mang_Name'].unique())"
   ]
  },
  {
   "cell_type": "markdown",
   "id": "4cd29894",
   "metadata": {},
   "source": [
    "From this list, we want to keep BLM, USFS, NPS, and CNTY."
   ]
  },
  {
   "cell_type": "code",
   "execution_count": null,
   "id": "84c2a2ce",
   "metadata": {},
   "outputs": [],
   "source": [
    "managers_keep = [\n",
    "    'BLM',\n",
    "    'USFS',\n",
    "    'NPS',\n",
    "    'CNTY'\n",
    "]\n",
    "\n",
    "gdf_filtered = gdf_cols[gdf_cols['Mang_Name'].isin(managers_keep)]\n",
    "gdf_filtered.head()"
   ]
  },
  {
   "cell_type": "markdown",
   "id": "7a4ad6f2",
   "metadata": {},
   "source": [
    "Let's make sure all geometries have the same type:"
   ]
  },
  {
   "cell_type": "code",
   "execution_count": null,
   "id": "bfa7fcf8",
   "metadata": {},
   "outputs": [],
   "source": [
    "print(\"Geometry types:\", gdf_filtered.geom_type.unique())"
   ]
  },
  {
   "cell_type": "markdown",
   "id": "8c645620",
   "metadata": {},
   "source": [
    "All good. Let's project to the common CRS for future intersections."
   ]
  },
  {
   "cell_type": "code",
   "execution_count": null,
   "id": "8cd1bebc",
   "metadata": {},
   "outputs": [],
   "source": [
    "gdf_filtered = gdf_filtered.to_crs(config.BUFFER_CRS)"
   ]
  },
  {
   "cell_type": "markdown",
   "id": "a695f6b4",
   "metadata": {},
   "source": [
    "Finally, let's fix invalid shapes."
   ]
  },
  {
   "cell_type": "code",
   "execution_count": null,
   "id": "103c42a9",
   "metadata": {},
   "outputs": [],
   "source": [
    "# Identify invalid shapes\n",
    "invalid = ~gdf_filtered.is_valid\n",
    "print(f\"Invalid geometries: {invalid.sum()}\")\n",
    "\n",
    "# Only fix those\n",
    "gdf_filtered.loc[invalid, \"geometry\"] = gdf_filtered.loc[invalid, \"geometry\"].buffer(0)\n"
   ]
  },
  {
   "cell_type": "markdown",
   "id": "2f0349e4",
   "metadata": {},
   "source": [
    "Ready to export!"
   ]
  },
  {
   "cell_type": "code",
   "execution_count": null,
   "id": "76544139",
   "metadata": {},
   "outputs": [],
   "source": [
    "output_folder = config.OUTPUT_DIR / \"land_ownership_cleaned\"\n",
    "output_folder.mkdir(parents=True, exist_ok=True)\n",
    "\n",
    "output_fp = output_folder / \"land_ownership_cleaned.gpkg\"\n",
    "gdf_filtered.to_file(output_fp, driver=\"GPKG\")\n",
    "\n",
    "print(\"Cleaned land ownership data exported to: \", output_fp)"
   ]
  }
 ],
 "metadata": {
  "kernelspec": {
   "display_name": "venv",
   "language": "python",
   "name": "python3"
  },
  "language_info": {
   "codemirror_mode": {
    "name": "ipython",
    "version": 3
   },
   "file_extension": ".py",
   "mimetype": "text/x-python",
   "name": "python",
   "nbconvert_exporter": "python",
   "pygments_lexer": "ipython3",
   "version": "3.11.8"
  }
 },
 "nbformat": 4,
 "nbformat_minor": 5
}
